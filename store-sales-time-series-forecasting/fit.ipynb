{
 "cells": [
  {
   "cell_type": "markdown",
   "id": "33424b31",
   "metadata": {},
   "source": [
    "https://www.kaggle.com/competitions/store-sales-time-series-forecasting"
   ]
  },
  {
   "cell_type": "code",
   "execution_count": 1,
   "id": "23f25064",
   "metadata": {},
   "outputs": [
    {
     "name": "stderr",
     "output_type": "stream",
     "text": [
      "C:\\Users\\Fury\\AppData\\Roaming\\Python\\Python39\\site-packages\\pandas\\core\\computation\\expressions.py:21: UserWarning: Pandas requires version '2.8.4' or newer of 'numexpr' (version '2.8.1' currently installed).\n",
      "  from pandas.core.computation.check import NUMEXPR_INSTALLED\n",
      "C:\\Users\\Fury\\AppData\\Roaming\\Python\\Python39\\site-packages\\pandas\\core\\arrays\\masked.py:60: UserWarning: Pandas requires version '1.3.6' or newer of 'bottleneck' (version '1.3.4' currently installed).\n",
      "  from pandas.core import (\n"
     ]
    }
   ],
   "source": [
    "import pandas as pd\n",
    "import numpy as np\n",
    "import itertools\n",
    "\n",
    "import seaborn as sns\n",
    "import matplotlib.pyplot as plt\n",
    "\n",
    "from sklearn.metrics import r2_score, mean_squared_error, mean_absolute_error, mean_squared_log_error\n",
    "from sklearn.model_selection import train_test_split\n",
    "\n",
    "from catboost import CatBoostRegressor\n",
    "from catboost import cv, Pool\n",
    "\n",
    "import optuna"
   ]
  },
  {
   "cell_type": "code",
   "execution_count": 2,
   "id": "f84bbd16",
   "metadata": {},
   "outputs": [
    {
     "name": "stdout",
     "output_type": "stream",
     "text": [
      "CPU times: total: 1.25 s\n",
      "Wall time: 1.24 s\n"
     ]
    }
   ],
   "source": [
    "%%time\n",
    "train_df = pd.read_csv('train.csv')\n",
    "test_df = pd.read_csv('test.csv')\n",
    "\n",
    "holidays_events = pd.read_csv('holidays_events.csv')\n",
    "oil_df = pd.read_csv('oil.csv')\n",
    "stores_df = pd.read_csv('stores.csv')\n",
    "# transactions_df = pd.read_csv('transactions.csv')"
   ]
  },
  {
   "cell_type": "markdown",
   "id": "827e9f18",
   "metadata": {},
   "source": [
    "### data cleaning"
   ]
  },
  {
   "cell_type": "code",
   "execution_count": 3,
   "id": "f1f99263",
   "metadata": {},
   "outputs": [],
   "source": [
    "def preprocess(df):\n",
    "    \n",
    "    df_l = df.copy()\n",
    "    \n",
    "    df_l = df_l.merge(stores_df,\n",
    "                      on='store_nbr',\n",
    "                      how='left',\n",
    "                      validate='m:1').rename(columns={'type': 'store_type'})\n",
    "\n",
    "    df_l = df_l.merge(holidays_events.drop_duplicates(subset=['date', 'locale_name']),\n",
    "                      left_on=['date', 'city'],\n",
    "                      right_on=['date', 'locale_name'],\n",
    "                      how='left', validate='m:1').rename(columns={'type': 'holiday_type'})\n",
    "\n",
    "    df_l = df_l.merge(oil_df, on='date', how='left', validate='m:1')\n",
    "    \n",
    "    df_l = df_l.drop(['locale', 'locale_name', 'description', 'transferred'], axis=1)\n",
    "    \n",
    "    df_l['dcoilwtico'] = df_l['dcoilwtico'].fillna(method='ffill').fillna(method='bfill')\n",
    "    df_l['holiday_type'] = np.where(df_l['holiday_type'].isin(['Holiday', 'Additional']), 1, 0)\n",
    "    \n",
    "    df_l['date'] = pd.to_datetime(df_l['date'])\n",
    "    \n",
    "    return df_l"
   ]
  },
  {
   "cell_type": "code",
   "execution_count": 4,
   "id": "30067747",
   "metadata": {},
   "outputs": [
    {
     "name": "stderr",
     "output_type": "stream",
     "text": [
      "C:\\Users\\Fury\\AppData\\Local\\Temp\\ipykernel_25812\\2485515357.py:19: FutureWarning: Series.fillna with 'method' is deprecated and will raise in a future version. Use obj.ffill() or obj.bfill() instead.\n",
      "  df_l['dcoilwtico'] = df_l['dcoilwtico'].fillna(method='ffill').fillna(method='bfill')\n",
      "C:\\Users\\Fury\\AppData\\Local\\Temp\\ipykernel_25812\\2485515357.py:19: FutureWarning: Series.fillna with 'method' is deprecated and will raise in a future version. Use obj.ffill() or obj.bfill() instead.\n",
      "  df_l['dcoilwtico'] = df_l['dcoilwtico'].fillna(method='ffill').fillna(method='bfill')\n"
     ]
    }
   ],
   "source": [
    "train_df = preprocess(train_df)\n",
    "test_df = preprocess(test_df)"
   ]
  },
  {
   "cell_type": "markdown",
   "id": "7b9b41ca",
   "metadata": {},
   "source": [
    "# Month predict"
   ]
  },
  {
   "cell_type": "code",
   "execution_count": 5,
   "id": "dba38b8a",
   "metadata": {},
   "outputs": [],
   "source": [
    "train_df_month_sales = pd.concat([train_df, test_df], ignore_index=True)\n",
    "# train_df_month_sales = train_df_month_sales[train_df_month_sales['date']<'2017-08-01']"
   ]
  },
  {
   "cell_type": "code",
   "execution_count": 6,
   "id": "050a0407",
   "metadata": {},
   "outputs": [],
   "source": [
    "GROUP_COLS = ['date', 'city', 'state', 'store_type', 'cluster', 'store_nbr', 'family']"
   ]
  },
  {
   "cell_type": "code",
   "execution_count": null,
   "id": "44e72240",
   "metadata": {},
   "outputs": [],
   "source": []
  },
  {
   "cell_type": "code",
   "execution_count": 7,
   "id": "b15d00ef",
   "metadata": {},
   "outputs": [],
   "source": [
    "def group_data(df):\n",
    "    \n",
    "    df['date'] = df['date'].apply(lambda x: x.replace(day=1))\n",
    "    \n",
    "    df = df.groupby(GROUP_COLS, as_index=False).agg(\n",
    "                                            sales=('sales', 'sum'),\n",
    "                                            onpromotion=('onpromotion', 'sum'),\n",
    "                                            dcoilwtico_mean=('dcoilwtico', 'mean'))\n",
    "    \n",
    "    return df"
   ]
  },
  {
   "cell_type": "code",
   "execution_count": 8,
   "id": "57a884bf",
   "metadata": {},
   "outputs": [],
   "source": [
    "train_df_month_sale_gr = group_data(train_df_month_sales)"
   ]
  },
  {
   "cell_type": "code",
   "execution_count": null,
   "id": "d377dcde",
   "metadata": {},
   "outputs": [],
   "source": []
  },
  {
   "cell_type": "code",
   "execution_count": 9,
   "id": "0ead9636",
   "metadata": {},
   "outputs": [],
   "source": [
    "def add_time_related_features(df):\n",
    "    \n",
    "    df['year'] = df['date'].dt.year\n",
    "    df['quarter'] = df['date'].dt.quarter\n",
    "    df['month'] = df['date'].dt.month\n",
    "\n",
    "    return df"
   ]
  },
  {
   "cell_type": "code",
   "execution_count": 10,
   "id": "8d39240a",
   "metadata": {},
   "outputs": [],
   "source": [
    "train_df_month_sale_gr = add_time_related_features(train_df_month_sale_gr)"
   ]
  },
  {
   "cell_type": "code",
   "execution_count": null,
   "id": "3c3bf1ba",
   "metadata": {},
   "outputs": [],
   "source": []
  },
  {
   "cell_type": "code",
   "execution_count": 21,
   "id": "b10a5e2a",
   "metadata": {},
   "outputs": [],
   "source": [
    "def create_time_series_features(df):\n",
    "    \n",
    "    group_cols = [x for x in GROUP_COLS if x != 'date']\n",
    "    \n",
    "    # lags\n",
    "    for lag in [1, 2, 12]:\n",
    "        df[f'sales_lag_{lag}'] = df.groupby(group_cols)['sales'].shift(lag)\n",
    "        \n",
    "    # rolling\n",
    "    for window in [3, 6]:\n",
    "        df[f'sales_roll_mean_{window}'] = (df.groupby(group_cols)['sales']\n",
    "                                           .apply(lambda x: x.shift(1).rolling(window=window).mean())).values\n",
    "        df[f'sales_roll_std_{window}'] = (df.groupby(group_cols)['sales']\n",
    "                                           .apply(lambda x: x.shift(1).rolling(window=window).std())).values\n",
    "        \n",
    "    # trends\n",
    "    #df['sales_trend_1'] = df.groupby(group_cols)['sales'].apply(lambda x: x.shift(1).diff(1) / x.shift(2).replace(0, np.nan))\n",
    "    #df['sales_trend_12'] = df.groupby(group_cols)['sales'].apply(lambda x: x.shift(1).diff(12) / x.shift(12).replace(0, np.nan))\n",
    "    \n",
    "    return df"
   ]
  },
  {
   "cell_type": "code",
   "execution_count": 22,
   "id": "443e6b8a",
   "metadata": {},
   "outputs": [],
   "source": [
    "train_df_month_sale_gr = create_time_series_features(train_df_month_sale_gr)"
   ]
  },
  {
   "cell_type": "code",
   "execution_count": null,
   "id": "1ac7ddfa",
   "metadata": {},
   "outputs": [],
   "source": []
  },
  {
   "cell_type": "code",
   "execution_count": 23,
   "id": "c117e42f",
   "metadata": {},
   "outputs": [],
   "source": [
    "train_df_month_sale_gr = train_df_month_sale_gr[train_df_month_sale_gr.notna().all(axis=1)]\n",
    "train_df_month_sale_gr = train_df_month_sale_gr[train_df_month_sale_gr['sales']!=0]"
   ]
  },
  {
   "cell_type": "code",
   "execution_count": null,
   "id": "2678d252",
   "metadata": {},
   "outputs": [],
   "source": []
  },
  {
   "cell_type": "markdown",
   "id": "352eec43",
   "metadata": {},
   "source": [
    "## fit month model"
   ]
  },
  {
   "cell_type": "code",
   "execution_count": 24,
   "id": "89940cd7",
   "metadata": {},
   "outputs": [],
   "source": [
    "TRAIN_COLS = ['city', 'state', 'store_type', 'cluster', 'store_nbr', 'family',\n",
    "              'onpromotion', 'dcoilwtico_mean',\n",
    "              'year', 'quarter', 'month',\n",
    "              'sales_lag_1', 'sales_lag_2', 'sales_lag_12',\n",
    "              'sales_roll_mean_3', 'sales_roll_std_3', 'sales_roll_mean_6', 'sales_roll_std_6']\n",
    "\n",
    "CAT_COLS = ['city', 'state', 'store_type', 'cluster', 'store_nbr', 'family']\n",
    "\n",
    "TARGET_COL = 'sales'"
   ]
  },
  {
   "cell_type": "code",
   "execution_count": 25,
   "id": "133d0395",
   "metadata": {},
   "outputs": [],
   "source": [
    "TEST_DATES = ('2017-05-01', '2017-07-01')\n",
    "\n",
    "CV_DATES = [('2016-08-01', '2016-10-01'),\n",
    "            ('2016-11-01', '2017-01-01'),\n",
    "            ('2017-02-01', '2017-04-01')]"
   ]
  },
  {
   "cell_type": "code",
   "execution_count": null,
   "id": "e42331ef",
   "metadata": {},
   "outputs": [],
   "source": []
  },
  {
   "cell_type": "code",
   "execution_count": 26,
   "id": "1b6a6099",
   "metadata": {},
   "outputs": [],
   "source": [
    "# train / teest set\n",
    "X_train = train_df_month_sale_gr[train_df_month_sale_gr['date']<TEST_DATES[0]]\n",
    "y_train = train_df_month_sale_gr[train_df_month_sale_gr['date']<TEST_DATES[0]][TARGET_COL]\n",
    "\n",
    "X_test = train_df_month_sale_gr[train_df_month_sale_gr['date'].between(TEST_DATES[0], TEST_DATES[1])]\n",
    "y_test = train_df_month_sale_gr[train_df_month_sale_gr['date'].between(TEST_DATES[0], TEST_DATES[1])][TARGET_COL]"
   ]
  },
  {
   "cell_type": "code",
   "execution_count": null,
   "id": "d4875de7",
   "metadata": {},
   "outputs": [],
   "source": []
  },
  {
   "cell_type": "code",
   "execution_count": 27,
   "id": "b3af848a",
   "metadata": {},
   "outputs": [],
   "source": [
    "# cv indexes\n",
    "cv_index = []\n",
    "\n",
    "for start, end in CV_DATES:    \n",
    "    cv_index = cv_index + [(X_train[X_train['date']<start].index, X_train[X_train['date'].between(start, end)].index)]"
   ]
  },
  {
   "cell_type": "code",
   "execution_count": null,
   "id": "bf0f7ce3",
   "metadata": {},
   "outputs": [],
   "source": []
  },
  {
   "cell_type": "code",
   "execution_count": 28,
   "id": "e2c33aaf",
   "metadata": {},
   "outputs": [],
   "source": [
    "def objective(trial):\n",
    "    \n",
    "    # model params\n",
    "    params = {\n",
    "        'loss_function': 'RMSE',\n",
    "        'eval_metric': 'RMSE',\n",
    "        \n",
    "        'task_type': 'GPU',\n",
    "        'devices':'0',\n",
    "        \n",
    "        'random_seed': 42,\n",
    "        'cat_features': CAT_COLS,\n",
    "        'verbose': 0,\n",
    "        \n",
    "        'iterations': 3000,\n",
    "        'early_stopping_rounds': 100,\n",
    "        \n",
    "        'depth': trial.suggest_int('depth', 4, 12),\n",
    "        \n",
    "        'learning_rate': trial.suggest_float('learning_rate', 0.01, 0.3, log=True),\n",
    "        'l2_leaf_reg': trial.suggest_float('l2_leaf_reg', 1, 10, log=True),\n",
    "        \n",
    "        'random_strength': trial.suggest_float('random_strength', 0.1, 1.0)    \n",
    "    }\n",
    "    \n",
    "    # cv\n",
    "    scores = []\n",
    "    best_iters = []\n",
    "    \n",
    "    for train_idx, val_idx in cv_index:\n",
    "        X_train_t, X_val = X_train.loc[train_idx, TRAIN_COLS], X_train.loc[val_idx, TRAIN_COLS]\n",
    "        y_train_t, y_val = y_train.loc[train_idx], y_train.loc[val_idx]\n",
    "\n",
    "        model = CatBoostRegressor(**params)\n",
    "        \n",
    "        model.fit(X_train_t, y_train_t,\n",
    "                  eval_set=[(X_val, y_val)],\n",
    "                  verbose=0)\n",
    "\n",
    "        preds = model.predict(X_val)        \n",
    "        score = mean_squared_error(y_val, preds)**0.5\n",
    "        scores.append(score)        \n",
    "        best_iters.append(model.best_iteration_)\n",
    "    \n",
    "    trial.set_user_attr('best_iters', best_iters)\n",
    "    trial.set_user_attr('scores_user', scores)\n",
    "    return np.mean(scores)"
   ]
  },
  {
   "cell_type": "code",
   "execution_count": 29,
   "id": "97c78881",
   "metadata": {
    "scrolled": true
   },
   "outputs": [],
   "source": [
    "# study = optuna.create_study(direction='minimize')\n",
    "# study.optimize(objective, n_trials=50, show_progress_bar=True)"
   ]
  },
  {
   "cell_type": "code",
   "execution_count": 30,
   "id": "b9179cfb",
   "metadata": {},
   "outputs": [],
   "source": [
    "# print(study.best_trial.values)\n",
    "# print(study.best_trial.params)\n",
    "# print(study.best_trial.user_attrs)"
   ]
  },
  {
   "cell_type": "code",
   "execution_count": null,
   "id": "43f09382",
   "metadata": {},
   "outputs": [],
   "source": []
  },
  {
   "cell_type": "code",
   "execution_count": 31,
   "id": "94d4845a",
   "metadata": {},
   "outputs": [],
   "source": [
    "def get_model_month_forecast():\n",
    "    \n",
    "    model = CatBoostRegressor(\n",
    "        loss_function='RMSE',    \n",
    "        eval_metric='RMSE',\n",
    "\n",
    "        verbose=100,\n",
    "\n",
    "        task_type='GPU',\n",
    "        devices='0',\n",
    "\n",
    "        cat_features=CAT_COLS,\n",
    "        random_seed=42,\n",
    "\n",
    "        iterations=1572,\n",
    "        depth=4,\n",
    "        learning_rate=0.13639917010761166,\n",
    "        l2_leaf_reg=5.725746232780621,\n",
    "        random_strength=0.42190555364552496\n",
    "    )\n",
    "    \n",
    "    return model"
   ]
  },
  {
   "cell_type": "code",
   "execution_count": 32,
   "id": "ca3dab9a",
   "metadata": {},
   "outputs": [
    {
     "name": "stdout",
     "output_type": "stream",
     "text": [
      "0:\tlearn: 32299.8750275\ttest: 35856.1848203\tbest: 35856.1848203 (0)\ttotal: 55.9ms\tremaining: 1m 27s\n",
      "100:\tlearn: 6242.3608303\ttest: 5483.1180423\tbest: 5483.1180423 (100)\ttotal: 1.6s\tremaining: 23.2s\n",
      "200:\tlearn: 5401.9671632\ttest: 5277.0331717\tbest: 5247.8311117 (164)\ttotal: 3.13s\tremaining: 21.3s\n",
      "300:\tlearn: 4916.7409992\ttest: 5127.0548012\tbest: 5103.5611432 (248)\ttotal: 4.9s\tremaining: 20.7s\n",
      "400:\tlearn: 4592.2234436\ttest: 5045.4374830\tbest: 5038.7159511 (380)\ttotal: 6.43s\tremaining: 18.8s\n",
      "500:\tlearn: 4362.9268953\ttest: 5020.9447409\tbest: 5017.4077707 (462)\ttotal: 8s\tremaining: 17.1s\n",
      "600:\tlearn: 4179.7387264\ttest: 4899.1517917\tbest: 4899.1517917 (600)\ttotal: 9.58s\tremaining: 15.5s\n",
      "700:\tlearn: 4013.9761220\ttest: 4856.1090794\tbest: 4856.1090794 (700)\ttotal: 11.1s\tremaining: 13.8s\n",
      "800:\tlearn: 3885.9854008\ttest: 4826.4492305\tbest: 4826.4492305 (800)\ttotal: 12.7s\tremaining: 12.2s\n",
      "900:\tlearn: 3724.1862685\ttest: 4804.3215215\tbest: 4798.4454354 (886)\ttotal: 14.2s\tremaining: 10.6s\n",
      "1000:\tlearn: 3634.3651637\ttest: 4798.0991903\tbest: 4798.0991903 (1000)\ttotal: 15.7s\tremaining: 8.96s\n",
      "1100:\tlearn: 3543.6107062\ttest: 4749.4005021\tbest: 4747.3209737 (1098)\ttotal: 17.2s\tremaining: 7.36s\n",
      "1200:\tlearn: 3462.0138210\ttest: 4745.2512949\tbest: 4742.8821503 (1196)\ttotal: 18.8s\tremaining: 5.8s\n",
      "1300:\tlearn: 3388.9578913\ttest: 4728.1351750\tbest: 4720.3287206 (1260)\ttotal: 20.3s\tremaining: 4.22s\n",
      "1400:\tlearn: 3329.5082368\ttest: 4726.1828891\tbest: 4720.3287206 (1260)\ttotal: 21.9s\tremaining: 2.67s\n",
      "1500:\tlearn: 3260.0630072\ttest: 4716.2854091\tbest: 4714.4794677 (1457)\ttotal: 23.4s\tremaining: 1.11s\n",
      "1571:\tlearn: 3214.8379306\ttest: 4727.0421409\tbest: 4714.4794677 (1457)\ttotal: 24.8s\tremaining: 0us\n",
      "bestTest = 4714.479468\n",
      "bestIteration = 1457\n",
      "Shrink model to first 1458 iterations.\n"
     ]
    },
    {
     "data": {
      "text/plain": [
       "<catboost.core.CatBoostRegressor at 0x152271921c0>"
      ]
     },
     "execution_count": 32,
     "metadata": {},
     "output_type": "execute_result"
    }
   ],
   "source": [
    "model_month_cb = get_model_month_forecast()\n",
    "model_month_cb.fit(X=X_train[TRAIN_COLS], y=y_train, eval_set=(X_test[TRAIN_COLS], y_test))"
   ]
  },
  {
   "cell_type": "code",
   "execution_count": null,
   "id": "cfdf7159",
   "metadata": {},
   "outputs": [],
   "source": []
  },
  {
   "cell_type": "code",
   "execution_count": 33,
   "id": "cfe6820a",
   "metadata": {},
   "outputs": [],
   "source": [
    "y_preds = model_month_cb.predict(X_test[TRAIN_COLS])\n",
    "y_resudials = y_test - y_preds"
   ]
  },
  {
   "cell_type": "code",
   "execution_count": 34,
   "id": "4b837353",
   "metadata": {},
   "outputs": [
    {
     "name": "stderr",
     "output_type": "stream",
     "text": [
      "C:\\ProgramData\\Anaconda3\\lib\\site-packages\\seaborn\\_decorators.py:36: FutureWarning: Pass the following variables as keyword args: x, y. From version 0.12, the only valid positional argument will be `data`, and passing other arguments without an explicit keyword will result in an error or misinterpretation.\n",
      "  warnings.warn(\n",
      "C:\\ProgramData\\Anaconda3\\lib\\site-packages\\seaborn\\_core.py:1485: FutureWarning: unique with argument that is not not a Series, Index, ExtensionArray, or np.ndarray is deprecated and will raise in a future version.\n",
      "  order = pd.unique(vector)\n"
     ]
    },
    {
     "data": {
      "image/png": "[encoded data removed]",
      "text/plain": [
       "<Figure size 576x576 with 1 Axes>"
      ]
     },
     "metadata": {
      "needs_background": "light"
     },
     "output_type": "display_data"
    }
   ],
   "source": [
    "# Коэффициенты модели\n",
    "plt.figure(figsize=(8, 8))\n",
    "sns.barplot(model_month_cb.feature_importances_, model_month_cb.feature_names_, color='gray')\n",
    "plt.title('model Coefficients')\n",
    "plt.show()"
   ]
  },
  {
   "cell_type": "code",
   "execution_count": 35,
   "id": "3f5437fe",
   "metadata": {},
   "outputs": [
    {
     "data": {
      "image/png": "[encoded data removed]",
      "text/plain": [
       "<Figure size 576x432 with 1 Axes>"
      ]
     },
     "metadata": {
      "needs_background": "light"
     },
     "output_type": "display_data"
    }
   ],
   "source": [
    "# прогноз vs факт\n",
    "plt.figure(figsize=(8, 6))\n",
    "plt.scatter(y_test, y_preds, alpha=0.5)\n",
    "plt.plot([y_test.min(), y_test.max()], [y_test.min(), y_test.max()], 'r--')\n",
    "plt.xlabel(\"True Values\")\n",
    "plt.ylabel(\"Predictions\")\n",
    "plt.title(\"True vs Stacked Predictions\")\n",
    "plt.grid(True)\n",
    "plt.tight_layout()\n",
    "plt.show()"
   ]
  },
  {
   "cell_type": "code",
   "execution_count": 36,
   "id": "7f9e7e47",
   "metadata": {},
   "outputs": [
    {
     "data": {
      "image/png": "[encoded data removed]",
      "text/plain": [
       "<Figure size 576x432 with 1 Axes>"
      ]
     },
     "metadata": {
      "needs_background": "light"
     },
     "output_type": "display_data"
    }
   ],
   "source": [
    "# ошибка\n",
    "plt.figure(figsize=(8, 6))\n",
    "plt.scatter(y_test, y_resudials, alpha=0.5)\n",
    "plt.axhline(0, color='r', linestyle='--')\n",
    "plt.xlabel(\"True Values\")\n",
    "plt.ylabel(\"Residuals\")\n",
    "plt.title(\"Residuals vs True Values\")\n",
    "plt.grid(True)\n",
    "plt.tight_layout()\n",
    "plt.show()"
   ]
  },
  {
   "cell_type": "code",
   "execution_count": null,
   "id": "64e3557f",
   "metadata": {},
   "outputs": [],
   "source": []
  },
  {
   "cell_type": "markdown",
   "id": "ae3abd98",
   "metadata": {},
   "source": [
    "# Month predict to day predict"
   ]
  },
  {
   "cell_type": "markdown",
   "id": "81126e61",
   "metadata": {},
   "source": [
    "#### OOF month predict"
   ]
  },
  {
   "cell_type": "code",
   "execution_count": 37,
   "id": "afd507d5",
   "metadata": {},
   "outputs": [
    {
     "name": "stdout",
     "output_type": "stream",
     "text": [
      "2016-01-01\n",
      "0:\tlearn: 30805.5430494\ttotal: 38.3ms\tremaining: 1m\n",
      "1000:\tlearn: 5050.6058044\ttotal: 21.4s\tremaining: 12.2s\n",
      "1571:\tlearn: 4691.1041711\ttotal: 34.5s\tremaining: 0us\n",
      "2016-06-01\n",
      "0:\tlearn: 31283.6728348\ttotal: 27.2ms\tremaining: 42.7s\n",
      "1000:\tlearn: 4922.0754428\ttotal: 25s\tremaining: 14.3s\n",
      "1571:\tlearn: 4516.1965217\ttotal: 38.5s\tremaining: 0us\n",
      "2016-11-01\n",
      "0:\tlearn: 31426.1866744\ttotal: 26ms\tremaining: 40.8s\n",
      "1000:\tlearn: 4921.4187854\ttotal: 22.7s\tremaining: 12.9s\n",
      "1571:\tlearn: 4594.5156436\ttotal: 35.7s\tremaining: 0us\n",
      "2017-04-01\n",
      "0:\tlearn: 32186.1343941\ttotal: 15.1ms\tremaining: 23.8s\n",
      "1000:\tlearn: 3662.1282232\ttotal: 14.5s\tremaining: 8.29s\n",
      "1571:\tlearn: 3226.2113576\ttotal: 22.8s\tremaining: 0us\n"
     ]
    }
   ],
   "source": [
    "CV_DATES_OOF = [('2016-01-01', '2016-05-01'),\n",
    "                ('2016-06-01', '2016-10-01'),\n",
    "                ('2016-11-01', '2017-03-01'),\n",
    "                ('2017-04-01', '2017-08-01')]\n",
    "\n",
    "df_month_predict = pd.DataFrame()\n",
    "\n",
    "for start, end in CV_DATES_OOF:\n",
    "    \n",
    "    print(start)\n",
    "    model_oof = get_model_month_forecast()\n",
    "    model_oof.fit(X=train_df_month_sale_gr[train_df_month_sale_gr['date']<start][TRAIN_COLS],\n",
    "                  y=train_df_month_sale_gr[train_df_month_sale_gr['date']<start][TARGET_COL],\n",
    "                  verbose=1000)\n",
    "    \n",
    "    X_train_to_save = train_df_month_sale_gr[train_df_month_sale_gr['date'].between(start, end)].copy()\n",
    "    X_train_to_save['month_sales_pred'] = model_oof.predict(X_train_to_save[TRAIN_COLS])\n",
    "    \n",
    "    df_month_predict = pd.concat([df_month_predict, X_train_to_save], ignore_index=False)"
   ]
  },
  {
   "cell_type": "code",
   "execution_count": null,
   "id": "faaf9372",
   "metadata": {},
   "outputs": [],
   "source": []
  },
  {
   "cell_type": "code",
   "execution_count": 38,
   "id": "8d7a77f5",
   "metadata": {},
   "outputs": [],
   "source": [
    "# fix\n",
    "df_month_predict.loc[df_month_predict['month_sales_pred']<0, 'month_sales_pred'] = 0"
   ]
  },
  {
   "cell_type": "code",
   "execution_count": 39,
   "id": "0948b5b9",
   "metadata": {},
   "outputs": [
    {
     "data": {
      "image/png": "[encoded data removed]",
      "text/plain": [
       "<Figure size 576x432 with 1 Axes>"
      ]
     },
     "metadata": {
      "needs_background": "light"
     },
     "output_type": "display_data"
    }
   ],
   "source": [
    "# прогноз vs факт\n",
    "y_test, y_preds = df_month_predict['sales'], df_month_predict['month_sales_pred']\n",
    "\n",
    "plt.figure(figsize=(8, 6))\n",
    "plt.scatter(y_test, y_preds, alpha=0.5)\n",
    "plt.plot([y_test.min(), y_test.max()], [y_test.min(), y_test.max()], 'r--')\n",
    "plt.xlabel(\"True Values\")\n",
    "plt.ylabel(\"Predictions\")\n",
    "plt.title(\"True vs Stacked Predictions\")\n",
    "plt.grid(True)\n",
    "plt.tight_layout()\n",
    "plt.show()"
   ]
  },
  {
   "cell_type": "code",
   "execution_count": null,
   "id": "3dad6093",
   "metadata": {},
   "outputs": [],
   "source": []
  },
  {
   "cell_type": "code",
   "execution_count": 40,
   "id": "4e7453ce",
   "metadata": {},
   "outputs": [],
   "source": [
    "# датасет для обучения прогноза на день\n",
    "df_day_predict = train_df[train_df['date']>='2016-01-01'].copy()\n",
    "\n",
    "df_day_predict['date_o'] = df_day_predict['date']\n",
    "df_day_predict['date'] = df_day_predict['date'].apply(lambda x: x.replace(day=1))\n",
    "\n",
    "df_day_predict = df_day_predict.merge(df_month_predict[['date', 'store_nbr', 'family', 'month_sales_pred']],\n",
    "                                      how='left',\n",
    "                                      on=['date', 'store_nbr', 'family'],\n",
    "                                      validate='m:1')\n",
    "\n",
    "df_day_predict['date'] = df_day_predict['date_o']\n",
    "df_day_predict = df_day_predict.drop(columns=['date_o'])\n",
    "\n",
    "df_day_predict['month_sales_pred'] = df_day_predict['month_sales_pred'].fillna(0)"
   ]
  },
  {
   "cell_type": "code",
   "execution_count": null,
   "id": "2492ba16",
   "metadata": {},
   "outputs": [],
   "source": []
  },
  {
   "cell_type": "code",
   "execution_count": 41,
   "id": "e7d5a2f3",
   "metadata": {},
   "outputs": [],
   "source": [
    "def add_time_related_features_days(df):\n",
    "    \n",
    "    df['year'] = df['date'].dt.year\n",
    "    df['quarter'] = df['date'].dt.quarter\n",
    "    df['month'] = df['date'].dt.month\n",
    "    df['week'] = df['date'].dt.isocalendar().week.astype('int64')\n",
    "    df['day_of_week'] = df['date'].dt.dayofweek\n",
    "    df['day_of_month'] = df['date'].dt.day\n",
    "\n",
    "    return df"
   ]
  },
  {
   "cell_type": "code",
   "execution_count": 42,
   "id": "d76fb1e8",
   "metadata": {},
   "outputs": [],
   "source": [
    "df_day_predict = add_time_related_features_days(df_day_predict)"
   ]
  },
  {
   "cell_type": "code",
   "execution_count": null,
   "id": "d2c84c81",
   "metadata": {},
   "outputs": [],
   "source": []
  },
  {
   "cell_type": "code",
   "execution_count": 43,
   "id": "08c93642",
   "metadata": {},
   "outputs": [],
   "source": [
    "DAY_TRAIN_COLS = ['city', 'state', 'store_type', 'cluster', 'store_nbr', 'family',\n",
    "                  'onpromotion', 'dcoilwtico',\n",
    "                  'holiday_type',\n",
    "                  'month_sales_pred',\n",
    "                  'year', 'quarter', 'month', 'week', 'day_of_week', 'day_of_month']\n",
    "\n",
    "DAY_CAT_COLS = ['city', 'state', 'store_type', 'cluster', 'store_nbr', 'family', 'holiday_type']\n",
    "\n",
    "DAY_TARGET_COL = 'sales'"
   ]
  },
  {
   "cell_type": "code",
   "execution_count": null,
   "id": "140365db",
   "metadata": {},
   "outputs": [],
   "source": []
  },
  {
   "cell_type": "code",
   "execution_count": 44,
   "id": "84903c01",
   "metadata": {},
   "outputs": [],
   "source": [
    "X_day_train, X_day_test, y_day_train, y_day_test = train_test_split(df_day_predict[DAY_TRAIN_COLS],\n",
    "                                                                    df_day_predict[DAY_TARGET_COL],\n",
    "                                                                    test_size=0.25,\n",
    "                                                                    random_state=42,\n",
    "                                                                    shuffle=True)"
   ]
  },
  {
   "cell_type": "code",
   "execution_count": null,
   "id": "a20beda0",
   "metadata": {},
   "outputs": [],
   "source": []
  },
  {
   "cell_type": "code",
   "execution_count": 45,
   "id": "38a3b523",
   "metadata": {},
   "outputs": [],
   "source": [
    "def objective(trial):\n",
    "    \n",
    "    # model params\n",
    "    params = {\n",
    "        'loss_function': 'RMSE',\n",
    "        'eval_metric': 'RMSE',\n",
    "        \n",
    "        'task_type': 'GPU',\n",
    "        'devices':'0',\n",
    "        \n",
    "        'random_seed': 42,\n",
    "        'cat_features': DAY_CAT_COLS,\n",
    "        'verbose': 0,\n",
    "        \n",
    "        'iterations': 1000,\n",
    "        'early_stopping_rounds': 50,\n",
    "        \n",
    "        'depth': trial.suggest_int('depth', 4, 12),\n",
    "        \n",
    "        'learning_rate': trial.suggest_float('learning_rate', 0.01, 0.3, log=True),\n",
    "        'l2_leaf_reg': trial.suggest_float('l2_leaf_reg', 1, 10, log=True),\n",
    "        \n",
    "        'random_strength': trial.suggest_float('random_strength', 0.1, 1.0)    \n",
    "    }\n",
    "    \n",
    "    \n",
    "    pool = Pool(X_day_train, y_day_train, cat_features=DAY_CAT_COLS)\n",
    "    \n",
    "    cv_results = cv(\n",
    "        pool=pool,\n",
    "        params=params,\n",
    "        fold_count=3,\n",
    "        partition_random_seed=42,\n",
    "        verbose=False\n",
    "    )\n",
    "    \n",
    "    return min(cv_results['test-RMSE-mean'])"
   ]
  },
  {
   "cell_type": "code",
   "execution_count": 46,
   "id": "59043f25",
   "metadata": {},
   "outputs": [],
   "source": [
    "# study = optuna.create_study(direction='minimize')\n",
    "# study.optimize(objective, n_trials=50, show_progress_bar=True)"
   ]
  },
  {
   "cell_type": "code",
   "execution_count": 47,
   "id": "54bb480f",
   "metadata": {},
   "outputs": [],
   "source": [
    "# print(study.best_trial.values)\n",
    "# print(study.best_trial.params)"
   ]
  },
  {
   "cell_type": "code",
   "execution_count": 48,
   "id": "1b537cf6",
   "metadata": {},
   "outputs": [
    {
     "data": {
      "text/plain": [
       "{'depth': 9,\n",
       " 'learning_rate': 0.25932080544151764,\n",
       " 'l2_leaf_reg': 7.389593064814448,\n",
       " 'random_strength': 0.7466604420380099}"
      ]
     },
     "execution_count": 48,
     "metadata": {},
     "output_type": "execute_result"
    }
   ],
   "source": [
    "{'depth': 9, 'learning_rate': 0.25932080544151764, 'l2_leaf_reg': 7.389593064814448, 'random_strength': 0.7466604420380099}"
   ]
  },
  {
   "cell_type": "code",
   "execution_count": null,
   "id": "3a7d5aa0",
   "metadata": {},
   "outputs": [],
   "source": []
  },
  {
   "cell_type": "code",
   "execution_count": 49,
   "id": "8bfe2a50",
   "metadata": {},
   "outputs": [],
   "source": [
    "def get_model_day_forecast():\n",
    "    \n",
    "    model = CatBoostRegressor(\n",
    "        loss_function='RMSE',    \n",
    "        eval_metric='RMSE',\n",
    "\n",
    "        verbose=100,\n",
    "\n",
    "        task_type='GPU',\n",
    "        devices='0',\n",
    "\n",
    "        cat_features=DAY_CAT_COLS,\n",
    "        random_seed=42,\n",
    "\n",
    "        iterations=1894,\n",
    "        depth=9,\n",
    "        learning_rate=0.25932080544151764,\n",
    "        l2_leaf_reg=7.389593064814448,\n",
    "        random_strength=0.7466604420380099\n",
    "    )\n",
    "    \n",
    "    return model"
   ]
  },
  {
   "cell_type": "code",
   "execution_count": 50,
   "id": "99c4c157",
   "metadata": {},
   "outputs": [
    {
     "name": "stdout",
     "output_type": "stream",
     "text": [
      "0:\tlearn: 1047.3075701\ttest: 1059.8292680\tbest: 1059.8292680 (0)\ttotal: 185ms\tremaining: 5m 50s\n",
      "100:\tlearn: 293.0415423\ttest: 346.3449314\tbest: 346.3449314 (100)\ttotal: 18.7s\tremaining: 5m 31s\n",
      "200:\tlearn: 261.4978642\ttest: 331.7996787\tbest: 331.7996787 (200)\ttotal: 37.3s\tremaining: 5m 14s\n",
      "300:\tlearn: 240.9681487\ttest: 324.2938180\tbest: 324.2938180 (300)\ttotal: 56.3s\tremaining: 4m 57s\n",
      "400:\tlearn: 223.2608999\ttest: 319.7844149\tbest: 319.7844149 (400)\ttotal: 1m 14s\tremaining: 4m 38s\n",
      "500:\tlearn: 211.2903910\ttest: 315.0703987\tbest: 315.0703987 (500)\ttotal: 1m 33s\tremaining: 4m 21s\n",
      "600:\tlearn: 199.7529986\ttest: 313.0796207\tbest: 313.0793231 (599)\ttotal: 1m 53s\tremaining: 4m 3s\n",
      "700:\tlearn: 190.7488787\ttest: 310.4684881\tbest: 310.4684881 (700)\ttotal: 2m 12s\tremaining: 3m 45s\n",
      "800:\tlearn: 182.1490648\ttest: 308.3186058\tbest: 308.3159108 (799)\ttotal: 2m 31s\tremaining: 3m 26s\n",
      "900:\tlearn: 175.9837038\ttest: 306.8919761\tbest: 306.8919761 (900)\ttotal: 2m 50s\tremaining: 3m 8s\n",
      "1000:\tlearn: 170.9897978\ttest: 305.6330534\tbest: 305.5900356 (998)\ttotal: 3m 9s\tremaining: 2m 49s\n",
      "1100:\tlearn: 166.0273366\ttest: 303.9115159\tbest: 303.9115159 (1100)\ttotal: 3m 29s\tremaining: 2m 30s\n",
      "1200:\tlearn: 161.4207434\ttest: 302.8981986\tbest: 302.8981986 (1200)\ttotal: 3m 48s\tremaining: 2m 11s\n",
      "1300:\tlearn: 156.8731046\ttest: 302.2292109\tbest: 302.2292109 (1300)\ttotal: 4m 7s\tremaining: 1m 52s\n",
      "1400:\tlearn: 151.5481788\ttest: 301.7621653\tbest: 301.7615606 (1398)\ttotal: 4m 26s\tremaining: 1m 33s\n",
      "1500:\tlearn: 146.9152712\ttest: 300.9394949\tbest: 300.9394949 (1500)\ttotal: 4m 45s\tremaining: 1m 14s\n",
      "1600:\tlearn: 143.2383394\ttest: 300.5247378\tbest: 300.5181229 (1599)\ttotal: 5m 4s\tremaining: 55.8s\n",
      "1700:\tlearn: 139.3007847\ttest: 299.7434278\tbest: 299.7405910 (1699)\ttotal: 5m 24s\tremaining: 36.8s\n",
      "1800:\tlearn: 136.4211767\ttest: 299.1657881\tbest: 299.1624527 (1798)\ttotal: 5m 43s\tremaining: 17.8s\n",
      "1893:\tlearn: 133.2806351\ttest: 298.8090219\tbest: 298.7980419 (1887)\ttotal: 6m 1s\tremaining: 0us\n",
      "bestTest = 298.7980419\n",
      "bestIteration = 1887\n",
      "Shrink model to first 1888 iterations.\n"
     ]
    },
    {
     "data": {
      "text/plain": [
       "<catboost.core.CatBoostRegressor at 0x1524f3e7640>"
      ]
     },
     "execution_count": 50,
     "metadata": {},
     "output_type": "execute_result"
    }
   ],
   "source": [
    "model_day_cb = get_model_day_forecast()\n",
    "model_day_cb.fit(X=X_day_train, y=y_day_train, eval_set=(X_day_test, y_day_test))"
   ]
  },
  {
   "cell_type": "code",
   "execution_count": null,
   "id": "3ded434c",
   "metadata": {},
   "outputs": [],
   "source": []
  },
  {
   "cell_type": "code",
   "execution_count": 51,
   "id": "0641c611",
   "metadata": {},
   "outputs": [],
   "source": [
    "y_preds = model_day_cb.predict(X_day_test)\n",
    "y_resudials = y_day_test - y_preds"
   ]
  },
  {
   "cell_type": "code",
   "execution_count": null,
   "id": "6953b58a",
   "metadata": {},
   "outputs": [],
   "source": []
  },
  {
   "cell_type": "code",
   "execution_count": 52,
   "id": "17e6bda0",
   "metadata": {},
   "outputs": [
    {
     "name": "stdout",
     "output_type": "stream",
     "text": [
      "0.94903520070496\n",
      "60.76068576788942\n",
      "298.7980420434435\n"
     ]
    }
   ],
   "source": [
    "print(r2_score(y_day_test, y_preds))\n",
    "print(mean_absolute_error(y_day_test, y_preds))\n",
    "print(mean_squared_error(y_day_test, y_preds)**0.5)"
   ]
  },
  {
   "cell_type": "code",
   "execution_count": 53,
   "id": "7f1a6c3e",
   "metadata": {},
   "outputs": [
    {
     "name": "stdout",
     "output_type": "stream",
     "text": [
      "0.9491018256647894\n",
      "58.718009127001984\n",
      "298.60267270824374\n",
      "1.2479531173481075\n"
     ]
    }
   ],
   "source": [
    "ttt = pd.DataFrame(data={'true': y_day_test, 'preds': y_preds})\n",
    "ttt.loc[ttt['preds']<0, 'preds']=0\n",
    "\n",
    "print(r2_score(ttt['true'], ttt['preds']))\n",
    "print(mean_absolute_error(ttt['true'], ttt['preds']))\n",
    "print(mean_squared_error(ttt['true'], ttt['preds'])**0.5)\n",
    "print(mean_squared_log_error(ttt['true'], ttt['preds']))"
   ]
  },
  {
   "cell_type": "code",
   "execution_count": null,
   "id": "f5e9f514",
   "metadata": {},
   "outputs": [],
   "source": []
  },
  {
   "cell_type": "code",
   "execution_count": 54,
   "id": "2baa4879",
   "metadata": {
    "scrolled": false
   },
   "outputs": [
    {
     "name": "stderr",
     "output_type": "stream",
     "text": [
      "C:\\ProgramData\\Anaconda3\\lib\\site-packages\\seaborn\\_decorators.py:36: FutureWarning: Pass the following variables as keyword args: x, y. From version 0.12, the only valid positional argument will be `data`, and passing other arguments without an explicit keyword will result in an error or misinterpretation.\n",
      "  warnings.warn(\n",
      "C:\\ProgramData\\Anaconda3\\lib\\site-packages\\seaborn\\_core.py:1485: FutureWarning: unique with argument that is not not a Series, Index, ExtensionArray, or np.ndarray is deprecated and will raise in a future version.\n",
      "  order = pd.unique(vector)\n"
     ]
    },
    {
     "data": {
      "image/png": "[encoded data removed]",
      "text/plain": [
       "<Figure size 576x576 with 1 Axes>"
      ]
     },
     "metadata": {
      "needs_background": "light"
     },
     "output_type": "display_data"
    }
   ],
   "source": [
    "# Коэффициенты модели\n",
    "plt.figure(figsize=(8, 8))\n",
    "sns.barplot(model_day_cb.feature_importances_, model_day_cb.feature_names_, color='gray')\n",
    "plt.title('model Coefficients')\n",
    "plt.show()"
   ]
  },
  {
   "cell_type": "code",
   "execution_count": 55,
   "id": "f36b4fbc",
   "metadata": {},
   "outputs": [
    {
     "data": {
      "image/png": "[encoded data removed]",
      "text/plain": [
       "<Figure size 576x432 with 1 Axes>"
      ]
     },
     "metadata": {
      "needs_background": "light"
     },
     "output_type": "display_data"
    }
   ],
   "source": [
    "# прогноз vs факт\n",
    "plt.figure(figsize=(8, 6))\n",
    "plt.scatter(y_day_test, y_preds, alpha=0.5)\n",
    "plt.plot([y_day_test.min(), y_day_test.max()], [y_day_test.min(), y_day_test.max()], 'r--')\n",
    "plt.xlabel(\"True Values\")\n",
    "plt.ylabel(\"Predictions\")\n",
    "plt.title(\"True vs Stacked Predictions\")\n",
    "plt.grid(True)\n",
    "plt.tight_layout()\n",
    "plt.show()"
   ]
  },
  {
   "cell_type": "code",
   "execution_count": 56,
   "id": "041b3c88",
   "metadata": {},
   "outputs": [
    {
     "data": {
      "image/png": "[encoded data removed]",
      "text/plain": [
       "<Figure size 576x432 with 1 Axes>"
      ]
     },
     "metadata": {
      "needs_background": "light"
     },
     "output_type": "display_data"
    }
   ],
   "source": [
    "# resudial\n",
    "plt.figure(figsize=(8, 6))\n",
    "plt.scatter(y_day_test, y_resudials, alpha=0.5)\n",
    "plt.axhline(0, color='r', linestyle='--')\n",
    "plt.xlabel(\"True Values\")\n",
    "plt.ylabel(\"Residuals\")\n",
    "plt.title(\"Residuals vs True Values\")\n",
    "plt.grid(True)\n",
    "plt.tight_layout()\n",
    "plt.show()"
   ]
  },
  {
   "cell_type": "code",
   "execution_count": null,
   "id": "58d3c296",
   "metadata": {},
   "outputs": [],
   "source": []
  },
  {
   "cell_type": "code",
   "execution_count": null,
   "id": "6de59c61",
   "metadata": {},
   "outputs": [],
   "source": []
  },
  {
   "cell_type": "markdown",
   "id": "80158445",
   "metadata": {},
   "source": [
    "## Predict"
   ]
  },
  {
   "cell_type": "markdown",
   "id": "82081cf3",
   "metadata": {},
   "source": [
    "#### month"
   ]
  },
  {
   "cell_type": "code",
   "execution_count": 103,
   "id": "47f78b2e",
   "metadata": {},
   "outputs": [
    {
     "name": "stdout",
     "output_type": "stream",
     "text": [
      "0:\tlearn: 32576.1417398\ttotal: 16.6ms\tremaining: 26s\n",
      "100:\tlearn: 6217.0138500\ttotal: 1.57s\tremaining: 22.8s\n",
      "200:\tlearn: 5342.8568319\ttotal: 3.1s\tremaining: 21.1s\n",
      "300:\tlearn: 4849.3195920\ttotal: 4.57s\tremaining: 19.3s\n",
      "400:\tlearn: 4494.7986113\ttotal: 6.06s\tremaining: 17.7s\n",
      "500:\tlearn: 4246.5994175\ttotal: 7.58s\tremaining: 16.2s\n",
      "600:\tlearn: 4073.6408305\ttotal: 9.03s\tremaining: 14.6s\n",
      "700:\tlearn: 3911.8475619\ttotal: 10.6s\tremaining: 13.1s\n",
      "800:\tlearn: 3773.3313589\ttotal: 12s\tremaining: 11.6s\n",
      "900:\tlearn: 3653.0657220\ttotal: 13.6s\tremaining: 10.1s\n",
      "1000:\tlearn: 3549.3016688\ttotal: 15.1s\tremaining: 8.62s\n",
      "1100:\tlearn: 3455.4417356\ttotal: 16.6s\tremaining: 7.12s\n",
      "1200:\tlearn: 3383.1930269\ttotal: 18.2s\tremaining: 5.61s\n",
      "1300:\tlearn: 3314.0469636\ttotal: 19.7s\tremaining: 4.11s\n",
      "1400:\tlearn: 3244.8621954\ttotal: 21.2s\tremaining: 2.58s\n",
      "1500:\tlearn: 3175.1423831\ttotal: 22.7s\tremaining: 1.07s\n",
      "1571:\tlearn: 3130.1940711\ttotal: 23.7s\tremaining: 0us\n"
     ]
    },
    {
     "data": {
      "text/plain": [
       "<catboost.core.CatBoostRegressor at 0x15288c9ee50>"
      ]
     },
     "execution_count": 103,
     "metadata": {},
     "output_type": "execute_result"
    }
   ],
   "source": [
    "# month refit\n",
    "model_month_cb_refit = get_model_month_forecast()\n",
    "model_month_cb_refit.fit(X=train_df_month_sale_gr[train_df_month_sale_gr['date']<'2017-08-01'][TRAIN_COLS],\n",
    "                         y=train_df_month_sale_gr[train_df_month_sale_gr['date']<'2017-08-01'][TARGET_COL])"
   ]
  },
  {
   "cell_type": "code",
   "execution_count": 104,
   "id": "3e8b2d4b",
   "metadata": {},
   "outputs": [],
   "source": [
    "# month predict\n",
    "new_month_df = train_df_month_sale_gr[train_df_month_sale_gr['date']>='2017-08-01'].copy()\n",
    "new_month_df['month_sales_pred'] = model_month_cb_refit.predict(new_month_df[TRAIN_COLS])"
   ]
  },
  {
   "cell_type": "code",
   "execution_count": 105,
   "id": "8874043e",
   "metadata": {},
   "outputs": [],
   "source": [
    "new_month_df.loc[new_month_df['month_sales_pred']<0, 'month_sales_pred'] = 0"
   ]
  },
  {
   "cell_type": "markdown",
   "id": "c43bcd59",
   "metadata": {},
   "source": [
    "#### day"
   ]
  },
  {
   "cell_type": "code",
   "execution_count": 106,
   "id": "f6c21cd6",
   "metadata": {},
   "outputs": [
    {
     "name": "stdout",
     "output_type": "stream",
     "text": [
      "0:\tlearn: 1048.4511828\ttotal: 240ms\tremaining: 7m 34s\n",
      "100:\tlearn: 299.1214119\ttotal: 24.9s\tremaining: 7m 21s\n",
      "200:\tlearn: 263.9204116\ttotal: 49.7s\tremaining: 6m 58s\n",
      "300:\tlearn: 242.2913881\ttotal: 1m 15s\tremaining: 6m 37s\n",
      "400:\tlearn: 227.8548741\ttotal: 1m 40s\tremaining: 6m 12s\n",
      "500:\tlearn: 216.2693047\ttotal: 2m 5s\tremaining: 5m 48s\n",
      "600:\tlearn: 207.6240024\ttotal: 2m 30s\tremaining: 5m 23s\n",
      "700:\tlearn: 199.5248227\ttotal: 2m 56s\tremaining: 4m 59s\n",
      "800:\tlearn: 192.3646753\ttotal: 3m 21s\tremaining: 4m 35s\n",
      "900:\tlearn: 185.1905706\ttotal: 3m 47s\tremaining: 4m 10s\n",
      "1000:\tlearn: 178.9472645\ttotal: 4m 13s\tremaining: 3m 45s\n",
      "1100:\tlearn: 174.9397327\ttotal: 4m 38s\tremaining: 3m 20s\n",
      "1200:\tlearn: 170.8213422\ttotal: 5m 4s\tremaining: 2m 55s\n",
      "1300:\tlearn: 167.3108860\ttotal: 5m 30s\tremaining: 2m 30s\n",
      "1400:\tlearn: 163.4201804\ttotal: 5m 56s\tremaining: 2m 5s\n",
      "1500:\tlearn: 158.6760340\ttotal: 6m 22s\tremaining: 1m 40s\n",
      "1600:\tlearn: 155.4608721\ttotal: 6m 48s\tremaining: 1m 14s\n",
      "1700:\tlearn: 152.3723569\ttotal: 7m 15s\tremaining: 49.4s\n",
      "1800:\tlearn: 148.4055000\ttotal: 7m 41s\tremaining: 23.9s\n",
      "1893:\tlearn: 146.2139125\ttotal: 8m 7s\tremaining: 0us\n"
     ]
    },
    {
     "data": {
      "text/plain": [
       "<catboost.core.CatBoostRegressor at 0x15288c9ec40>"
      ]
     },
     "execution_count": 106,
     "metadata": {},
     "output_type": "execute_result"
    }
   ],
   "source": [
    "# day refit\n",
    "model_day_cb_refit = get_model_day_forecast()\n",
    "model_day_cb_refit.fit(X=df_day_predict[DAY_TRAIN_COLS],\n",
    "                       y=df_day_predict[DAY_TARGET_COL])"
   ]
  },
  {
   "cell_type": "code",
   "execution_count": null,
   "id": "7daf948d",
   "metadata": {},
   "outputs": [],
   "source": []
  },
  {
   "cell_type": "code",
   "execution_count": 107,
   "id": "543199d0",
   "metadata": {},
   "outputs": [],
   "source": [
    "# датасет для обучения прогноза на день\n",
    "df_day_predict_fin = test_df.copy()\n",
    "\n",
    "df_day_predict_fin['date_o'] = df_day_predict_fin['date']\n",
    "df_day_predict_fin['date'] = df_day_predict_fin['date'].apply(lambda x: x.replace(day=1))\n",
    "\n",
    "df_day_predict_fin = df_day_predict_fin.merge(new_month_df[['date', 'store_nbr', 'family', 'month_sales_pred']],\n",
    "                                              how='left',\n",
    "                                              on=['date', 'store_nbr', 'family'],\n",
    "                                              validate='m:1')\n",
    "\n",
    "df_day_predict_fin['date'] = df_day_predict_fin['date_o']\n",
    "df_day_predict_fin = df_day_predict_fin.drop(columns=['date_o'])\n",
    "\n",
    "df_day_predict_fin['month_sales_pred'] = df_day_predict_fin['month_sales_pred'].fillna(0)"
   ]
  },
  {
   "cell_type": "code",
   "execution_count": 108,
   "id": "c915dd91",
   "metadata": {},
   "outputs": [],
   "source": [
    "df_day_predict_fin = add_time_related_features_days(df_day_predict_fin)"
   ]
  },
  {
   "cell_type": "code",
   "execution_count": null,
   "id": "3bdf0a7c",
   "metadata": {},
   "outputs": [],
   "source": []
  },
  {
   "cell_type": "code",
   "execution_count": 129,
   "id": "6b8b7d30",
   "metadata": {},
   "outputs": [],
   "source": [
    "df_day_predict_fin['preds'] =  model_day_cb_refit.predict(df_day_predict_fin[DAY_TRAIN_COLS])"
   ]
  },
  {
   "cell_type": "code",
   "execution_count": 130,
   "id": "0f758e96",
   "metadata": {},
   "outputs": [],
   "source": [
    "df_day_predict_fin.loc[df_day_predict_fin['preds']<0, 'preds'] = 0"
   ]
  },
  {
   "cell_type": "code",
   "execution_count": null,
   "id": "fbfaf0e8",
   "metadata": {},
   "outputs": [],
   "source": []
  },
  {
   "cell_type": "code",
   "execution_count": null,
   "id": "ecad39e1",
   "metadata": {},
   "outputs": [],
   "source": []
  },
  {
   "cell_type": "code",
   "execution_count": 132,
   "id": "ed5bf13e",
   "metadata": {},
   "outputs": [],
   "source": [
    "df_day_predict_fin['sales'] = df_day_predict_fin['preds']"
   ]
  },
  {
   "cell_type": "code",
   "execution_count": 133,
   "id": "2802138c",
   "metadata": {},
   "outputs": [],
   "source": [
    "df_day_predict_fin[['id', 'sales']].to_csv('first.csv', index=False)"
   ]
  },
  {
   "cell_type": "code",
   "execution_count": null,
   "id": "65379d06",
   "metadata": {},
   "outputs": [],
   "source": []
  },
  {
   "cell_type": "code",
   "execution_count": null,
   "id": "3d9ea96a",
   "metadata": {},
   "outputs": [],
   "source": []
  }
 ],
 "metadata": {
  "kernelspec": {
   "display_name": "Python 3 (ipykernel)",
   "language": "python",
   "name": "python3"
  },
  "language_info": {
   "codemirror_mode": {
    "name": "ipython",
    "version": 3
   },
   "file_extension": ".py",
   "mimetype": "text/x-python",
   "name": "python",
   "nbconvert_exporter": "python",
   "pygments_lexer": "ipython3",
   "version": "3.9.12"
  }
 },
 "nbformat": 4,
 "nbformat_minor": 5
}
