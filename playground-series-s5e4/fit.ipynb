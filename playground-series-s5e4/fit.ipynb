{
 "cells": [
  {
   "cell_type": "markdown",
   "id": "d8e3e135",
   "metadata": {},
   "source": [
    "https://www.kaggle.com/competitions/playground-series-s5e4"
   ]
  },
  {
   "cell_type": "code",
   "execution_count": 1,
   "id": "1abdebfb",
   "metadata": {},
   "outputs": [],
   "source": [
    "import pandas as pd\n",
    "import numpy as np\n",
    "import datetime as dt\n",
    "\n",
    "from matplotlib import pyplot as plt\n",
    "import seaborn as sns"
   ]
  },
  {
   "cell_type": "code",
   "execution_count": null,
   "id": "7bd7ff2c",
   "metadata": {},
   "outputs": [],
   "source": []
  },
  {
   "cell_type": "code",
   "execution_count": 2,
   "id": "70547537",
   "metadata": {},
   "outputs": [],
   "source": [
    "train_df = pd.read_csv('train.csv')\n",
    "test_df = pd.read_csv('test.csv')"
   ]
  },
  {
   "cell_type": "code",
   "execution_count": 3,
   "id": "b3062d5e",
   "metadata": {},
   "outputs": [],
   "source": [
    "# original_df = pd.read_csv('original.csv')\n",
    "# original_df = original_df[original_df['Listening_Time_minutes'].notna()]"
   ]
  },
  {
   "cell_type": "code",
   "execution_count": null,
   "id": "b9e9592b",
   "metadata": {},
   "outputs": [],
   "source": []
  },
  {
   "cell_type": "markdown",
   "id": "60fd56b5",
   "metadata": {},
   "source": [
    "# Preprocess"
   ]
  },
  {
   "cell_type": "code",
   "execution_count": 5,
   "id": "35f9b9b8",
   "metadata": {},
   "outputs": [
    {
     "name": "stdout",
     "output_type": "stream",
     "text": [
      "<class 'pandas.core.frame.DataFrame'>\n",
      "RangeIndex: 750000 entries, 0 to 749999\n",
      "Data columns (total 12 columns):\n",
      " #   Column                       Non-Null Count   Dtype  \n",
      "---  ------                       --------------   -----  \n",
      " 0   id                           750000 non-null  int64  \n",
      " 1   Podcast_Name                 750000 non-null  object \n",
      " 2   Episode_Title                750000 non-null  object \n",
      " 3   Episode_Length_minutes       662907 non-null  float64\n",
      " 4   Genre                        750000 non-null  object \n",
      " 5   Host_Popularity_percentage   750000 non-null  float64\n",
      " 6   Publication_Day              750000 non-null  object \n",
      " 7   Publication_Time             750000 non-null  object \n",
      " 8   Guest_Popularity_percentage  603970 non-null  float64\n",
      " 9   Number_of_Ads                749999 non-null  float64\n",
      " 10  Episode_Sentiment            750000 non-null  object \n",
      " 11  Listening_Time_minutes       750000 non-null  float64\n",
      "dtypes: float64(5), int64(1), object(6)\n",
      "memory usage: 68.7+ MB\n"
     ]
    }
   ],
   "source": [
    "train_df.info()"
   ]
  },
  {
   "cell_type": "code",
   "execution_count": 6,
   "id": "f6b1a29b",
   "metadata": {},
   "outputs": [
    {
     "data": {
      "text/plain": [
       "id                                  0\n",
       "Podcast_Name                        0\n",
       "Episode_Title                       0\n",
       "Episode_Length_minutes          87093\n",
       "Genre                               0\n",
       "Host_Popularity_percentage          0\n",
       "Publication_Day                     0\n",
       "Publication_Time                    0\n",
       "Guest_Popularity_percentage    146030\n",
       "Number_of_Ads                       1\n",
       "Episode_Sentiment                   0\n",
       "Listening_Time_minutes              0\n",
       "dtype: int64"
      ]
     },
     "execution_count": 6,
     "metadata": {},
     "output_type": "execute_result"
    }
   ],
   "source": [
    "train_df.isna().sum()"
   ]
  },
  {
   "cell_type": "code",
   "execution_count": null,
   "id": "08d52be3",
   "metadata": {},
   "outputs": [],
   "source": []
  },
  {
   "cell_type": "code",
   "execution_count": 7,
   "id": "e56af0e2",
   "metadata": {},
   "outputs": [],
   "source": [
    "def clean_data(df):\n",
    "    \n",
    "    # not more two ads\n",
    "    df.loc[df['Number_of_Ads']>2, 'Number_of_Ads'] = 2\n",
    "    \n",
    "    # not more 120 Length\n",
    "    df.loc[df['Episode_Length_minutes']>120, 'Number_of_Ads'] = 120\n",
    "    \n",
    "    return df"
   ]
  },
  {
   "cell_type": "code",
   "execution_count": 8,
   "id": "2deee137",
   "metadata": {},
   "outputs": [],
   "source": [
    "def episode_to_int(df):\n",
    "    \n",
    "    df['Episode_Title'] = df['Episode_Title'].str.split(' ').str[1].astype('int')\n",
    "    \n",
    "    return df"
   ]
  },
  {
   "cell_type": "code",
   "execution_count": 9,
   "id": "07c96782",
   "metadata": {},
   "outputs": [],
   "source": [
    "def fillna_mean(df):\n",
    "    \n",
    "    df['Episode_Length_minutes'] = df['Episode_Length_minutes'].fillna(train_df['Episode_Length_minutes'].mean())\n",
    "    df['Guest_Popularity_percentage'] = df['Guest_Popularity_percentage'].fillna(train_df['Guest_Popularity_percentage'].mean())\n",
    "    \n",
    "    return df"
   ]
  },
  {
   "cell_type": "code",
   "execution_count": 10,
   "id": "3598c15d",
   "metadata": {},
   "outputs": [],
   "source": [
    "def fillna_zero(df):\n",
    "    \n",
    "    df['Number_of_Ads'] = df['Number_of_Ads'].fillna(0)\n",
    "    \n",
    "    return df"
   ]
  },
  {
   "cell_type": "code",
   "execution_count": null,
   "id": "205245c7",
   "metadata": {},
   "outputs": [],
   "source": []
  },
  {
   "cell_type": "code",
   "execution_count": null,
   "id": "53e792bd",
   "metadata": {},
   "outputs": [],
   "source": []
  },
  {
   "cell_type": "code",
   "execution_count": 11,
   "id": "567e6fec",
   "metadata": {},
   "outputs": [],
   "source": [
    "train_df = clean_data(train_df)\n",
    "train_df = episode_to_int(train_df)\n",
    "train_df = fillna_mean(train_df)\n",
    "train_df = fillna_zero(train_df)"
   ]
  },
  {
   "cell_type": "code",
   "execution_count": null,
   "id": "7080e598",
   "metadata": {},
   "outputs": [],
   "source": []
  },
  {
   "cell_type": "code",
   "execution_count": 12,
   "id": "876a8d65",
   "metadata": {},
   "outputs": [
    {
     "data": {
      "text/plain": [
       "0"
      ]
     },
     "execution_count": 12,
     "metadata": {},
     "output_type": "execute_result"
    }
   ],
   "source": [
    "train_df.isna().sum().sum()"
   ]
  },
  {
   "cell_type": "code",
   "execution_count": null,
   "id": "294a7c77",
   "metadata": {},
   "outputs": [],
   "source": []
  },
  {
   "cell_type": "code",
   "execution_count": 13,
   "id": "84712039",
   "metadata": {},
   "outputs": [],
   "source": [
    "feature_values = list(train_df.drop(columns=['id', 'Listening_Time_minutes']).columns)\n",
    "target_value = 'Listening_Time_minutes'"
   ]
  },
  {
   "cell_type": "code",
   "execution_count": 14,
   "id": "ca352cd5",
   "metadata": {},
   "outputs": [],
   "source": [
    "feature_cat = list(train_df[feature_values].select_dtypes(include=['object']).columns)\n",
    "feature_num = list(train_df[feature_values].select_dtypes(exclude=['object']).columns)"
   ]
  },
  {
   "cell_type": "code",
   "execution_count": null,
   "id": "be926244",
   "metadata": {},
   "outputs": [],
   "source": []
  },
  {
   "cell_type": "code",
   "execution_count": null,
   "id": "8d92836f",
   "metadata": {},
   "outputs": [],
   "source": []
  },
  {
   "cell_type": "markdown",
   "id": "a303f1c5",
   "metadata": {},
   "source": [
    "## Split data"
   ]
  },
  {
   "cell_type": "code",
   "execution_count": 15,
   "id": "cc434dd4",
   "metadata": {},
   "outputs": [],
   "source": [
    "from sklearn.model_selection import train_test_split\n",
    "from sklearn.model_selection import KFold\n",
    "\n",
    "from sklearn.preprocessing import StandardScaler, OneHotEncoder\n",
    "from sklearn.compose import ColumnTransformer\n",
    "\n",
    "from sklearn.metrics import r2_score, mean_squared_error, mean_absolute_error"
   ]
  },
  {
   "cell_type": "code",
   "execution_count": null,
   "id": "3206295c",
   "metadata": {},
   "outputs": [],
   "source": []
  },
  {
   "cell_type": "code",
   "execution_count": 16,
   "id": "953e75fb",
   "metadata": {},
   "outputs": [],
   "source": [
    "X_train, X_test, y_train, y_test = train_test_split(train_df[feature_values],\n",
    "                                                    train_df[target_value],\n",
    "                                                    test_size=0.2,\n",
    "                                                    random_state=42)"
   ]
  },
  {
   "cell_type": "code",
   "execution_count": null,
   "id": "74e11f54",
   "metadata": {},
   "outputs": [],
   "source": []
  },
  {
   "cell_type": "code",
   "execution_count": 17,
   "id": "1ecc84c0",
   "metadata": {},
   "outputs": [],
   "source": [
    "# add mean/std/min/max in group\n",
    "\n",
    "if True:\n",
    "    \n",
    "    X_train_t = X_train.copy()\n",
    "    X_train_t['target'] = y_train\n",
    "    \n",
    "    df_l_metrics = []\n",
    "    \n",
    "    \n",
    "    for cat in feature_cat:\n",
    "        \n",
    "        X_train_t_1 = (\n",
    "            X_train_t.groupby([cat], as_index=False)\n",
    "            .agg(mean=('target', np.mean),\n",
    "                 min=('target', np.min),\n",
    "                 max=('target', np.max),\n",
    "                 std=('target', np.std))\n",
    "            .rename(columns={'mean': (cat+'_mean'),\n",
    "                             'min': (cat+'_min'),\n",
    "                             'max': (cat+'_max'),\n",
    "                             'std': (cat+'_std')})\n",
    "        )\n",
    "        \n",
    "        df_l_metrics = df_l_metrics + [X_train_t_1]\n",
    "        \n",
    "        \n",
    "    for df_t in df_l_metrics:\n",
    "        X_train = X_train.merge(df_t, how='left', on=df_t.columns[0], validate='m:1')\n",
    "        X_test = X_test.merge(df_t, how='left', on=df_t.columns[0], validate='m:1')        "
   ]
  },
  {
   "cell_type": "code",
   "execution_count": null,
   "id": "1c27c896",
   "metadata": {},
   "outputs": [],
   "source": []
  },
  {
   "cell_type": "code",
   "execution_count": null,
   "id": "5d5378db",
   "metadata": {},
   "outputs": [],
   "source": []
  },
  {
   "cell_type": "markdown",
   "id": "3b1d6c2f",
   "metadata": {},
   "source": [
    "#### Препроцессоры для разных моделей"
   ]
  },
  {
   "cell_type": "code",
   "execution_count": 18,
   "id": "617baf63",
   "metadata": {},
   "outputs": [],
   "source": [
    "scaler = StandardScaler()\n",
    "ohe = OneHotEncoder(drop='first', handle_unknown='ignore', sparse=False)"
   ]
  },
  {
   "cell_type": "code",
   "execution_count": 19,
   "id": "3440c119",
   "metadata": {},
   "outputs": [],
   "source": [
    "# классический\n",
    "preprocessor_none = ColumnTransformer([\n",
    "    ('num', 'passthrough', feature_num),\n",
    "    ('cat', 'passthrough', feature_cat)\n",
    "])"
   ]
  },
  {
   "cell_type": "code",
   "execution_count": 20,
   "id": "b7b41b49",
   "metadata": {},
   "outputs": [],
   "source": [
    "# только категориальные данные\n",
    "preprocessor_ohe = ColumnTransformer([\n",
    "    ('num', 'passthrough', feature_num),\n",
    "    ('cat', ohe, feature_cat)\n",
    "])"
   ]
  },
  {
   "cell_type": "code",
   "execution_count": 21,
   "id": "aa33a05c",
   "metadata": {},
   "outputs": [],
   "source": [
    "# категориальные данные и стандартизация\n",
    "preprocessor_scaled_ohe = ColumnTransformer([\n",
    "    ('num', scaler, feature_num),\n",
    "    ('cat', ohe, feature_cat)\n",
    "])"
   ]
  },
  {
   "cell_type": "code",
   "execution_count": null,
   "id": "f7d43b8f",
   "metadata": {},
   "outputs": [],
   "source": []
  },
  {
   "cell_type": "code",
   "execution_count": 22,
   "id": "2ba16d45",
   "metadata": {},
   "outputs": [],
   "source": [
    "X_none_train = pd.DataFrame(\n",
    "    preprocessor_none.fit_transform(X_train),\n",
    "    columns=feature_num + feature_cat\n",
    ")\n",
    "\n",
    "X_none_test = pd.DataFrame(\n",
    "    preprocessor_none.transform(X_test),\n",
    "    columns=feature_num + feature_cat\n",
    ")"
   ]
  },
  {
   "cell_type": "code",
   "execution_count": 23,
   "id": "13373905",
   "metadata": {},
   "outputs": [],
   "source": [
    "preprocessor_ohe.fit(X_train)\n",
    "ohe_cols = preprocessor_ohe.named_transformers_['cat'].get_feature_names_out(feature_cat)\n",
    "\n",
    "X_ohe_train = pd.DataFrame(\n",
    "    preprocessor_ohe.transform(X_train),\n",
    "    columns=feature_num + list(ohe_cols)\n",
    ")\n",
    "\n",
    "X_ohe_test = pd.DataFrame(\n",
    "    preprocessor_ohe.transform(X_test),\n",
    "    columns=feature_num + list(ohe_cols)\n",
    ")"
   ]
  },
  {
   "cell_type": "code",
   "execution_count": 24,
   "id": "f3d2fd26",
   "metadata": {},
   "outputs": [],
   "source": [
    "preprocessor_scaled_ohe.fit(X_train)\n",
    "scaled_ohe_cols = preprocessor_scaled_ohe.named_transformers_['cat'].get_feature_names_out(feature_cat)\n",
    "\n",
    "X_scaled_ohe_train = pd.DataFrame(\n",
    "    preprocessor_scaled_ohe.transform(X_train),\n",
    "    columns=feature_num + list(scaled_ohe_cols)\n",
    ")\n",
    "\n",
    "X_scaled_ohe_test = pd.DataFrame(\n",
    "    preprocessor_scaled_ohe.transform(X_test),\n",
    "    columns=feature_num + list(scaled_ohe_cols)\n",
    ")"
   ]
  },
  {
   "cell_type": "code",
   "execution_count": null,
   "id": "a016c29b",
   "metadata": {},
   "outputs": [],
   "source": []
  },
  {
   "cell_type": "markdown",
   "id": "0b488925",
   "metadata": {},
   "source": [
    "# FIT"
   ]
  },
  {
   "cell_type": "markdown",
   "id": "60c2d190",
   "metadata": {},
   "source": [
    "### Catboost"
   ]
  },
  {
   "cell_type": "code",
   "execution_count": 34,
   "id": "77ec7ecd",
   "metadata": {},
   "outputs": [],
   "source": [
    "from catboost import CatBoostRegressor\n",
    "import optuna"
   ]
  },
  {
   "cell_type": "code",
   "execution_count": 25,
   "id": "bcc740ac",
   "metadata": {},
   "outputs": [],
   "source": [
    "def objective(trial):\n",
    "    params = {\n",
    "        'loss_function': 'RMSE',\n",
    "        'eval_metric': 'RMSE',\n",
    "        \n",
    "        'task_type': 'GPU',\n",
    "        'devices':'0',\n",
    "        \n",
    "        'random_seed': 42,\n",
    "        'cat_features': feature_cat,\n",
    "        'verbose': 0,\n",
    "        'early_stopping_rounds': 20,\n",
    "        \n",
    "        'iterations': trial.suggest_int('iterations', 500, 2000),\n",
    "        'depth': trial.suggest_int('depth', 4, 12),\n",
    "        \n",
    "        'learning_rate': trial.suggest_float('learning_rate', 0.01, 0.3, log=True),\n",
    "        'l2_leaf_reg': trial.suggest_float('l2_leaf_reg', 1, 10, log=True),\n",
    "        \n",
    "        'random_strength': trial.suggest_float('random_strength', 0.1, 1.0),\n",
    "        \n",
    "        #'bootstrap_type': 'Bayesian',\n",
    "        #'subsample': trial.suggest_float('subsample', 0.6, 1.0),\n",
    "        #'colsample_bylevel': trial.suggest_float('colsample_bylevel', 0.6, 1.0)        \n",
    "    }\n",
    "\n",
    "    model = CatBoostRegressor(**params)\n",
    "\n",
    "    # cv\n",
    "    scores = []\n",
    "    \n",
    "    kf = KFold(n_splits=3, shuffle=True, random_state=42)\n",
    "    \n",
    "    for train_idx, val_idx in kf.split(X_none_train, y_train):\n",
    "        X_train_t, X_val = X_none_train.iloc[train_idx], X_none_train.iloc[val_idx]\n",
    "        y_train_t, y_val = y_train.iloc[train_idx], y_train.iloc[val_idx]\n",
    "\n",
    "        model.fit(X_train_t, y_train_t,\n",
    "                  eval_set=[(X_val, y_val)],\n",
    "                  verbose=0)\n",
    "\n",
    "        preds = model.predict(X_val)\n",
    "        score = mean_squared_error(y_val, preds)**0.5\n",
    "        scores.append(score)\n",
    "\n",
    "    return np.mean(scores)"
   ]
  },
  {
   "cell_type": "code",
   "execution_count": 26,
   "id": "7c0ffe88",
   "metadata": {
    "scrolled": true
   },
   "outputs": [],
   "source": [
    "# study = optuna.create_study(direction='minimize')\n",
    "# study.optimize(objective, n_trials=50, show_progress_bar=True)"
   ]
  },
  {
   "cell_type": "code",
   "execution_count": null,
   "id": "46a5526c",
   "metadata": {},
   "outputs": [],
   "source": []
  },
  {
   "cell_type": "code",
   "execution_count": 27,
   "id": "827d83ad",
   "metadata": {},
   "outputs": [],
   "source": [
    "# to fit\n",
    "model_0_lvl_cb = CatBoostRegressor(\n",
    "    loss_function='RMSE',    \n",
    "    eval_metric='RMSE',\n",
    "    \n",
    "    verbose=0,\n",
    "    early_stopping_rounds=10,\n",
    "    \n",
    "    task_type='GPU',\n",
    "    devices='0',\n",
    "    \n",
    "    cat_features=feature_cat,\n",
    "    random_seed=42,\n",
    "    \n",
    "    iterations=2044,\n",
    "    depth=12,\n",
    "    learning_rate=0.02983222687752797,\n",
    "    l2_leaf_reg=4.229648612417207,\n",
    "    random_strength=0.7357592862553951\n",
    "    \n",
    ")\n",
    "\n",
    "# model_0_lvl_cb.fit(X=X_none_train, y=y_train, eval_set=(X_none_test, y_test))"
   ]
  },
  {
   "cell_type": "code",
   "execution_count": 28,
   "id": "85928a98",
   "metadata": {
    "scrolled": true
   },
   "outputs": [
    {
     "name": "stdout",
     "output_type": "stream",
     "text": [
      "0:\tlearn: 26.5307505\ttotal: 203ms\tremaining: 6m 54s\n",
      "500:\tlearn: 12.7307407\ttotal: 1m 16s\tremaining: 3m 54s\n",
      "1000:\tlearn: 12.2505351\ttotal: 2m 31s\tremaining: 2m 38s\n",
      "1500:\tlearn: 11.7695403\ttotal: 3m 48s\tremaining: 1m 22s\n",
      "2000:\tlearn: 11.3278943\ttotal: 5m 5s\tremaining: 6.57s\n",
      "2043:\tlearn: 11.2873739\ttotal: 5m 12s\tremaining: 0us\n",
      "13.023251574076188\n",
      "0:\tlearn: 26.5292020\ttotal: 157ms\tremaining: 5m 19s\n",
      "500:\tlearn: 12.7195597\ttotal: 1m 18s\tremaining: 4m 2s\n",
      "1000:\tlearn: 12.2086359\ttotal: 2m 36s\tremaining: 2m 42s\n",
      "1500:\tlearn: 11.7385472\ttotal: 3m 54s\tremaining: 1m 24s\n",
      "2000:\tlearn: 11.2833094\ttotal: 5m 12s\tremaining: 6.71s\n",
      "2043:\tlearn: 11.2436876\ttotal: 5m 18s\tremaining: 0us\n",
      "13.047160262806736\n",
      "0:\tlearn: 26.5452203\ttotal: 169ms\tremaining: 5m 44s\n",
      "500:\tlearn: 12.7406428\ttotal: 1m 17s\tremaining: 3m 59s\n",
      "1000:\tlearn: 12.2319054\ttotal: 2m 34s\tremaining: 2m 41s\n",
      "1500:\tlearn: 11.7612176\ttotal: 3m 55s\tremaining: 1m 25s\n",
      "2000:\tlearn: 11.3236664\ttotal: 5m 13s\tremaining: 6.74s\n",
      "2043:\tlearn: 11.2854464\ttotal: 5m 20s\tremaining: 0us\n",
      "13.062879470490746\n"
     ]
    },
    {
     "data": {
      "text/plain": [
       "13.044430435791222"
      ]
     },
     "execution_count": 28,
     "metadata": {},
     "output_type": "execute_result"
    }
   ],
   "source": [
    "scores = []\n",
    "kf = KFold(n_splits=3, shuffle=True, random_state=42)\n",
    "\n",
    "for train_idx, val_idx in kf.split(X_none_train, y_train):\n",
    "    X_train_t, X_val = X_none_train.iloc[train_idx], X_none_train.iloc[val_idx]\n",
    "    y_train_t, y_val = y_train.iloc[train_idx], y_train.iloc[val_idx]\n",
    "\n",
    "    model_0_lvl_cb.fit(X_train_t, y_train_t, verbose=500)\n",
    "\n",
    "    preds = model_0_lvl_cb.predict(X_val)\n",
    "    score = mean_squared_error(y_val, preds)**0.5\n",
    "    scores.append(score)\n",
    "    print(score)\n",
    "    \n",
    "np.mean(scores)"
   ]
  },
  {
   "cell_type": "code",
   "execution_count": null,
   "id": "7625b701",
   "metadata": {},
   "outputs": [],
   "source": []
  },
  {
   "cell_type": "markdown",
   "id": "8687b7cd",
   "metadata": {},
   "source": [
    "### Random Forest"
   ]
  },
  {
   "cell_type": "code",
   "execution_count": 29,
   "id": "42c902c2",
   "metadata": {},
   "outputs": [],
   "source": [
    "from sklearn.ensemble import RandomForestRegressor"
   ]
  },
  {
   "cell_type": "code",
   "execution_count": 30,
   "id": "88b5a6e2",
   "metadata": {},
   "outputs": [],
   "source": [
    "def objective(trial):\n",
    "    params = {\n",
    "        'criterion': 'squared_error',\n",
    "        'random_state': 42,\n",
    "        'n_jobs': -1,\n",
    "        \n",
    "        'n_estimators': trial.suggest_int('n_estimators', 50, 500),\n",
    "        'max_depth': trial.suggest_int('max_depth', 3, 20),\n",
    "        \n",
    "        'min_samples_split': trial.suggest_int('min_samples_split', 2, 20),\n",
    "        'min_samples_leaf': trial.suggest_int('min_samples_leaf', 1, 20),\n",
    "        \n",
    "        'bootstrap': True,\n",
    "        'max_samples': trial.suggest_float('max_samples', 0.5, 1.0),\n",
    "        'max_features': trial.suggest_categorical('max_features', ['auto', 'sqrt', 'log2'])\n",
    "    }\n",
    "\n",
    "    model = RandomForestRegressor(**params)\n",
    "    kf = KFold(n_splits=3, shuffle=True, random_state=42)\n",
    "\n",
    "    scores = []\n",
    "    for train_index, test_index in kf.split(X_ohe_train, y_train):\n",
    "        X_train_t, X_val = X_ohe_train.iloc[train_index], X_ohe_train.iloc[test_index]\n",
    "        y_train_t, y_val = y_train.iloc[train_index], y_train.iloc[test_index]\n",
    "        \n",
    "        model.fit(X_train_t, y_train_t)\n",
    "        \n",
    "        preds = model.predict(X_val)\n",
    "        rmse = mean_squared_error(y_val, preds)**0.5\n",
    "        scores.append(rmse)\n",
    "\n",
    "    return np.mean(scores)"
   ]
  },
  {
   "cell_type": "code",
   "execution_count": 31,
   "id": "7cf9425d",
   "metadata": {
    "scrolled": true
   },
   "outputs": [],
   "source": [
    "# study = optuna.create_study(direction='minimize')\n",
    "# study.optimize(objective, n_trials=50, show_progress_bar=True)"
   ]
  },
  {
   "cell_type": "code",
   "execution_count": null,
   "id": "44c94613",
   "metadata": {},
   "outputs": [],
   "source": []
  },
  {
   "cell_type": "code",
   "execution_count": 32,
   "id": "4cc36eca",
   "metadata": {},
   "outputs": [],
   "source": [
    "# to fit\n",
    "model_0_lvl_rf = RandomForestRegressor(\n",
    "    criterion='squared_error',\n",
    "    random_state=42,\n",
    "    n_jobs=-1,\n",
    "\n",
    "    n_estimators=350, # 166\n",
    "    max_depth=19,\n",
    "\n",
    "    min_samples_split=18,\n",
    "    min_samples_leaf=6,\n",
    "\n",
    "    bootstrap=True,\n",
    "    max_samples=0.9743737658020362,\n",
    "    max_features='auto'\n",
    ")"
   ]
  },
  {
   "cell_type": "code",
   "execution_count": null,
   "id": "cc7fe66f",
   "metadata": {},
   "outputs": [],
   "source": []
  },
  {
   "cell_type": "code",
   "execution_count": 33,
   "id": "79557cdc",
   "metadata": {},
   "outputs": [
    {
     "name": "stdout",
     "output_type": "stream",
     "text": [
      "12.952903671737314\n",
      "12.975418034191236\n",
      "12.993898920562348\n"
     ]
    },
    {
     "data": {
      "text/plain": [
       "12.974073542163632"
      ]
     },
     "execution_count": 33,
     "metadata": {},
     "output_type": "execute_result"
    }
   ],
   "source": [
    "scores = []\n",
    "kf = KFold(n_splits=3, shuffle=True, random_state=42)\n",
    "\n",
    "for train_idx, val_idx in kf.split(X_ohe_train, y_train):\n",
    "    X_train_t, X_val = X_ohe_train.iloc[train_idx], X_ohe_train.iloc[val_idx]\n",
    "    y_train_t, y_val = y_train.iloc[train_idx], y_train.iloc[val_idx]\n",
    "\n",
    "    model_0_lvl_rf.fit(X_train_t, y_train_t)\n",
    "\n",
    "    preds = model_0_lvl_rf.predict(X_val)\n",
    "    score = mean_squared_error(y_val, preds)**0.5\n",
    "    scores.append(score)\n",
    "    print(score)\n",
    "    \n",
    "np.mean(scores)"
   ]
  },
  {
   "cell_type": "code",
   "execution_count": null,
   "id": "455b1c84",
   "metadata": {},
   "outputs": [],
   "source": []
  },
  {
   "cell_type": "markdown",
   "id": "4718f6d8",
   "metadata": {},
   "source": [
    "### ElasticNet"
   ]
  },
  {
   "cell_type": "code",
   "execution_count": 35,
   "id": "07432d5a",
   "metadata": {},
   "outputs": [],
   "source": [
    "from sklearn.linear_model import ElasticNet"
   ]
  },
  {
   "cell_type": "code",
   "execution_count": 36,
   "id": "97872969",
   "metadata": {},
   "outputs": [],
   "source": [
    "def objective(trial):\n",
    "    \n",
    "    alpha = trial.suggest_float('alpha', 1e-4, 10.0, log=True)\n",
    "    l1_ratio = trial.suggest_float('l1_ratio', 0.0, 1.0)\n",
    "\n",
    "    model = ElasticNet(alpha=alpha, l1_ratio=l1_ratio, random_state=42)\n",
    "\n",
    "    kf = KFold(n_splits=3, shuffle=True, random_state=42)\n",
    "    rmse_scores = []\n",
    "    \n",
    "    for train_index, val_index in kf.split(X_scaled_ohe_train, y_train):\n",
    "        X_train_t, X_val = X_scaled_ohe_train.iloc[train_index], X_scaled_ohe_train.iloc[val_index]\n",
    "        y_train_t, y_val = y_train.iloc[train_index], y_train.iloc[val_index]\n",
    "\n",
    "        model.fit(X_train_t, y_train_t)\n",
    "        \n",
    "        preds = model.predict(X_val)\n",
    "        rmse = mean_squared_error(y_val, preds)**0.5\n",
    "        rmse_scores.append(rmse)\n",
    "\n",
    "    return np.mean(rmse_scores)"
   ]
  },
  {
   "cell_type": "code",
   "execution_count": 37,
   "id": "20e3b56f",
   "metadata": {},
   "outputs": [],
   "source": [
    "# study = optuna.create_study(direction='minimize')\n",
    "# study.optimize(objective, n_trials=50, show_progress_bar=True)"
   ]
  },
  {
   "cell_type": "code",
   "execution_count": null,
   "id": "812751fa",
   "metadata": {},
   "outputs": [],
   "source": []
  },
  {
   "cell_type": "code",
   "execution_count": 38,
   "id": "49041494",
   "metadata": {},
   "outputs": [],
   "source": [
    "# to fit\n",
    "model_0_lvl_elastic = ElasticNet(\n",
    "    alpha=0.0010932638057139722,\n",
    "    l1_ratio=0.981896155656566,\n",
    "    random_state=42)"
   ]
  },
  {
   "cell_type": "code",
   "execution_count": 39,
   "id": "3ac96023",
   "metadata": {},
   "outputs": [
    {
     "name": "stdout",
     "output_type": "stream",
     "text": [
      "13.390134128327661\n",
      "13.397385003031262\n",
      "13.432936309243017\n"
     ]
    },
    {
     "data": {
      "text/plain": [
       "13.406818480200647"
      ]
     },
     "execution_count": 39,
     "metadata": {},
     "output_type": "execute_result"
    }
   ],
   "source": [
    "scores = []\n",
    "kf = KFold(n_splits=3, shuffle=True, random_state=42)\n",
    "\n",
    "for train_idx, val_idx in kf.split(X_scaled_ohe_train, y_train):\n",
    "    X_train_t, X_val = X_scaled_ohe_train.iloc[train_idx], X_scaled_ohe_train.iloc[val_idx]\n",
    "    y_train_t, y_val = y_train.iloc[train_idx], y_train.iloc[val_idx]\n",
    "\n",
    "    model_0_lvl_elastic.fit(X_train_t, y_train_t)\n",
    "\n",
    "    preds = model_0_lvl_elastic.predict(X_val)\n",
    "    score = mean_squared_error(y_val, preds)**0.5\n",
    "    scores.append(score)\n",
    "    print(score)\n",
    "    \n",
    "np.mean(scores)"
   ]
  },
  {
   "cell_type": "code",
   "execution_count": null,
   "id": "66435f21",
   "metadata": {},
   "outputs": [],
   "source": []
  },
  {
   "cell_type": "markdown",
   "id": "cc57df4f",
   "metadata": {},
   "source": [
    "### Stacking"
   ]
  },
  {
   "cell_type": "code",
   "execution_count": 40,
   "id": "dcaf7d3a",
   "metadata": {},
   "outputs": [],
   "source": [
    "from sklearn.linear_model import Ridge"
   ]
  },
  {
   "cell_type": "code",
   "execution_count": null,
   "id": "f045a445",
   "metadata": {},
   "outputs": [],
   "source": []
  },
  {
   "cell_type": "code",
   "execution_count": 41,
   "id": "c57851f4",
   "metadata": {},
   "outputs": [],
   "source": [
    "# модели 0 уровня\n",
    "base_models = [\n",
    "    ('cb', model_0_lvl_cb, X_none_train, X_none_test),\n",
    "    ('rf', model_0_lvl_rf, X_ohe_train, X_ohe_test),\n",
    "    ('elastic', model_0_lvl_elastic, X_scaled_ohe_train, X_scaled_ohe_test)\n",
    "]"
   ]
  },
  {
   "cell_type": "code",
   "execution_count": null,
   "id": "322eeb8a",
   "metadata": {},
   "outputs": [],
   "source": []
  },
  {
   "cell_type": "code",
   "execution_count": 42,
   "id": "6f9d5fe4",
   "metadata": {},
   "outputs": [],
   "source": [
    "# KFold setup\n",
    "kf = KFold(n_splits=4, shuffle=True, random_state=42)\n",
    "\n",
    "meta_features = np.zeros((X_train.shape[0], len(base_models)))\n",
    "meta_feature_names = [name for name, _, _, _ in base_models]"
   ]
  },
  {
   "cell_type": "code",
   "execution_count": 43,
   "id": "3039b931",
   "metadata": {
    "scrolled": true
   },
   "outputs": [
    {
     "name": "stdout",
     "output_type": "stream",
     "text": [
      "Done cb 1\n",
      "Done cb 2\n",
      "Done cb 3\n",
      "Done cb 4\n",
      "Done rf 1\n",
      "Done rf 2\n",
      "Done rf 3\n",
      "Done rf 4\n",
      "Done elastic 1\n",
      "Done elastic 2\n",
      "Done elastic 3\n",
      "Done elastic 4\n",
      "CPU times: total: 3h 30min 42s\n",
      "Wall time: 47min 12s\n"
     ]
    }
   ],
   "source": [
    "%%time\n",
    "\n",
    "# OOF прогноз для мета модели\n",
    "for i, (name, model, X_train_full, X_test_full) in enumerate(base_models):\n",
    "    iter_ = 0\n",
    "    for train_idx, valid_idx in kf.split(X_train):\n",
    "        X_train_part, X_valid_part = X_train_full.iloc[train_idx], X_train_full.iloc[valid_idx]\n",
    "        y_train_part = y_train.iloc[train_idx]\n",
    "\n",
    "        model.fit(X_train_part, y_train_part)\n",
    "        \n",
    "        preds = model.predict(X_valid_part)\n",
    "        meta_features[valid_idx, i] = preds\n",
    "        \n",
    "        iter_ += 1\n",
    "        print('Done', name, iter_)"
   ]
  },
  {
   "cell_type": "code",
   "execution_count": null,
   "id": "e60963f5",
   "metadata": {},
   "outputs": [],
   "source": []
  },
  {
   "cell_type": "code",
   "execution_count": 44,
   "id": "db1abeca",
   "metadata": {},
   "outputs": [],
   "source": [
    "# to DataFrame\n",
    "meta_df = pd.DataFrame(meta_features, columns=meta_feature_names)"
   ]
  },
  {
   "cell_type": "code",
   "execution_count": 45,
   "id": "aaa3c645",
   "metadata": {},
   "outputs": [],
   "source": [
    "# стандартизация метамодели\n",
    "scaler_meta = StandardScaler()\n",
    "meta_features_scaled = scaler_meta.fit_transform(meta_df)"
   ]
  },
  {
   "cell_type": "code",
   "execution_count": 46,
   "id": "d864e232",
   "metadata": {},
   "outputs": [],
   "source": [
    "meta_df.loc[:] = meta_features_scaled"
   ]
  },
  {
   "cell_type": "code",
   "execution_count": null,
   "id": "c5ad321d",
   "metadata": {},
   "outputs": [],
   "source": []
  },
  {
   "cell_type": "code",
   "execution_count": 47,
   "id": "f634bade",
   "metadata": {},
   "outputs": [],
   "source": [
    "def objective(trial):\n",
    "    \n",
    "    alpha = trial.suggest_float('alpha', 1e-4, 10.0, log=True)\n",
    "\n",
    "    model = Ridge(alpha=alpha, random_state=42)\n",
    "\n",
    "    kf = KFold(n_splits=3, shuffle=True, random_state=45)\n",
    "    rmse_scores = []\n",
    "    \n",
    "    for train_index, val_index in kf.split(meta_df, y_train):\n",
    "        X_train_t, X_val = meta_df.iloc[train_index], meta_df.iloc[val_index]\n",
    "        y_train_t, y_val = y_train.iloc[train_index], y_train.iloc[val_index]\n",
    "\n",
    "        model.fit(X_train_t, y_train_t)\n",
    "        \n",
    "        preds = model.predict(X_val)\n",
    "        rmse = mean_squared_error(y_val, preds)**0.5\n",
    "        rmse_scores.append(rmse)\n",
    "\n",
    "    return np.mean(rmse_scores)"
   ]
  },
  {
   "cell_type": "code",
   "execution_count": 48,
   "id": "ddfaf48c",
   "metadata": {
    "scrolled": true
   },
   "outputs": [],
   "source": [
    "# study = optuna.create_study(direction='minimize')\n",
    "# study.optimize(objective, n_trials=50, show_progress_bar=True)"
   ]
  },
  {
   "cell_type": "code",
   "execution_count": null,
   "id": "69a8d6de",
   "metadata": {},
   "outputs": [],
   "source": []
  },
  {
   "cell_type": "code",
   "execution_count": 49,
   "id": "1cc131d9",
   "metadata": {},
   "outputs": [
    {
     "data": {
      "text/plain": [
       "Ridge(alpha=1.5250250687330842)"
      ]
     },
     "execution_count": 49,
     "metadata": {},
     "output_type": "execute_result"
    }
   ],
   "source": [
    "# Train meta-model\n",
    "meta_model = Ridge(alpha=1.5250250687330842)\n",
    "meta_model.fit(meta_features_scaled, y_train)"
   ]
  },
  {
   "cell_type": "code",
   "execution_count": null,
   "id": "40ebe658",
   "metadata": {},
   "outputs": [],
   "source": []
  },
  {
   "cell_type": "code",
   "execution_count": 50,
   "id": "2ee77caf",
   "metadata": {},
   "outputs": [
    {
     "name": "stdout",
     "output_type": "stream",
     "text": [
      "cb\n",
      "rf\n",
      "elastic\n"
     ]
    }
   ],
   "source": [
    "# переобучение моделей 0 уровня\n",
    "for name, model, X_train_full, _ in base_models:\n",
    "    model.fit(X_train_full, y_train)\n",
    "    print(name)"
   ]
  },
  {
   "cell_type": "code",
   "execution_count": null,
   "id": "1e893328",
   "metadata": {},
   "outputs": [],
   "source": []
  },
  {
   "cell_type": "code",
   "execution_count": 51,
   "id": "edba1b66",
   "metadata": {},
   "outputs": [
    {
     "name": "stderr",
     "output_type": "stream",
     "text": [
      "C:\\ProgramData\\Anaconda3\\lib\\site-packages\\sklearn\\base.py:450: UserWarning: X does not have valid feature names, but StandardScaler was fitted with feature names\n",
      "  warnings.warn(\n"
     ]
    }
   ],
   "source": [
    "# финальный прогноз на тестовом датасете\n",
    "final_test_preds = np.column_stack([\n",
    "    model.predict(X_test_full)\n",
    "    for _, model, _, X_test_full in base_models\n",
    "])\n",
    "stacked_test_preds = meta_model.predict(scaler_meta.transform(final_test_preds))"
   ]
  },
  {
   "cell_type": "code",
   "execution_count": null,
   "id": "b7e59e44",
   "metadata": {},
   "outputs": [],
   "source": []
  },
  {
   "cell_type": "code",
   "execution_count": 53,
   "id": "c2b763ec",
   "metadata": {},
   "outputs": [
    {
     "name": "stdout",
     "output_type": "stream",
     "text": [
      "MAE: 9.26, RMSE: 12.83, R2: 0.78\n"
     ]
    }
   ],
   "source": [
    "# оценка модели\n",
    "mae_test = mean_absolute_error(y_test, stacked_test_preds)\n",
    "r2_test = r2_score(y_test, stacked_test_preds)\n",
    "rmse_test = np.sqrt(mean_squared_error(y_test, stacked_test_preds))\n",
    "\n",
    "print(f'MAE: {mae_test:.2f}, RMSE: {rmse_test:.2f}, R2: {r2_test:.2f}')"
   ]
  },
  {
   "cell_type": "code",
   "execution_count": 60,
   "id": "e641e1a4",
   "metadata": {},
   "outputs": [
    {
     "data": {
      "image/png": "[encoded data removed]",
      "text/plain": [
       "<Figure size 576x288 with 1 Axes>"
      ]
     },
     "metadata": {
      "needs_background": "light"
     },
     "output_type": "display_data"
    }
   ],
   "source": [
    "# Коэффициенты метамодели\n",
    "plt.figure(figsize=(8, 4))\n",
    "plt.bar(meta_feature_names, meta_model.coef_)\n",
    "plt.title('Meta-model Coefficients (Ridge)')\n",
    "plt.grid(True)\n",
    "plt.show()"
   ]
  },
  {
   "cell_type": "code",
   "execution_count": 63,
   "id": "d6656c51",
   "metadata": {},
   "outputs": [
    {
     "data": {
      "image/png": "[encoded data removed]",
      "text/plain": [
       "<Figure size 576x432 with 1 Axes>"
      ]
     },
     "metadata": {
      "needs_background": "light"
     },
     "output_type": "display_data"
    }
   ],
   "source": [
    "# прогноз vs факт\n",
    "plt.figure(figsize=(8, 6))\n",
    "plt.scatter(y_test, stacked_test_preds, alpha=0.7)\n",
    "plt.plot([y_test.min(), y_test.max()], [y_test.min(), y_test.max()], 'r--')\n",
    "plt.xlabel(\"True Values\")\n",
    "plt.ylabel(\"Stacked Predictions\")\n",
    "plt.title(\"True vs Stacked Predictions\")\n",
    "plt.grid(True)\n",
    "plt.tight_layout()\n",
    "plt.show()"
   ]
  },
  {
   "cell_type": "code",
   "execution_count": 65,
   "id": "55c7f5a9",
   "metadata": {},
   "outputs": [
    {
     "data": {
      "image/png": "[encoded data removed]",
      "text/plain": [
       "<Figure size 576x432 with 1 Axes>"
      ]
     },
     "metadata": {
      "needs_background": "light"
     },
     "output_type": "display_data"
    }
   ],
   "source": [
    "# ошибка\n",
    "residuals = stacked_test_preds - y_test\n",
    "plt.figure(figsize=(8, 6))\n",
    "plt.scatter(y_test, residuals, alpha=0.7)\n",
    "plt.axhline(0, color='r', linestyle='--')\n",
    "plt.xlabel(\"True Values\")\n",
    "plt.ylabel(\"Residuals\")\n",
    "plt.title(\"Residuals vs True Values\")\n",
    "plt.grid(True)\n",
    "plt.tight_layout()\n",
    "plt.show()"
   ]
  },
  {
   "cell_type": "code",
   "execution_count": null,
   "id": "cbd5a2f7",
   "metadata": {},
   "outputs": [],
   "source": []
  },
  {
   "cell_type": "code",
   "execution_count": null,
   "id": "b5de2edb",
   "metadata": {},
   "outputs": [],
   "source": []
  },
  {
   "cell_type": "markdown",
   "id": "562abca6",
   "metadata": {},
   "source": [
    "# Predict"
   ]
  },
  {
   "cell_type": "code",
   "execution_count": 67,
   "id": "842b4122",
   "metadata": {},
   "outputs": [],
   "source": [
    "test_df_pred = test_df.copy()"
   ]
  },
  {
   "cell_type": "code",
   "execution_count": 68,
   "id": "65c9a70d",
   "metadata": {},
   "outputs": [],
   "source": [
    "test_df_pred = clean_data(test_df_pred)\n",
    "test_df_pred = episode_to_int(test_df_pred)\n",
    "test_df_pred = fillna_mean(test_df_pred)"
   ]
  },
  {
   "cell_type": "code",
   "execution_count": 69,
   "id": "e1f55f96",
   "metadata": {},
   "outputs": [],
   "source": [
    "for df_t in df_l_metrics:\n",
    "    test_df_pred = test_df_pred.merge(df_t, how='left', on=df_t.columns[0], validate='m:1')  "
   ]
  },
  {
   "cell_type": "code",
   "execution_count": null,
   "id": "bf83d1f8",
   "metadata": {},
   "outputs": [],
   "source": []
  },
  {
   "cell_type": "code",
   "execution_count": 70,
   "id": "8429ace0",
   "metadata": {},
   "outputs": [],
   "source": [
    "X_test_none_new = pd.DataFrame(preprocessor_none.transform(test_df_pred), columns=feature_num + feature_cat)\n",
    "X_test_ohe_new = pd.DataFrame(preprocessor_ohe.transform(test_df_pred), columns=feature_num + list(ohe_cols))\n",
    "X_test_scaled_ohe_new = pd.DataFrame(preprocessor_scaled_ohe.transform(test_df_pred), columns=feature_num + list(scaled_ohe_cols))"
   ]
  },
  {
   "cell_type": "code",
   "execution_count": null,
   "id": "df83c7c3",
   "metadata": {},
   "outputs": [],
   "source": []
  },
  {
   "cell_type": "code",
   "execution_count": 71,
   "id": "4be72ed5",
   "metadata": {},
   "outputs": [],
   "source": [
    "# прогнз базовых моделей\n",
    "base_preds_new = np.column_stack([\n",
    "    model.predict(\n",
    "        X_test_ohe_new if name == \"rf\" else\n",
    "        X_test_none_new if name == \"cb\" else\n",
    "        X_test_scaled_ohe_new\n",
    "    ) for name, model, _, _ in base_models\n",
    "])"
   ]
  },
  {
   "cell_type": "code",
   "execution_count": 72,
   "id": "3cbddb2d",
   "metadata": {},
   "outputs": [
    {
     "name": "stderr",
     "output_type": "stream",
     "text": [
      "C:\\ProgramData\\Anaconda3\\lib\\site-packages\\sklearn\\base.py:450: UserWarning: X does not have valid feature names, but StandardScaler was fitted with feature names\n",
      "  warnings.warn(\n"
     ]
    }
   ],
   "source": [
    "# прогноз метамодели\n",
    "stacked_new_preds = meta_model.predict(scaler_meta.transform(base_preds_new))"
   ]
  },
  {
   "cell_type": "code",
   "execution_count": null,
   "id": "6d5d80f8",
   "metadata": {},
   "outputs": [],
   "source": []
  },
  {
   "cell_type": "code",
   "execution_count": 73,
   "id": "4ef0d03c",
   "metadata": {},
   "outputs": [],
   "source": [
    "out_df = test_df_pred[['id']].copy()\n",
    "out_df['Listening_Time_minutes'] = stacked_new_preds"
   ]
  },
  {
   "cell_type": "code",
   "execution_count": null,
   "id": "1d41f2a1",
   "metadata": {},
   "outputs": [],
   "source": []
  },
  {
   "cell_type": "code",
   "execution_count": null,
   "id": "5e5b76eb",
   "metadata": {},
   "outputs": [],
   "source": [
    "out_df.to_csv('stacked.csv', index=False)"
   ]
  },
  {
   "cell_type": "code",
   "execution_count": null,
   "id": "bf509671",
   "metadata": {},
   "outputs": [],
   "source": []
  },
  {
   "cell_type": "code",
   "execution_count": null,
   "id": "17e468ec",
   "metadata": {},
   "outputs": [],
   "source": []
  }
 ],
 "metadata": {
  "kernelspec": {
   "display_name": "Python 3 (ipykernel)",
   "language": "python",
   "name": "python3"
  },
  "language_info": {
   "codemirror_mode": {
    "name": "ipython",
    "version": 3
   },
   "file_extension": ".py",
   "mimetype": "text/x-python",
   "name": "python",
   "nbconvert_exporter": "python",
   "pygments_lexer": "ipython3",
   "version": "3.9.12"
  }
 },
 "nbformat": 4,
 "nbformat_minor": 5
}
