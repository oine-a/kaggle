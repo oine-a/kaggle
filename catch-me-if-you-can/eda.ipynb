{
 "cells": [
  {
   "cell_type": "markdown",
   "id": "a4cdf394",
   "metadata": {},
   "source": [
    "https://www.kaggle.com/competitions/catch-me-if-you-can-intruder-detection-through-webpage-session-tracking2\n",
    "\n",
    "https://www.kaggle.com/code/dlarionov/alice-finding-perfect-features\n",
    "\n",
    "https://www.kaggle.com/code/ilyayushkov/good-features-bad-features-new-features\n",
    "\n",
    "https://www.kaggle.com/code/smyrbdr/simple-but-useful-time-features-eda"
   ]
  },
  {
   "cell_type": "code",
   "execution_count": 1,
   "id": "239694f5",
   "metadata": {},
   "outputs": [],
   "source": [
    "import pandas as pd\n",
    "import numpy as np\n",
    "\n",
    "import seaborn as sns\n",
    "from matplotlib import pyplot as plt\n",
    "\n",
    "import pickle as pkl"
   ]
  },
  {
   "cell_type": "code",
   "execution_count": 2,
   "id": "a2ae07ad",
   "metadata": {},
   "outputs": [],
   "source": [
    "pd.set_option('display.max_columns', None)"
   ]
  },
  {
   "cell_type": "code",
   "execution_count": null,
   "id": "05daa28b",
   "metadata": {},
   "outputs": [],
   "source": []
  },
  {
   "cell_type": "code",
   "execution_count": 3,
   "id": "097165c0",
   "metadata": {},
   "outputs": [],
   "source": [
    "train_df = pd.read_csv(r'train_sessions.csv')\n",
    "test_df = pd.read_csv(r'test_sessions.csv')"
   ]
  },
  {
   "cell_type": "code",
   "execution_count": 4,
   "id": "fbb24c61",
   "metadata": {},
   "outputs": [
    {
     "data": {
      "text/plain": [
       "(253561, 22)"
      ]
     },
     "execution_count": 4,
     "metadata": {},
     "output_type": "execute_result"
    }
   ],
   "source": [
    "train_df.shape"
   ]
  },
  {
   "cell_type": "code",
   "execution_count": 5,
   "id": "2e18d1f7",
   "metadata": {},
   "outputs": [
    {
     "data": {
      "text/plain": [
       "(82797, 21)"
      ]
     },
     "execution_count": 5,
     "metadata": {},
     "output_type": "execute_result"
    }
   ],
   "source": [
    "test_df.shape"
   ]
  },
  {
   "cell_type": "code",
   "execution_count": null,
   "id": "ca0b7f56",
   "metadata": {},
   "outputs": [],
   "source": []
  },
  {
   "cell_type": "code",
   "execution_count": 6,
   "id": "ec5a9858",
   "metadata": {},
   "outputs": [],
   "source": [
    "with open(r'site_dic.pkl', 'rb') as file:\n",
    "    site_dic = pkl.load(file)\n",
    "    \n",
    "site_dic_inv = {v:k for k,v in site_dic.items()}"
   ]
  },
  {
   "cell_type": "code",
   "execution_count": null,
   "id": "d0672033",
   "metadata": {},
   "outputs": [],
   "source": []
  },
  {
   "cell_type": "code",
   "execution_count": 7,
   "id": "055fa9a4",
   "metadata": {},
   "outputs": [],
   "source": [
    "time_cols = [f'time{i}' for i in range(1,11)]\n",
    "site_cols = [f'site{i}' for i in range(1,11)]"
   ]
  },
  {
   "cell_type": "code",
   "execution_count": 8,
   "id": "1e334aa1",
   "metadata": {},
   "outputs": [],
   "source": [
    "for col in time_cols:\n",
    "    train_df[col] = pd.to_datetime(train_df[col], format=\"%Y-%m-%d %H:%M:%S\")\n",
    "    test_df[col] = pd.to_datetime(test_df[col], format=\"%Y-%m-%d %H:%M:%S\")    "
   ]
  },
  {
   "cell_type": "code",
   "execution_count": null,
   "id": "313cfd73",
   "metadata": {},
   "outputs": [],
   "source": []
  },
  {
   "cell_type": "code",
   "execution_count": 9,
   "id": "2fdb8b4d",
   "metadata": {},
   "outputs": [
    {
     "data": {
      "text/html": [
       "<div>\n",
       "<style scoped>\n",
       "    .dataframe tbody tr th:only-of-type {\n",
       "        vertical-align: middle;\n",
       "    }\n",
       "\n",
       "    .dataframe tbody tr th {\n",
       "        vertical-align: top;\n",
       "    }\n",
       "\n",
       "    .dataframe thead th {\n",
       "        text-align: right;\n",
       "    }\n",
       "</style>\n",
       "<table border=\"1\" class=\"dataframe\">\n",
       "  <thead>\n",
       "    <tr style=\"text-align: right;\">\n",
       "      <th></th>\n",
       "      <th>session_id</th>\n",
       "      <th>site1</th>\n",
       "      <th>time1</th>\n",
       "      <th>site2</th>\n",
       "      <th>time2</th>\n",
       "      <th>site3</th>\n",
       "      <th>time3</th>\n",
       "      <th>site4</th>\n",
       "      <th>time4</th>\n",
       "      <th>site5</th>\n",
       "      <th>time5</th>\n",
       "      <th>site6</th>\n",
       "      <th>time6</th>\n",
       "      <th>site7</th>\n",
       "      <th>time7</th>\n",
       "      <th>site8</th>\n",
       "      <th>time8</th>\n",
       "      <th>site9</th>\n",
       "      <th>time9</th>\n",
       "      <th>site10</th>\n",
       "      <th>time10</th>\n",
       "      <th>target</th>\n",
       "    </tr>\n",
       "  </thead>\n",
       "  <tbody>\n",
       "    <tr>\n",
       "      <th>154191</th>\n",
       "      <td>154192</td>\n",
       "      <td>364</td>\n",
       "      <td>2014-02-26 09:39:36</td>\n",
       "      <td>360.0</td>\n",
       "      <td>2014-02-26 09:39:37</td>\n",
       "      <td>364.0</td>\n",
       "      <td>2014-02-26 09:39:37</td>\n",
       "      <td>363.0</td>\n",
       "      <td>2014-02-26 09:39:37</td>\n",
       "      <td>167.0</td>\n",
       "      <td>2014-02-26 09:39:37</td>\n",
       "      <td>362.0</td>\n",
       "      <td>2014-02-26 09:39:37</td>\n",
       "      <td>362.0</td>\n",
       "      <td>2014-02-26 09:39:38</td>\n",
       "      <td>363.0</td>\n",
       "      <td>2014-02-26 09:39:38</td>\n",
       "      <td>364.0</td>\n",
       "      <td>2014-02-26 09:39:38</td>\n",
       "      <td>360.0</td>\n",
       "      <td>2014-02-26 09:39:38</td>\n",
       "      <td>0</td>\n",
       "    </tr>\n",
       "    <tr>\n",
       "      <th>27442</th>\n",
       "      <td>27443</td>\n",
       "      <td>733</td>\n",
       "      <td>2014-03-04 10:40:23</td>\n",
       "      <td>733.0</td>\n",
       "      <td>2014-03-04 10:40:24</td>\n",
       "      <td>733.0</td>\n",
       "      <td>2014-03-04 10:40:27</td>\n",
       "      <td>733.0</td>\n",
       "      <td>2014-03-04 10:40:29</td>\n",
       "      <td>733.0</td>\n",
       "      <td>2014-03-04 10:40:30</td>\n",
       "      <td>733.0</td>\n",
       "      <td>2014-03-04 10:40:33</td>\n",
       "      <td>733.0</td>\n",
       "      <td>2014-03-04 10:40:34</td>\n",
       "      <td>733.0</td>\n",
       "      <td>2014-03-04 10:40:35</td>\n",
       "      <td>733.0</td>\n",
       "      <td>2014-03-04 10:40:36</td>\n",
       "      <td>733.0</td>\n",
       "      <td>2014-03-04 10:40:39</td>\n",
       "      <td>0</td>\n",
       "    </tr>\n",
       "    <tr>\n",
       "      <th>207038</th>\n",
       "      <td>207039</td>\n",
       "      <td>6095</td>\n",
       "      <td>2014-04-24 08:36:29</td>\n",
       "      <td>301.0</td>\n",
       "      <td>2014-04-24 08:36:29</td>\n",
       "      <td>29.0</td>\n",
       "      <td>2014-04-24 08:36:29</td>\n",
       "      <td>39.0</td>\n",
       "      <td>2014-04-24 08:36:29</td>\n",
       "      <td>35.0</td>\n",
       "      <td>2014-04-24 08:36:29</td>\n",
       "      <td>6094.0</td>\n",
       "      <td>2014-04-24 08:36:30</td>\n",
       "      <td>6095.0</td>\n",
       "      <td>2014-04-24 08:36:30</td>\n",
       "      <td>21.0</td>\n",
       "      <td>2014-04-24 08:36:41</td>\n",
       "      <td>23.0</td>\n",
       "      <td>2014-04-24 08:36:41</td>\n",
       "      <td>301.0</td>\n",
       "      <td>2014-04-24 08:36:44</td>\n",
       "      <td>0</td>\n",
       "    </tr>\n",
       "    <tr>\n",
       "      <th>215052</th>\n",
       "      <td>215053</td>\n",
       "      <td>55</td>\n",
       "      <td>2014-02-20 13:06:30</td>\n",
       "      <td>21.0</td>\n",
       "      <td>2014-02-20 13:06:31</td>\n",
       "      <td>23.0</td>\n",
       "      <td>2014-02-20 13:06:39</td>\n",
       "      <td>814.0</td>\n",
       "      <td>2014-02-20 13:06:40</td>\n",
       "      <td>677.0</td>\n",
       "      <td>2014-02-20 13:06:41</td>\n",
       "      <td>39.0</td>\n",
       "      <td>2014-02-20 13:06:43</td>\n",
       "      <td>22.0</td>\n",
       "      <td>2014-02-20 13:07:14</td>\n",
       "      <td>50.0</td>\n",
       "      <td>2014-02-20 13:07:26</td>\n",
       "      <td>570.0</td>\n",
       "      <td>2014-02-20 13:07:40</td>\n",
       "      <td>812.0</td>\n",
       "      <td>2014-02-20 13:08:39</td>\n",
       "      <td>0</td>\n",
       "    </tr>\n",
       "    <tr>\n",
       "      <th>172476</th>\n",
       "      <td>172477</td>\n",
       "      <td>145</td>\n",
       "      <td>2014-02-24 09:36:40</td>\n",
       "      <td>570.0</td>\n",
       "      <td>2014-02-24 09:36:42</td>\n",
       "      <td>45.0</td>\n",
       "      <td>2014-02-24 09:37:10</td>\n",
       "      <td>45.0</td>\n",
       "      <td>2014-02-24 09:37:13</td>\n",
       "      <td>145.0</td>\n",
       "      <td>2014-02-24 09:38:54</td>\n",
       "      <td>55.0</td>\n",
       "      <td>2014-02-24 09:39:05</td>\n",
       "      <td>56.0</td>\n",
       "      <td>2014-02-24 09:39:05</td>\n",
       "      <td>55.0</td>\n",
       "      <td>2014-02-24 09:39:06</td>\n",
       "      <td>55.0</td>\n",
       "      <td>2014-02-24 09:39:07</td>\n",
       "      <td>145.0</td>\n",
       "      <td>2014-02-24 09:40:50</td>\n",
       "      <td>0</td>\n",
       "    </tr>\n",
       "  </tbody>\n",
       "</table>\n",
       "</div>"
      ],
      "text/plain": [
       "        session_id  site1               time1  site2               time2  \\\n",
       "154191      154192    364 2014-02-26 09:39:36  360.0 2014-02-26 09:39:37   \n",
       "27442        27443    733 2014-03-04 10:40:23  733.0 2014-03-04 10:40:24   \n",
       "207038      207039   6095 2014-04-24 08:36:29  301.0 2014-04-24 08:36:29   \n",
       "215052      215053     55 2014-02-20 13:06:30   21.0 2014-02-20 13:06:31   \n",
       "172476      172477    145 2014-02-24 09:36:40  570.0 2014-02-24 09:36:42   \n",
       "\n",
       "        site3               time3  site4               time4  site5  \\\n",
       "154191  364.0 2014-02-26 09:39:37  363.0 2014-02-26 09:39:37  167.0   \n",
       "27442   733.0 2014-03-04 10:40:27  733.0 2014-03-04 10:40:29  733.0   \n",
       "207038   29.0 2014-04-24 08:36:29   39.0 2014-04-24 08:36:29   35.0   \n",
       "215052   23.0 2014-02-20 13:06:39  814.0 2014-02-20 13:06:40  677.0   \n",
       "172476   45.0 2014-02-24 09:37:10   45.0 2014-02-24 09:37:13  145.0   \n",
       "\n",
       "                     time5   site6               time6   site7  \\\n",
       "154191 2014-02-26 09:39:37   362.0 2014-02-26 09:39:37   362.0   \n",
       "27442  2014-03-04 10:40:30   733.0 2014-03-04 10:40:33   733.0   \n",
       "207038 2014-04-24 08:36:29  6094.0 2014-04-24 08:36:30  6095.0   \n",
       "215052 2014-02-20 13:06:41    39.0 2014-02-20 13:06:43    22.0   \n",
       "172476 2014-02-24 09:38:54    55.0 2014-02-24 09:39:05    56.0   \n",
       "\n",
       "                     time7  site8               time8  site9  \\\n",
       "154191 2014-02-26 09:39:38  363.0 2014-02-26 09:39:38  364.0   \n",
       "27442  2014-03-04 10:40:34  733.0 2014-03-04 10:40:35  733.0   \n",
       "207038 2014-04-24 08:36:30   21.0 2014-04-24 08:36:41   23.0   \n",
       "215052 2014-02-20 13:07:14   50.0 2014-02-20 13:07:26  570.0   \n",
       "172476 2014-02-24 09:39:05   55.0 2014-02-24 09:39:06   55.0   \n",
       "\n",
       "                     time9  site10              time10  target  \n",
       "154191 2014-02-26 09:39:38   360.0 2014-02-26 09:39:38       0  \n",
       "27442  2014-03-04 10:40:36   733.0 2014-03-04 10:40:39       0  \n",
       "207038 2014-04-24 08:36:41   301.0 2014-04-24 08:36:44       0  \n",
       "215052 2014-02-20 13:07:40   812.0 2014-02-20 13:08:39       0  \n",
       "172476 2014-02-24 09:39:07   145.0 2014-02-24 09:40:50       0  "
      ]
     },
     "execution_count": 9,
     "metadata": {},
     "output_type": "execute_result"
    }
   ],
   "source": [
    "train_df.sample(5)"
   ]
  },
  {
   "cell_type": "code",
   "execution_count": null,
   "id": "20eac3cb",
   "metadata": {},
   "outputs": [],
   "source": []
  },
  {
   "cell_type": "code",
   "execution_count": 10,
   "id": "f11c0ad0",
   "metadata": {},
   "outputs": [],
   "source": [
    "def extract_date_features(df, date_column='time1'):\n",
    "    \n",
    "    #df['start_date'] = df[date_column].dt.date\n",
    "    df['start_year'] = df[date_column].dt.year\n",
    "    df['start_month'] = df[date_column].dt.month\n",
    "    df['start_year_month'] = df[date_column].dt.strftime('%Y%m')\n",
    "    df['start_week'] = df[date_column].dt.isocalendar().week\n",
    "    df['start_day'] = df[date_column].dt.day\n",
    "    df['start_weekday'] = df[date_column].dt.weekday\n",
    "    df['start_is_weekend'] = df['start_weekday'].isin([5, 6]).astype(int)\n",
    "    df['start_hour'] = df['time1'].dt.hour\n",
    "    \n",
    "    return df"
   ]
  },
  {
   "cell_type": "code",
   "execution_count": 11,
   "id": "bca6a36a",
   "metadata": {},
   "outputs": [],
   "source": [
    "train_df = extract_date_features(train_df)"
   ]
  },
  {
   "cell_type": "code",
   "execution_count": null,
   "id": "863314dc",
   "metadata": {},
   "outputs": [],
   "source": []
  },
  {
   "cell_type": "code",
   "execution_count": 12,
   "id": "4ac95f9c",
   "metadata": {},
   "outputs": [],
   "source": [
    "def extract_session_times_features(df):\n",
    "    \n",
    "    df['session_len'] = df[time_cols].notna().sum(axis=1)\n",
    "    df['session_duration'] = (df[time_cols].max(axis=1) - df[time_cols].min(axis=1)).dt.total_seconds()\n",
    "    df['session_delta_mean'] = df[time_cols].diff(axis=1).mean(axis=1).dt.total_seconds().fillna(0)\n",
    "    df['session_delta_std'] = df[time_cols].diff(axis=1).std(axis=1).dt.total_seconds().fillna(0)\n",
    "    df['session_delta_min'] = df[time_cols].diff(axis=1).min(axis=1).dt.total_seconds().fillna(0)\n",
    "    df['session_delta_max'] = df[time_cols].diff(axis=1).max(axis=1).dt.total_seconds().fillna(0)\n",
    "    \n",
    "    return df"
   ]
  },
  {
   "cell_type": "code",
   "execution_count": 13,
   "id": "f9dd2dc7",
   "metadata": {},
   "outputs": [],
   "source": [
    "train_df = extract_session_times_features(train_df)"
   ]
  },
  {
   "cell_type": "code",
   "execution_count": null,
   "id": "63a4401b",
   "metadata": {},
   "outputs": [],
   "source": []
  },
  {
   "cell_type": "code",
   "execution_count": 14,
   "id": "7fb60a10",
   "metadata": {},
   "outputs": [
    {
     "data": {
      "text/plain": [
       "(Timestamp('2013-01-12 08:05:57'), Timestamp('2014-04-30 23:39:53'))"
      ]
     },
     "execution_count": 14,
     "metadata": {},
     "output_type": "execute_result"
    }
   ],
   "source": [
    "train_df['time1'].min(), train_df['time1'].max()"
   ]
  },
  {
   "cell_type": "code",
   "execution_count": null,
   "id": "7e597388",
   "metadata": {},
   "outputs": [],
   "source": []
  },
  {
   "cell_type": "code",
   "execution_count": null,
   "id": "f23eb2ae",
   "metadata": {},
   "outputs": [],
   "source": []
  },
  {
   "cell_type": "code",
   "execution_count": null,
   "id": "50ed9066",
   "metadata": {},
   "outputs": [],
   "source": []
  },
  {
   "cell_type": "code",
   "execution_count": null,
   "id": "5d0ef3d3",
   "metadata": {},
   "outputs": [],
   "source": []
  },
  {
   "cell_type": "code",
   "execution_count": 15,
   "id": "464c2483",
   "metadata": {},
   "outputs": [
    {
     "data": {
      "text/plain": [
       "0    0.990941\n",
       "1    0.009059\n",
       "Name: target, dtype: float64"
      ]
     },
     "execution_count": 15,
     "metadata": {},
     "output_type": "execute_result"
    }
   ],
   "source": [
    "train_df['target'].value_counts(1)"
   ]
  },
  {
   "cell_type": "code",
   "execution_count": null,
   "id": "9a33bc68",
   "metadata": {},
   "outputs": [],
   "source": []
  },
  {
   "cell_type": "code",
   "execution_count": 16,
   "id": "533e77c8",
   "metadata": {},
   "outputs": [],
   "source": [
    "def show_count(df, x_axis):\n",
    "    \n",
    "    df_gr =  df.groupby([x_axis, 'target'], as_index=False)['session_id'].count()\n",
    "    df_gr['sum'] = df_gr.groupby(['target'])['session_id'].transform('max')\n",
    "    df_gr['ratio'] = df_gr['session_id'] / df_gr['sum']\n",
    "    \n",
    "    plt.figure(figsize=(10, 4))\n",
    "    plt.title(x_axis, fontsize=20)\n",
    "    sns.barplot(data=df_gr[df_gr['target']==0],\n",
    "                x=x_axis, y='session_id', color='gray', ci=None)\n",
    "    plt.xticks(rotation=30)\n",
    "    plt.show()\n",
    "\n",
    "    plt.figure(figsize=(10, 4))\n",
    "    sns.barplot(data=df_gr[df_gr['target']==1],\n",
    "                x=x_axis, y='session_id', color='indianred', ci=None)\n",
    "    plt.xticks(rotation=30)\n",
    "    plt.show()\n",
    "\n",
    "    plt.figure(figsize=(10, 4))\n",
    "    sns.barplot(data=df_gr,\n",
    "                x=x_axis, y='ratio', hue='target', ci=None)\n",
    "    plt.xticks(rotation=30)\n",
    "    plt.show()"
   ]
  },
  {
   "cell_type": "code",
   "execution_count": 17,
   "id": "995d42a9",
   "metadata": {},
   "outputs": [
    {
     "data": {
      "image/png": "[encoded data removed]",
      "text/plain": [
       "<Figure size 720x288 with 1 Axes>"
      ]
     },
     "metadata": {
      "needs_background": "light"
     },
     "output_type": "display_data"
    },
    {
     "data": {
      "image/png": "[encoded data removed]",
      "text/plain": [
       "<Figure size 720x288 with 1 Axes>"
      ]
     },
     "metadata": {
      "needs_background": "light"
     },
     "output_type": "display_data"
    },
    {
     "data": {
      "image/png": "[encoded data removed]",
      "text/plain": [
       "<Figure size 720x288 with 1 Axes>"
      ]
     },
     "metadata": {
      "needs_background": "light"
     },
     "output_type": "display_data"
    }
   ],
   "source": [
    "show_count(train_df, 'start_year_month')"
   ]
  },
  {
   "cell_type": "code",
   "execution_count": 18,
   "id": "14b25246",
   "metadata": {},
   "outputs": [
    {
     "data": {
      "image/png": "[encoded data removed]",
      "text/plain": [
       "<Figure size 720x288 with 1 Axes>"
      ]
     },
     "metadata": {
      "needs_background": "light"
     },
     "output_type": "display_data"
    },
    {
     "data": {
      "image/png": "[encoded data removed]",
      "text/plain": [
       "<Figure size 720x288 with 1 Axes>"
      ]
     },
     "metadata": {
      "needs_background": "light"
     },
     "output_type": "display_data"
    },
    {
     "data": {
      "image/png": "[encoded data removed]",
      "text/plain": [
       "<Figure size 720x288 with 1 Axes>"
      ]
     },
     "metadata": {
      "needs_background": "light"
     },
     "output_type": "display_data"
    }
   ],
   "source": [
    "show_count(train_df, 'start_week')"
   ]
  },
  {
   "cell_type": "code",
   "execution_count": 19,
   "id": "4712888d",
   "metadata": {},
   "outputs": [
    {
     "data": {
      "image/png": "[encoded data removed]",
      "text/plain": [
       "<Figure size 720x288 with 1 Axes>"
      ]
     },
     "metadata": {
      "needs_background": "light"
     },
     "output_type": "display_data"
    },
    {
     "data": {
      "image/png": "[encoded data removed]",
      "text/plain": [
       "<Figure size 720x288 with 1 Axes>"
      ]
     },
     "metadata": {
      "needs_background": "light"
     },
     "output_type": "display_data"
    },
    {
     "data": {
      "image/png": "[encoded data removed]",
      "text/plain": [
       "<Figure size 720x288 with 1 Axes>"
      ]
     },
     "metadata": {
      "needs_background": "light"
     },
     "output_type": "display_data"
    }
   ],
   "source": [
    "show_count(train_df, 'start_day')"
   ]
  },
  {
   "cell_type": "code",
   "execution_count": 20,
   "id": "8c8863ea",
   "metadata": {},
   "outputs": [
    {
     "data": {
      "image/png": "[encoded data removed]",
      "text/plain": [
       "<Figure size 720x288 with 1 Axes>"
      ]
     },
     "metadata": {
      "needs_background": "light"
     },
     "output_type": "display_data"
    },
    {
     "data": {
      "image/png": "[encoded data removed]",
      "text/plain": [
       "<Figure size 720x288 with 1 Axes>"
      ]
     },
     "metadata": {
      "needs_background": "light"
     },
     "output_type": "display_data"
    },
    {
     "data": {
      "image/png": "[encoded data removed]",
      "text/plain": [
       "<Figure size 720x288 with 1 Axes>"
      ]
     },
     "metadata": {
      "needs_background": "light"
     },
     "output_type": "display_data"
    }
   ],
   "source": [
    "show_count(train_df, 'start_weekday')"
   ]
  },
  {
   "cell_type": "code",
   "execution_count": 21,
   "id": "08fafac3",
   "metadata": {},
   "outputs": [
    {
     "data": {
      "image/png": "[encoded data removed]",
      "text/plain": [
       "<Figure size 720x288 with 1 Axes>"
      ]
     },
     "metadata": {
      "needs_background": "light"
     },
     "output_type": "display_data"
    },
    {
     "data": {
      "image/png": "[encoded data removed]",
      "text/plain": [
       "<Figure size 720x288 with 1 Axes>"
      ]
     },
     "metadata": {
      "needs_background": "light"
     },
     "output_type": "display_data"
    },
    {
     "data": {
      "image/png": "[encoded data removed]",
      "text/plain": [
       "<Figure size 720x288 with 1 Axes>"
      ]
     },
     "metadata": {
      "needs_background": "light"
     },
     "output_type": "display_data"
    }
   ],
   "source": [
    "show_count(train_df, 'start_is_weekend')"
   ]
  },
  {
   "cell_type": "code",
   "execution_count": 22,
   "id": "c091c262",
   "metadata": {},
   "outputs": [
    {
     "data": {
      "image/png": "[encoded data removed]",
      "text/plain": [
       "<Figure size 720x288 with 1 Axes>"
      ]
     },
     "metadata": {
      "needs_background": "light"
     },
     "output_type": "display_data"
    },
    {
     "data": {
      "image/png": "[encoded data removed]",
      "text/plain": [
       "<Figure size 720x288 with 1 Axes>"
      ]
     },
     "metadata": {
      "needs_background": "light"
     },
     "output_type": "display_data"
    },
    {
     "data": {
      "image/png": "[encoded data removed]",
      "text/plain": [
       "<Figure size 720x288 with 1 Axes>"
      ]
     },
     "metadata": {
      "needs_background": "light"
     },
     "output_type": "display_data"
    }
   ],
   "source": [
    "show_count(train_df, 'start_hour')"
   ]
  },
  {
   "cell_type": "code",
   "execution_count": 23,
   "id": "abe09f98",
   "metadata": {},
   "outputs": [
    {
     "data": {
      "image/png": "[encoded data removed]",
      "text/plain": [
       "<Figure size 720x288 with 1 Axes>"
      ]
     },
     "metadata": {
      "needs_background": "light"
     },
     "output_type": "display_data"
    },
    {
     "data": {
      "image/png": "[encoded data removed]",
      "text/plain": [
       "<Figure size 720x288 with 1 Axes>"
      ]
     },
     "metadata": {
      "needs_background": "light"
     },
     "output_type": "display_data"
    },
    {
     "data": {
      "image/png": "[encoded data removed]",
      "text/plain": [
       "<Figure size 720x288 with 1 Axes>"
      ]
     },
     "metadata": {
      "needs_background": "light"
     },
     "output_type": "display_data"
    }
   ],
   "source": [
    "show_count(train_df, 'session_len')"
   ]
  },
  {
   "cell_type": "code",
   "execution_count": null,
   "id": "1ca07b89",
   "metadata": {},
   "outputs": [],
   "source": []
  },
  {
   "cell_type": "code",
   "execution_count": null,
   "id": "ac6dcc5b",
   "metadata": {},
   "outputs": [],
   "source": []
  },
  {
   "cell_type": "code",
   "execution_count": 24,
   "id": "b5336e46",
   "metadata": {},
   "outputs": [
    {
     "data": {
      "text/html": [
       "<div>\n",
       "<style scoped>\n",
       "    .dataframe tbody tr th:only-of-type {\n",
       "        vertical-align: middle;\n",
       "    }\n",
       "\n",
       "    .dataframe tbody tr th {\n",
       "        vertical-align: top;\n",
       "    }\n",
       "\n",
       "    .dataframe thead th {\n",
       "        text-align: right;\n",
       "    }\n",
       "</style>\n",
       "<table border=\"1\" class=\"dataframe\">\n",
       "  <thead>\n",
       "    <tr style=\"text-align: right;\">\n",
       "      <th></th>\n",
       "      <th>count</th>\n",
       "      <th>mean</th>\n",
       "      <th>std</th>\n",
       "      <th>min</th>\n",
       "      <th>25%</th>\n",
       "      <th>50%</th>\n",
       "      <th>75%</th>\n",
       "      <th>max</th>\n",
       "    </tr>\n",
       "  </thead>\n",
       "  <tbody>\n",
       "    <tr>\n",
       "      <th>session_len</th>\n",
       "      <td>251264.0</td>\n",
       "      <td>9.512350</td>\n",
       "      <td>1.742295</td>\n",
       "      <td>1.0</td>\n",
       "      <td>10.000000</td>\n",
       "      <td>10.000000</td>\n",
       "      <td>10.000000</td>\n",
       "      <td>10.000000</td>\n",
       "    </tr>\n",
       "    <tr>\n",
       "      <th>session_duration</th>\n",
       "      <td>251264.0</td>\n",
       "      <td>139.282372</td>\n",
       "      <td>296.653518</td>\n",
       "      <td>0.0</td>\n",
       "      <td>7.000000</td>\n",
       "      <td>28.000000</td>\n",
       "      <td>114.000000</td>\n",
       "      <td>1800.000000</td>\n",
       "    </tr>\n",
       "    <tr>\n",
       "      <th>session_delta_mean</th>\n",
       "      <td>251264.0</td>\n",
       "      <td>20.185155</td>\n",
       "      <td>64.501559</td>\n",
       "      <td>0.0</td>\n",
       "      <td>0.777778</td>\n",
       "      <td>3.200000</td>\n",
       "      <td>13.222222</td>\n",
       "      <td>1800.000000</td>\n",
       "    </tr>\n",
       "    <tr>\n",
       "      <th>session_delta_std</th>\n",
       "      <td>251264.0</td>\n",
       "      <td>31.703585</td>\n",
       "      <td>88.409530</td>\n",
       "      <td>0.0</td>\n",
       "      <td>0.726483</td>\n",
       "      <td>4.265495</td>\n",
       "      <td>18.283265</td>\n",
       "      <td>1269.963779</td>\n",
       "    </tr>\n",
       "    <tr>\n",
       "      <th>session_delta_min</th>\n",
       "      <td>251264.0</td>\n",
       "      <td>2.582025</td>\n",
       "      <td>42.086998</td>\n",
       "      <td>0.0</td>\n",
       "      <td>0.000000</td>\n",
       "      <td>0.000000</td>\n",
       "      <td>0.000000</td>\n",
       "      <td>1800.000000</td>\n",
       "    </tr>\n",
       "    <tr>\n",
       "      <th>session_delta_max</th>\n",
       "      <td>251264.0</td>\n",
       "      <td>87.492880</td>\n",
       "      <td>221.818016</td>\n",
       "      <td>0.0</td>\n",
       "      <td>2.000000</td>\n",
       "      <td>13.000000</td>\n",
       "      <td>55.000000</td>\n",
       "      <td>1800.000000</td>\n",
       "    </tr>\n",
       "  </tbody>\n",
       "</table>\n",
       "</div>"
      ],
      "text/plain": [
       "                       count        mean         std  min        25%  \\\n",
       "session_len         251264.0    9.512350    1.742295  1.0  10.000000   \n",
       "session_duration    251264.0  139.282372  296.653518  0.0   7.000000   \n",
       "session_delta_mean  251264.0   20.185155   64.501559  0.0   0.777778   \n",
       "session_delta_std   251264.0   31.703585   88.409530  0.0   0.726483   \n",
       "session_delta_min   251264.0    2.582025   42.086998  0.0   0.000000   \n",
       "session_delta_max   251264.0   87.492880  221.818016  0.0   2.000000   \n",
       "\n",
       "                          50%         75%          max  \n",
       "session_len         10.000000   10.000000    10.000000  \n",
       "session_duration    28.000000  114.000000  1800.000000  \n",
       "session_delta_mean   3.200000   13.222222  1800.000000  \n",
       "session_delta_std    4.265495   18.283265  1269.963779  \n",
       "session_delta_min    0.000000    0.000000  1800.000000  \n",
       "session_delta_max   13.000000   55.000000  1800.000000  "
      ]
     },
     "execution_count": 24,
     "metadata": {},
     "output_type": "execute_result"
    }
   ],
   "source": [
    "train_df[train_df['target']==0][['session_len', 'session_duration', 'session_delta_mean',\n",
    "          'session_delta_std', 'session_delta_min', 'session_delta_max']].describe().T"
   ]
  },
  {
   "cell_type": "code",
   "execution_count": 25,
   "id": "26ca81e4",
   "metadata": {},
   "outputs": [
    {
     "data": {
      "text/html": [
       "<div>\n",
       "<style scoped>\n",
       "    .dataframe tbody tr th:only-of-type {\n",
       "        vertical-align: middle;\n",
       "    }\n",
       "\n",
       "    .dataframe tbody tr th {\n",
       "        vertical-align: top;\n",
       "    }\n",
       "\n",
       "    .dataframe thead th {\n",
       "        text-align: right;\n",
       "    }\n",
       "</style>\n",
       "<table border=\"1\" class=\"dataframe\">\n",
       "  <thead>\n",
       "    <tr style=\"text-align: right;\">\n",
       "      <th></th>\n",
       "      <th>count</th>\n",
       "      <th>mean</th>\n",
       "      <th>std</th>\n",
       "      <th>min</th>\n",
       "      <th>25%</th>\n",
       "      <th>50%</th>\n",
       "      <th>75%</th>\n",
       "      <th>max</th>\n",
       "    </tr>\n",
       "  </thead>\n",
       "  <tbody>\n",
       "    <tr>\n",
       "      <th>session_len</th>\n",
       "      <td>2297.0</td>\n",
       "      <td>9.912495</td>\n",
       "      <td>0.734720</td>\n",
       "      <td>1.0</td>\n",
       "      <td>10.000000</td>\n",
       "      <td>10.000000</td>\n",
       "      <td>10.000000</td>\n",
       "      <td>10.000000</td>\n",
       "    </tr>\n",
       "    <tr>\n",
       "      <th>session_duration</th>\n",
       "      <td>2297.0</td>\n",
       "      <td>52.296474</td>\n",
       "      <td>153.309014</td>\n",
       "      <td>0.0</td>\n",
       "      <td>4.000000</td>\n",
       "      <td>11.000000</td>\n",
       "      <td>38.000000</td>\n",
       "      <td>1763.000000</td>\n",
       "    </tr>\n",
       "    <tr>\n",
       "      <th>session_delta_mean</th>\n",
       "      <td>2297.0</td>\n",
       "      <td>6.406858</td>\n",
       "      <td>22.797499</td>\n",
       "      <td>0.0</td>\n",
       "      <td>0.444444</td>\n",
       "      <td>1.222222</td>\n",
       "      <td>4.222222</td>\n",
       "      <td>540.333333</td>\n",
       "    </tr>\n",
       "    <tr>\n",
       "      <th>session_delta_std</th>\n",
       "      <td>2297.0</td>\n",
       "      <td>11.146912</td>\n",
       "      <td>40.383271</td>\n",
       "      <td>0.0</td>\n",
       "      <td>0.666667</td>\n",
       "      <td>1.833333</td>\n",
       "      <td>6.300353</td>\n",
       "      <td>611.466271</td>\n",
       "    </tr>\n",
       "    <tr>\n",
       "      <th>session_delta_min</th>\n",
       "      <td>2297.0</td>\n",
       "      <td>0.343492</td>\n",
       "      <td>5.625740</td>\n",
       "      <td>0.0</td>\n",
       "      <td>0.000000</td>\n",
       "      <td>0.000000</td>\n",
       "      <td>0.000000</td>\n",
       "      <td>184.000000</td>\n",
       "    </tr>\n",
       "    <tr>\n",
       "      <th>session_delta_max</th>\n",
       "      <td>2297.0</td>\n",
       "      <td>31.801480</td>\n",
       "      <td>111.436888</td>\n",
       "      <td>0.0</td>\n",
       "      <td>2.000000</td>\n",
       "      <td>5.000000</td>\n",
       "      <td>18.000000</td>\n",
       "      <td>1746.000000</td>\n",
       "    </tr>\n",
       "  </tbody>\n",
       "</table>\n",
       "</div>"
      ],
      "text/plain": [
       "                     count       mean         std  min        25%        50%  \\\n",
       "session_len         2297.0   9.912495    0.734720  1.0  10.000000  10.000000   \n",
       "session_duration    2297.0  52.296474  153.309014  0.0   4.000000  11.000000   \n",
       "session_delta_mean  2297.0   6.406858   22.797499  0.0   0.444444   1.222222   \n",
       "session_delta_std   2297.0  11.146912   40.383271  0.0   0.666667   1.833333   \n",
       "session_delta_min   2297.0   0.343492    5.625740  0.0   0.000000   0.000000   \n",
       "session_delta_max   2297.0  31.801480  111.436888  0.0   2.000000   5.000000   \n",
       "\n",
       "                          75%          max  \n",
       "session_len         10.000000    10.000000  \n",
       "session_duration    38.000000  1763.000000  \n",
       "session_delta_mean   4.222222   540.333333  \n",
       "session_delta_std    6.300353   611.466271  \n",
       "session_delta_min    0.000000   184.000000  \n",
       "session_delta_max   18.000000  1746.000000  "
      ]
     },
     "execution_count": 25,
     "metadata": {},
     "output_type": "execute_result"
    }
   ],
   "source": [
    "train_df[train_df['target']==1][['session_len', 'session_duration', 'session_delta_mean',\n",
    "          'session_delta_std', 'session_delta_min', 'session_delta_max']].describe().T"
   ]
  },
  {
   "cell_type": "code",
   "execution_count": 26,
   "id": "1f2b1430",
   "metadata": {},
   "outputs": [
    {
     "data": {
      "image/png": "[encoded data removed]",
      "text/plain": [
       "<Figure size 1080x144 with 1 Axes>"
      ]
     },
     "metadata": {
      "needs_background": "light"
     },
     "output_type": "display_data"
    },
    {
     "data": {
      "image/png": "[encoded data removed]",
      "text/plain": [
       "<Figure size 1080x144 with 1 Axes>"
      ]
     },
     "metadata": {
      "needs_background": "light"
     },
     "output_type": "display_data"
    }
   ],
   "source": [
    "plt.figure(figsize=(15, 2))\n",
    "plt.title('session_duration', fontsize=20)\n",
    "sns.boxplot(data=train_df[(train_df['target']==0) & (train_df['session_duration']<500)] , x='session_duration')\n",
    "plt.xticks(rotation=30)\n",
    "plt.show()\n",
    "\n",
    "plt.figure(figsize=(15, 2))\n",
    "sns.boxplot(data=train_df[(train_df['target']==1) & (train_df['session_duration']<500)] , x='session_duration')\n",
    "plt.xticks(rotation=30)\n",
    "plt.show()"
   ]
  },
  {
   "cell_type": "code",
   "execution_count": 27,
   "id": "3cbab337",
   "metadata": {},
   "outputs": [
    {
     "data": {
      "image/png": "[encoded data removed]",
      "text/plain": [
       "<Figure size 1080x144 with 1 Axes>"
      ]
     },
     "metadata": {
      "needs_background": "light"
     },
     "output_type": "display_data"
    },
    {
     "data": {
      "image/png": "[encoded data removed]",
      "text/plain": [
       "<Figure size 1080x144 with 1 Axes>"
      ]
     },
     "metadata": {
      "needs_background": "light"
     },
     "output_type": "display_data"
    }
   ],
   "source": [
    "plt.figure(figsize=(15, 2))\n",
    "plt.title('session_delta_mean', fontsize=20)\n",
    "sns.boxplot(data=train_df[(train_df['target']==0) & (train_df['session_duration']<100)] , x='session_delta_mean')\n",
    "plt.xticks(rotation=30)\n",
    "plt.show()\n",
    "\n",
    "plt.figure(figsize=(15, 2))\n",
    "sns.boxplot(data=train_df[(train_df['target']==1) & (train_df['session_duration']<100)] , x='session_delta_mean')\n",
    "plt.xticks(rotation=30)\n",
    "plt.show()"
   ]
  },
  {
   "cell_type": "code",
   "execution_count": null,
   "id": "39a4e1f1",
   "metadata": {},
   "outputs": [],
   "source": []
  },
  {
   "cell_type": "code",
   "execution_count": null,
   "id": "3d86fd86",
   "metadata": {},
   "outputs": [],
   "source": []
  },
  {
   "cell_type": "code",
   "execution_count": null,
   "id": "981c27d3",
   "metadata": {},
   "outputs": [],
   "source": []
  },
  {
   "cell_type": "code",
   "execution_count": 28,
   "id": "5a8b598f",
   "metadata": {},
   "outputs": [],
   "source": [
    "train_df[site_cols] = train_df[site_cols].fillna(0)\n",
    "site_dic_inv_s = pd.Series(site_dic_inv)\n",
    "\n",
    "for col in site_cols:    \n",
    "    site_dic_inv_s.name = col+'_name'\n",
    "    train_df = train_df.merge(site_dic_inv_s, how='left', left_on=col, right_index=True, validate='m:1')"
   ]
  },
  {
   "cell_type": "code",
   "execution_count": 29,
   "id": "f5d8ed2f",
   "metadata": {},
   "outputs": [],
   "source": [
    "site_cols_names = [ col+'_name' for col in site_cols ]\n",
    "train_df[site_cols_names] = train_df[site_cols_names].fillna('none.none')"
   ]
  },
  {
   "cell_type": "code",
   "execution_count": null,
   "id": "5efda0ca",
   "metadata": {},
   "outputs": [],
   "source": []
  },
  {
   "cell_type": "code",
   "execution_count": null,
   "id": "d01409c2",
   "metadata": {},
   "outputs": [],
   "source": []
  },
  {
   "cell_type": "code",
   "execution_count": 30,
   "id": "cf018d04",
   "metadata": {},
   "outputs": [],
   "source": [
    "df_sites = pd.DataFrame()\n",
    "\n",
    "for col in site_cols_names:\n",
    "    df_sites = pd.concat([df_sites,\n",
    "                          train_df[[col, 'target']].rename(columns={col:'site_name'})],\n",
    "                         ignore_index=True)\n",
    "    \n",
    "df_sites['cnt'] = 1"
   ]
  },
  {
   "cell_type": "code",
   "execution_count": 31,
   "id": "09cf6e99",
   "metadata": {},
   "outputs": [],
   "source": [
    "df_sites_piv = df_sites.pivot_table(index='site_name', columns='target', values='cnt',\n",
    "                                    aggfunc='sum', fill_value=0).reset_index()"
   ]
  },
  {
   "cell_type": "code",
   "execution_count": 32,
   "id": "d3b498d0",
   "metadata": {},
   "outputs": [],
   "source": [
    "df_sites_piv['freq'] = df_sites_piv[1] / (df_sites_piv[0]+df_sites_piv[1])"
   ]
  },
  {
   "cell_type": "code",
   "execution_count": 33,
   "id": "2863fc97",
   "metadata": {},
   "outputs": [
    {
     "data": {
      "text/plain": [
       "0.02533532041728763"
      ]
     },
     "execution_count": 33,
     "metadata": {},
     "output_type": "execute_result"
    }
   ],
   "source": [
    "# sires visit Alice\n",
    "len(df_sites_piv[df_sites_piv[1]!=0]) / len(df_sites_piv)"
   ]
  },
  {
   "cell_type": "code",
   "execution_count": 34,
   "id": "910f9d92",
   "metadata": {},
   "outputs": [
    {
     "data": {
      "image/png": "[encoded data removed]",
      "text/plain": [
       "<Figure size 720x432 with 1 Axes>"
      ]
     },
     "metadata": {
      "needs_background": "light"
     },
     "output_type": "display_data"
    }
   ],
   "source": [
    "plt.figure(figsize=(10, 6))\n",
    "sns.histplot(data=df_sites_piv[df_sites_piv[1]!=0], x='freq', bins=20)\n",
    "plt.xticks(rotation=30)\n",
    "plt.show()"
   ]
  },
  {
   "cell_type": "code",
   "execution_count": 35,
   "id": "beabab70",
   "metadata": {},
   "outputs": [],
   "source": [
    "df_sites['domain'] = df_sites['site_name'].str.split('.').str[-1]"
   ]
  },
  {
   "cell_type": "code",
   "execution_count": 36,
   "id": "4c70dc36",
   "metadata": {},
   "outputs": [],
   "source": [
    "df_sites_piv_domain = df_sites.pivot_table(index='domain', columns='target', values='cnt',\n",
    "                                           aggfunc='sum', fill_value=0).reset_index()"
   ]
  },
  {
   "cell_type": "code",
   "execution_count": 37,
   "id": "8200a960",
   "metadata": {},
   "outputs": [],
   "source": [
    "df_sites_piv_domain['freq'] = df_sites_piv_domain[1] / (df_sites_piv_domain[0]+df_sites_piv_domain[1])"
   ]
  },
  {
   "cell_type": "code",
   "execution_count": 38,
   "id": "1046ecf2",
   "metadata": {},
   "outputs": [
    {
     "data": {
      "text/plain": [
       "0.167420814479638"
      ]
     },
     "execution_count": 38,
     "metadata": {},
     "output_type": "execute_result"
    }
   ],
   "source": [
    "# sires visit Alice\n",
    "len(df_sites_piv_domain[df_sites_piv_domain[1]!=0]) / len(df_sites_piv_domain)"
   ]
  },
  {
   "cell_type": "code",
   "execution_count": 39,
   "id": "45f7aab6",
   "metadata": {},
   "outputs": [
    {
     "data": {
      "image/png": "[encoded data removed]",
      "text/plain": [
       "<Figure size 720x432 with 1 Axes>"
      ]
     },
     "metadata": {
      "needs_background": "light"
     },
     "output_type": "display_data"
    }
   ],
   "source": [
    "plt.figure(figsize=(10, 6))\n",
    "sns.histplot(data=df_sites_piv_domain[df_sites_piv_domain[1]!=0], x='freq', bins=20)\n",
    "plt.xticks(rotation=30)\n",
    "plt.show()"
   ]
  },
  {
   "cell_type": "code",
   "execution_count": null,
   "id": "be9a15f4",
   "metadata": {},
   "outputs": [],
   "source": []
  },
  {
   "cell_type": "code",
   "execution_count": 71,
   "id": "28eade4f",
   "metadata": {},
   "outputs": [],
   "source": [
    "df_sites['main_site'] = df_sites['site_name'].str.split('.').str[-2] + '.' + df_sites['site_name'].str.split('.').str[-1]"
   ]
  },
  {
   "cell_type": "code",
   "execution_count": 73,
   "id": "8e9297ce",
   "metadata": {},
   "outputs": [],
   "source": [
    "df_sites_piv_main_site = df_sites.pivot_table(index='main_site', columns='target', values='cnt',\n",
    "                                           aggfunc='sum', fill_value=0).reset_index()"
   ]
  },
  {
   "cell_type": "code",
   "execution_count": 76,
   "id": "306451c9",
   "metadata": {},
   "outputs": [],
   "source": [
    "df_sites_piv_main_site['freq'] = df_sites_piv_main_site[1] / (df_sites_piv_main_site[0]+df_sites_piv_main_site[1])"
   ]
  },
  {
   "cell_type": "code",
   "execution_count": 75,
   "id": "49401520",
   "metadata": {},
   "outputs": [
    {
     "data": {
      "text/plain": [
       "0.03106283029947152"
      ]
     },
     "execution_count": 75,
     "metadata": {},
     "output_type": "execute_result"
    }
   ],
   "source": [
    "# sires visit Alice\n",
    "len(df_sites_piv_main_site[df_sites_piv_main_site[1]!=0]) / len(df_sites_piv_main_site)"
   ]
  },
  {
   "cell_type": "code",
   "execution_count": 79,
   "id": "88fce072",
   "metadata": {},
   "outputs": [
    {
     "data": {
      "image/png": "[encoded data removed]",
      "text/plain": [
       "<Figure size 720x432 with 1 Axes>"
      ]
     },
     "metadata": {
      "needs_background": "light"
     },
     "output_type": "display_data"
    }
   ],
   "source": [
    "plt.figure(figsize=(10, 6))\n",
    "sns.histplot(data=df_sites_piv_main_site[df_sites_piv_main_site[1]!=0], x='freq', bins=20)\n",
    "plt.xticks(rotation=30)\n",
    "plt.show()"
   ]
  },
  {
   "cell_type": "code",
   "execution_count": null,
   "id": "1a682718",
   "metadata": {},
   "outputs": [],
   "source": []
  },
  {
   "cell_type": "code",
   "execution_count": null,
   "id": "9f56edc5",
   "metadata": {},
   "outputs": [],
   "source": []
  },
  {
   "cell_type": "code",
   "execution_count": null,
   "id": "f16efcb5",
   "metadata": {},
   "outputs": [],
   "source": []
  },
  {
   "cell_type": "code",
   "execution_count": null,
   "id": "f96cd0db",
   "metadata": {},
   "outputs": [],
   "source": []
  },
  {
   "cell_type": "code",
   "execution_count": 47,
   "id": "2c9b66a9",
   "metadata": {},
   "outputs": [],
   "source": [
    "test_domains = train_df[site_cols_names+['target']].copy()"
   ]
  },
  {
   "cell_type": "code",
   "execution_count": 48,
   "id": "f4b8f7f3",
   "metadata": {},
   "outputs": [],
   "source": [
    "test_domains['sites_nunique'] = test_domains[site_cols_names].nunique(axis=1)\n",
    "\n",
    "test_domains['sites_len_mean'] = test_domains[site_cols_names].applymap(len).mean(axis=1)\n",
    "test_domains['sites_len_std'] = test_domains[site_cols_names].applymap(len).std(axis=1)\n",
    "test_domains['sites_len_min'] = test_domains[site_cols_names].applymap(len).min(axis=1)\n",
    "test_domains['sites_len_max'] = test_domains[site_cols_names].applymap(len).max(axis=1)"
   ]
  },
  {
   "cell_type": "code",
   "execution_count": 51,
   "id": "6d44b45a",
   "metadata": {},
   "outputs": [
    {
     "data": {
      "text/html": [
       "<div>\n",
       "<style scoped>\n",
       "    .dataframe tbody tr th:only-of-type {\n",
       "        vertical-align: middle;\n",
       "    }\n",
       "\n",
       "    .dataframe tbody tr th {\n",
       "        vertical-align: top;\n",
       "    }\n",
       "\n",
       "    .dataframe thead th {\n",
       "        text-align: right;\n",
       "    }\n",
       "</style>\n",
       "<table border=\"1\" class=\"dataframe\">\n",
       "  <thead>\n",
       "    <tr style=\"text-align: right;\">\n",
       "      <th></th>\n",
       "      <th>count</th>\n",
       "      <th>mean</th>\n",
       "      <th>std</th>\n",
       "      <th>min</th>\n",
       "      <th>25%</th>\n",
       "      <th>50%</th>\n",
       "      <th>75%</th>\n",
       "      <th>max</th>\n",
       "    </tr>\n",
       "  </thead>\n",
       "  <tbody>\n",
       "    <tr>\n",
       "      <th>target</th>\n",
       "      <td>2297.0</td>\n",
       "      <td>1.000000</td>\n",
       "      <td>0.000000</td>\n",
       "      <td>1.0</td>\n",
       "      <td>1.00000</td>\n",
       "      <td>1.000000</td>\n",
       "      <td>1.000000</td>\n",
       "      <td>1.000000</td>\n",
       "    </tr>\n",
       "    <tr>\n",
       "      <th>sites_nunique</th>\n",
       "      <td>2297.0</td>\n",
       "      <td>6.126252</td>\n",
       "      <td>1.989890</td>\n",
       "      <td>1.0</td>\n",
       "      <td>5.00000</td>\n",
       "      <td>6.000000</td>\n",
       "      <td>8.000000</td>\n",
       "      <td>10.000000</td>\n",
       "    </tr>\n",
       "    <tr>\n",
       "      <th>sites_len_mean</th>\n",
       "      <td>2297.0</td>\n",
       "      <td>17.702307</td>\n",
       "      <td>3.588117</td>\n",
       "      <td>8.4</td>\n",
       "      <td>15.30000</td>\n",
       "      <td>17.200000</td>\n",
       "      <td>19.400000</td>\n",
       "      <td>35.600000</td>\n",
       "    </tr>\n",
       "    <tr>\n",
       "      <th>sites_len_std</th>\n",
       "      <td>2297.0</td>\n",
       "      <td>5.631240</td>\n",
       "      <td>3.465396</td>\n",
       "      <td>0.0</td>\n",
       "      <td>2.75681</td>\n",
       "      <td>4.718757</td>\n",
       "      <td>8.809717</td>\n",
       "      <td>16.547575</td>\n",
       "    </tr>\n",
       "    <tr>\n",
       "      <th>sites_len_min</th>\n",
       "      <td>2297.0</td>\n",
       "      <td>11.836308</td>\n",
       "      <td>2.474826</td>\n",
       "      <td>6.0</td>\n",
       "      <td>11.00000</td>\n",
       "      <td>12.000000</td>\n",
       "      <td>13.000000</td>\n",
       "      <td>32.000000</td>\n",
       "    </tr>\n",
       "    <tr>\n",
       "      <th>sites_len_max</th>\n",
       "      <td>2297.0</td>\n",
       "      <td>26.809752</td>\n",
       "      <td>7.964803</td>\n",
       "      <td>9.0</td>\n",
       "      <td>20.00000</td>\n",
       "      <td>24.000000</td>\n",
       "      <td>36.000000</td>\n",
       "      <td>54.000000</td>\n",
       "    </tr>\n",
       "  </tbody>\n",
       "</table>\n",
       "</div>"
      ],
      "text/plain": [
       "                 count       mean       std  min       25%        50%  \\\n",
       "target          2297.0   1.000000  0.000000  1.0   1.00000   1.000000   \n",
       "sites_nunique   2297.0   6.126252  1.989890  1.0   5.00000   6.000000   \n",
       "sites_len_mean  2297.0  17.702307  3.588117  8.4  15.30000  17.200000   \n",
       "sites_len_std   2297.0   5.631240  3.465396  0.0   2.75681   4.718757   \n",
       "sites_len_min   2297.0  11.836308  2.474826  6.0  11.00000  12.000000   \n",
       "sites_len_max   2297.0  26.809752  7.964803  9.0  20.00000  24.000000   \n",
       "\n",
       "                      75%        max  \n",
       "target           1.000000   1.000000  \n",
       "sites_nunique    8.000000  10.000000  \n",
       "sites_len_mean  19.400000  35.600000  \n",
       "sites_len_std    8.809717  16.547575  \n",
       "sites_len_min   13.000000  32.000000  \n",
       "sites_len_max   36.000000  54.000000  "
      ]
     },
     "execution_count": 51,
     "metadata": {},
     "output_type": "execute_result"
    }
   ],
   "source": [
    "test_domains[test_domains['target']==1].describe().T"
   ]
  },
  {
   "cell_type": "code",
   "execution_count": 52,
   "id": "33bb25b7",
   "metadata": {},
   "outputs": [
    {
     "data": {
      "text/html": [
       "<div>\n",
       "<style scoped>\n",
       "    .dataframe tbody tr th:only-of-type {\n",
       "        vertical-align: middle;\n",
       "    }\n",
       "\n",
       "    .dataframe tbody tr th {\n",
       "        vertical-align: top;\n",
       "    }\n",
       "\n",
       "    .dataframe thead th {\n",
       "        text-align: right;\n",
       "    }\n",
       "</style>\n",
       "<table border=\"1\" class=\"dataframe\">\n",
       "  <thead>\n",
       "    <tr style=\"text-align: right;\">\n",
       "      <th></th>\n",
       "      <th>count</th>\n",
       "      <th>mean</th>\n",
       "      <th>std</th>\n",
       "      <th>min</th>\n",
       "      <th>25%</th>\n",
       "      <th>50%</th>\n",
       "      <th>75%</th>\n",
       "      <th>max</th>\n",
       "    </tr>\n",
       "  </thead>\n",
       "  <tbody>\n",
       "    <tr>\n",
       "      <th>target</th>\n",
       "      <td>251264.0</td>\n",
       "      <td>0.000000</td>\n",
       "      <td>0.000000</td>\n",
       "      <td>0.0</td>\n",
       "      <td>0.000000</td>\n",
       "      <td>0.00000</td>\n",
       "      <td>0.0000</td>\n",
       "      <td>0.000000</td>\n",
       "    </tr>\n",
       "    <tr>\n",
       "      <th>sites_nunique</th>\n",
       "      <td>251264.0</td>\n",
       "      <td>5.723514</td>\n",
       "      <td>2.424650</td>\n",
       "      <td>1.0</td>\n",
       "      <td>4.000000</td>\n",
       "      <td>6.00000</td>\n",
       "      <td>8.0000</td>\n",
       "      <td>10.000000</td>\n",
       "    </tr>\n",
       "    <tr>\n",
       "      <th>sites_len_mean</th>\n",
       "      <td>251264.0</td>\n",
       "      <td>17.293061</td>\n",
       "      <td>3.578092</td>\n",
       "      <td>6.0</td>\n",
       "      <td>15.000000</td>\n",
       "      <td>17.00000</td>\n",
       "      <td>19.0000</td>\n",
       "      <td>71.500000</td>\n",
       "    </tr>\n",
       "    <tr>\n",
       "      <th>sites_len_std</th>\n",
       "      <td>251264.0</td>\n",
       "      <td>4.029112</td>\n",
       "      <td>2.766360</td>\n",
       "      <td>0.0</td>\n",
       "      <td>2.233582</td>\n",
       "      <td>3.62859</td>\n",
       "      <td>5.2079</td>\n",
       "      <td>36.068453</td>\n",
       "    </tr>\n",
       "    <tr>\n",
       "      <th>sites_len_min</th>\n",
       "      <td>251264.0</td>\n",
       "      <td>12.738717</td>\n",
       "      <td>2.882134</td>\n",
       "      <td>4.0</td>\n",
       "      <td>11.000000</td>\n",
       "      <td>13.00000</td>\n",
       "      <td>14.0000</td>\n",
       "      <td>58.000000</td>\n",
       "    </tr>\n",
       "    <tr>\n",
       "      <th>sites_len_max</th>\n",
       "      <td>251264.0</td>\n",
       "      <td>24.098538</td>\n",
       "      <td>7.317071</td>\n",
       "      <td>6.0</td>\n",
       "      <td>19.000000</td>\n",
       "      <td>23.00000</td>\n",
       "      <td>27.0000</td>\n",
       "      <td>124.000000</td>\n",
       "    </tr>\n",
       "  </tbody>\n",
       "</table>\n",
       "</div>"
      ],
      "text/plain": [
       "                   count       mean       std  min        25%       50%  \\\n",
       "target          251264.0   0.000000  0.000000  0.0   0.000000   0.00000   \n",
       "sites_nunique   251264.0   5.723514  2.424650  1.0   4.000000   6.00000   \n",
       "sites_len_mean  251264.0  17.293061  3.578092  6.0  15.000000  17.00000   \n",
       "sites_len_std   251264.0   4.029112  2.766360  0.0   2.233582   3.62859   \n",
       "sites_len_min   251264.0  12.738717  2.882134  4.0  11.000000  13.00000   \n",
       "sites_len_max   251264.0  24.098538  7.317071  6.0  19.000000  23.00000   \n",
       "\n",
       "                    75%         max  \n",
       "target           0.0000    0.000000  \n",
       "sites_nunique    8.0000   10.000000  \n",
       "sites_len_mean  19.0000   71.500000  \n",
       "sites_len_std    5.2079   36.068453  \n",
       "sites_len_min   14.0000   58.000000  \n",
       "sites_len_max   27.0000  124.000000  "
      ]
     },
     "execution_count": 52,
     "metadata": {},
     "output_type": "execute_result"
    }
   ],
   "source": [
    "test_domains[test_domains['target']==0].describe().T"
   ]
  },
  {
   "cell_type": "code",
   "execution_count": null,
   "id": "0d0321b8",
   "metadata": {},
   "outputs": [],
   "source": []
  },
  {
   "cell_type": "code",
   "execution_count": 59,
   "id": "3724b5dd",
   "metadata": {},
   "outputs": [
    {
     "data": {
      "text/html": [
       "<div>\n",
       "<style scoped>\n",
       "    .dataframe tbody tr th:only-of-type {\n",
       "        vertical-align: middle;\n",
       "    }\n",
       "\n",
       "    .dataframe tbody tr th {\n",
       "        vertical-align: top;\n",
       "    }\n",
       "\n",
       "    .dataframe thead th {\n",
       "        text-align: right;\n",
       "    }\n",
       "</style>\n",
       "<table border=\"1\" class=\"dataframe\">\n",
       "  <thead>\n",
       "    <tr style=\"text-align: right;\">\n",
       "      <th></th>\n",
       "      <th>site1_name</th>\n",
       "      <th>site2_name</th>\n",
       "      <th>site3_name</th>\n",
       "      <th>site4_name</th>\n",
       "      <th>site5_name</th>\n",
       "      <th>site6_name</th>\n",
       "      <th>site7_name</th>\n",
       "      <th>site8_name</th>\n",
       "      <th>site9_name</th>\n",
       "      <th>site10_name</th>\n",
       "      <th>target</th>\n",
       "      <th>sites_nunique</th>\n",
       "      <th>sites_len_mean</th>\n",
       "      <th>sites_len_std</th>\n",
       "      <th>sites_len_min</th>\n",
       "      <th>sites_len_max</th>\n",
       "    </tr>\n",
       "  </thead>\n",
       "  <tbody>\n",
       "    <tr>\n",
       "      <th>221327</th>\n",
       "      <td>betacie.cachefly.net</td>\n",
       "      <td>twitter.com</td>\n",
       "      <td>ad.publicidees.com</td>\n",
       "      <td>www.facebook.com</td>\n",
       "      <td>graph.facebook.com</td>\n",
       "      <td>none.none</td>\n",
       "      <td>none.none</td>\n",
       "      <td>none.none</td>\n",
       "      <td>none.none</td>\n",
       "      <td>none.none</td>\n",
       "      <td>1</td>\n",
       "      <td>6</td>\n",
       "      <td>12.8</td>\n",
       "      <td>4.613988</td>\n",
       "      <td>9</td>\n",
       "      <td>20</td>\n",
       "    </tr>\n",
       "    <tr>\n",
       "      <th>175131</th>\n",
       "      <td>static.flickr.com</td>\n",
       "      <td>www.facebook.com</td>\n",
       "      <td>www.facebook.com</td>\n",
       "      <td>static.flickr.com</td>\n",
       "      <td>static.flickr.com</td>\n",
       "      <td>static.flickr.com</td>\n",
       "      <td>www.a2micile.com</td>\n",
       "      <td>www.google.fr</td>\n",
       "      <td>www.google.fr</td>\n",
       "      <td>www.info-jeunes.net</td>\n",
       "      <td>1</td>\n",
       "      <td>5</td>\n",
       "      <td>16.1</td>\n",
       "      <td>1.852926</td>\n",
       "      <td>13</td>\n",
       "      <td>19</td>\n",
       "    </tr>\n",
       "    <tr>\n",
       "      <th>213352</th>\n",
       "      <td>clients1.google.fr</td>\n",
       "      <td>www.google.fr</td>\n",
       "      <td>www.google.fr</td>\n",
       "      <td>www.google.fr</td>\n",
       "      <td>www.google.fr</td>\n",
       "      <td>www.google.fr</td>\n",
       "      <td>www.google.fr</td>\n",
       "      <td>www.google.fr</td>\n",
       "      <td>www.google.fr</td>\n",
       "      <td>www.google.fr</td>\n",
       "      <td>1</td>\n",
       "      <td>2</td>\n",
       "      <td>13.5</td>\n",
       "      <td>1.581139</td>\n",
       "      <td>13</td>\n",
       "      <td>18</td>\n",
       "    </tr>\n",
       "    <tr>\n",
       "      <th>208892</th>\n",
       "      <td>r4---sn-gxo5uxg-jqbe.googlevideo.com</td>\n",
       "      <td>s.youtube.com</td>\n",
       "      <td>www.youtube.com</td>\n",
       "      <td>i1.ytimg.com</td>\n",
       "      <td>r4---sn-gxo5uxg-jqbe.googlevideo.com</td>\n",
       "      <td>s.youtube.com</td>\n",
       "      <td>s.youtube.com</td>\n",
       "      <td>i1.ytimg.com</td>\n",
       "      <td>r4---sn-gxo5uxg-jqbe.googlevideo.com</td>\n",
       "      <td>s.ytimg.com</td>\n",
       "      <td>1</td>\n",
       "      <td>5</td>\n",
       "      <td>19.7</td>\n",
       "      <td>11.294541</td>\n",
       "      <td>11</td>\n",
       "      <td>36</td>\n",
       "    </tr>\n",
       "    <tr>\n",
       "      <th>212408</th>\n",
       "      <td>r3---sn-gxo5uxg-jqbe.googlevideo.com</td>\n",
       "      <td>r3---sn-4g57kuer.googlevideo.com</td>\n",
       "      <td>i1.ytimg.com</td>\n",
       "      <td>www.youtube.com</td>\n",
       "      <td>s.youtube.com</td>\n",
       "      <td>s.youtube.com</td>\n",
       "      <td>r3---sn-gxo5uxg-jqbe.googlevideo.com</td>\n",
       "      <td>s.ytimg.com</td>\n",
       "      <td>r3---sn-4g57kuer.googlevideo.com</td>\n",
       "      <td>r3---sn-gxo5uxg-jqbe.googlevideo.com</td>\n",
       "      <td>1</td>\n",
       "      <td>6</td>\n",
       "      <td>23.6</td>\n",
       "      <td>11.520031</td>\n",
       "      <td>11</td>\n",
       "      <td>36</td>\n",
       "    </tr>\n",
       "  </tbody>\n",
       "</table>\n",
       "</div>"
      ],
      "text/plain": [
       "                                  site1_name  \\\n",
       "221327                  betacie.cachefly.net   \n",
       "175131                     static.flickr.com   \n",
       "213352                    clients1.google.fr   \n",
       "208892  r4---sn-gxo5uxg-jqbe.googlevideo.com   \n",
       "212408  r3---sn-gxo5uxg-jqbe.googlevideo.com   \n",
       "\n",
       "                              site2_name          site3_name  \\\n",
       "221327                       twitter.com  ad.publicidees.com   \n",
       "175131                  www.facebook.com    www.facebook.com   \n",
       "213352                     www.google.fr       www.google.fr   \n",
       "208892                     s.youtube.com     www.youtube.com   \n",
       "212408  r3---sn-4g57kuer.googlevideo.com        i1.ytimg.com   \n",
       "\n",
       "               site4_name                            site5_name  \\\n",
       "221327   www.facebook.com                    graph.facebook.com   \n",
       "175131  static.flickr.com                     static.flickr.com   \n",
       "213352      www.google.fr                         www.google.fr   \n",
       "208892       i1.ytimg.com  r4---sn-gxo5uxg-jqbe.googlevideo.com   \n",
       "212408    www.youtube.com                         s.youtube.com   \n",
       "\n",
       "               site6_name                            site7_name  \\\n",
       "221327          none.none                             none.none   \n",
       "175131  static.flickr.com                      www.a2micile.com   \n",
       "213352      www.google.fr                         www.google.fr   \n",
       "208892      s.youtube.com                         s.youtube.com   \n",
       "212408      s.youtube.com  r3---sn-gxo5uxg-jqbe.googlevideo.com   \n",
       "\n",
       "           site8_name                            site9_name  \\\n",
       "221327      none.none                             none.none   \n",
       "175131  www.google.fr                         www.google.fr   \n",
       "213352  www.google.fr                         www.google.fr   \n",
       "208892   i1.ytimg.com  r4---sn-gxo5uxg-jqbe.googlevideo.com   \n",
       "212408    s.ytimg.com      r3---sn-4g57kuer.googlevideo.com   \n",
       "\n",
       "                                 site10_name  target  sites_nunique  \\\n",
       "221327                             none.none       1              6   \n",
       "175131                   www.info-jeunes.net       1              5   \n",
       "213352                         www.google.fr       1              2   \n",
       "208892                           s.ytimg.com       1              5   \n",
       "212408  r3---sn-gxo5uxg-jqbe.googlevideo.com       1              6   \n",
       "\n",
       "        sites_len_mean  sites_len_std  sites_len_min  sites_len_max  \n",
       "221327            12.8       4.613988              9             20  \n",
       "175131            16.1       1.852926             13             19  \n",
       "213352            13.5       1.581139             13             18  \n",
       "208892            19.7      11.294541             11             36  \n",
       "212408            23.6      11.520031             11             36  "
      ]
     },
     "execution_count": 59,
     "metadata": {},
     "output_type": "execute_result"
    }
   ],
   "source": [
    "test_domains[test_domains['target']==1].sample(5)"
   ]
  },
  {
   "cell_type": "code",
   "execution_count": null,
   "id": "abff9f91",
   "metadata": {},
   "outputs": [],
   "source": []
  },
  {
   "cell_type": "code",
   "execution_count": null,
   "id": "0f77d3e4",
   "metadata": {},
   "outputs": [],
   "source": []
  },
  {
   "cell_type": "code",
   "execution_count": null,
   "id": "10da3c4f",
   "metadata": {},
   "outputs": [],
   "source": []
  },
  {
   "cell_type": "code",
   "execution_count": null,
   "id": "98b4be7e",
   "metadata": {},
   "outputs": [],
   "source": []
  },
  {
   "cell_type": "code",
   "execution_count": null,
   "id": "83cfbc46",
   "metadata": {},
   "outputs": [],
   "source": []
  },
  {
   "cell_type": "code",
   "execution_count": null,
   "id": "3b22ea86",
   "metadata": {},
   "outputs": [],
   "source": []
  },
  {
   "cell_type": "code",
   "execution_count": null,
   "id": "8f24f860",
   "metadata": {},
   "outputs": [],
   "source": []
  },
  {
   "cell_type": "code",
   "execution_count": null,
   "id": "6291862b",
   "metadata": {},
   "outputs": [],
   "source": []
  },
  {
   "cell_type": "code",
   "execution_count": null,
   "id": "a48400e1",
   "metadata": {},
   "outputs": [],
   "source": []
  },
  {
   "cell_type": "code",
   "execution_count": null,
   "id": "4b7d1c13",
   "metadata": {},
   "outputs": [],
   "source": [
    "что есть\n",
    "\n",
    "дата время\n",
    "день недели месяца года\n",
    "месяц год\n",
    "время, час\n",
    "длительность\n",
    "\n",
    "сайт\n",
    "длинна\n",
    "домен\n",
    "популярность\n",
    "повторяемость\n",
    "TfidfVectorizer\n",
    "первый / последний сайт\n",
    "длинна наименования сайта\n",
    "популярность сайтов у алис\n",
    "\n",
    "дата-время актувности элис"
   ]
  },
  {
   "cell_type": "code",
   "execution_count": null,
   "id": "de9e587d",
   "metadata": {},
   "outputs": [],
   "source": []
  },
  {
   "cell_type": "code",
   "execution_count": null,
   "id": "fcbfbc96",
   "metadata": {},
   "outputs": [],
   "source": [
    "модель 1 - на числовых даннных\n",
    "модель 2 - на различных сайтах (TfidfVectorizer)"
   ]
  },
  {
   "cell_type": "code",
   "execution_count": null,
   "id": "ce2f4e95",
   "metadata": {},
   "outputs": [],
   "source": []
  },
  {
   "cell_type": "code",
   "execution_count": null,
   "id": "aaf81725",
   "metadata": {},
   "outputs": [],
   "source": []
  },
  {
   "cell_type": "code",
   "execution_count": null,
   "id": "fef50faf",
   "metadata": {},
   "outputs": [],
   "source": []
  },
  {
   "cell_type": "code",
   "execution_count": null,
   "id": "2e2e35fe",
   "metadata": {},
   "outputs": [],
   "source": []
  },
  {
   "cell_type": "code",
   "execution_count": null,
   "id": "8cb6991a",
   "metadata": {},
   "outputs": [],
   "source": []
  },
  {
   "cell_type": "code",
   "execution_count": null,
   "id": "5a88bb60",
   "metadata": {},
   "outputs": [],
   "source": []
  },
  {
   "cell_type": "code",
   "execution_count": null,
   "id": "4747de1b",
   "metadata": {},
   "outputs": [],
   "source": []
  },
  {
   "cell_type": "code",
   "execution_count": null,
   "id": "57d736ab",
   "metadata": {},
   "outputs": [],
   "source": []
  },
  {
   "cell_type": "code",
   "execution_count": null,
   "id": "2e19795a",
   "metadata": {},
   "outputs": [],
   "source": []
  },
  {
   "cell_type": "code",
   "execution_count": null,
   "id": "021ebc55",
   "metadata": {},
   "outputs": [],
   "source": []
  },
  {
   "cell_type": "code",
   "execution_count": null,
   "id": "5a2d842c",
   "metadata": {},
   "outputs": [],
   "source": []
  },
  {
   "cell_type": "code",
   "execution_count": null,
   "id": "ddfbacbf",
   "metadata": {},
   "outputs": [],
   "source": []
  },
  {
   "cell_type": "code",
   "execution_count": null,
   "id": "56af39a0",
   "metadata": {},
   "outputs": [],
   "source": []
  },
  {
   "cell_type": "code",
   "execution_count": null,
   "id": "14cb6dd6",
   "metadata": {},
   "outputs": [],
   "source": []
  },
  {
   "cell_type": "code",
   "execution_count": null,
   "id": "648b68de",
   "metadata": {},
   "outputs": [],
   "source": []
  },
  {
   "cell_type": "code",
   "execution_count": null,
   "id": "2bf17394",
   "metadata": {},
   "outputs": [],
   "source": []
  },
  {
   "cell_type": "code",
   "execution_count": null,
   "id": "75b55e90",
   "metadata": {},
   "outputs": [],
   "source": []
  },
  {
   "cell_type": "code",
   "execution_count": null,
   "id": "43f4cfe2",
   "metadata": {},
   "outputs": [],
   "source": []
  },
  {
   "cell_type": "code",
   "execution_count": null,
   "id": "2d95eeb6",
   "metadata": {},
   "outputs": [],
   "source": []
  },
  {
   "cell_type": "code",
   "execution_count": null,
   "id": "372c24f3",
   "metadata": {},
   "outputs": [],
   "source": []
  },
  {
   "cell_type": "code",
   "execution_count": null,
   "id": "ed2bcd6e",
   "metadata": {},
   "outputs": [],
   "source": []
  }
 ],
 "metadata": {
  "kernelspec": {
   "display_name": "Python 3 (ipykernel)",
   "language": "python",
   "name": "python3"
  },
  "language_info": {
   "codemirror_mode": {
    "name": "ipython",
    "version": 3
   },
   "file_extension": ".py",
   "mimetype": "text/x-python",
   "name": "python",
   "nbconvert_exporter": "python",
   "pygments_lexer": "ipython3",
   "version": "3.9.12"
  }
 },
 "nbformat": 4,
 "nbformat_minor": 5
}
