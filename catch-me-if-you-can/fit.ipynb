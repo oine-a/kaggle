{
 "cells": [
  {
   "cell_type": "markdown",
   "id": "4d43971f",
   "metadata": {},
   "source": [
    "https://www.kaggle.com/competitions/catch-me-if-you-can-intruder-detection-through-webpage-session-tracking2"
   ]
  },
  {
   "cell_type": "code",
   "execution_count": 67,
   "id": "cc18d619",
   "metadata": {},
   "outputs": [],
   "source": [
    "import pandas as pd\n",
    "import numpy as np\n",
    "import datetime as dt\n",
    "\n",
    "import seaborn as sns\n",
    "from matplotlib import pyplot as plt\n",
    "\n",
    "import pickle as pkl"
   ]
  },
  {
   "cell_type": "markdown",
   "id": "b88830e0",
   "metadata": {},
   "source": [
    "## Load data"
   ]
  },
  {
   "cell_type": "code",
   "execution_count": 68,
   "id": "8d413895",
   "metadata": {},
   "outputs": [],
   "source": [
    "pd.set_option('display.max_columns', 30)"
   ]
  },
  {
   "cell_type": "code",
   "execution_count": null,
   "id": "e3b96f56",
   "metadata": {},
   "outputs": [],
   "source": []
  },
  {
   "cell_type": "code",
   "execution_count": 69,
   "id": "7d2bc46d",
   "metadata": {},
   "outputs": [],
   "source": [
    "train_df = pd.read_csv(r'train_sessions.csv')\n",
    "test_df = pd.read_csv(r'test_sessions.csv')"
   ]
  },
  {
   "cell_type": "code",
   "execution_count": 70,
   "id": "2b7ee602",
   "metadata": {},
   "outputs": [
    {
     "data": {
      "text/plain": [
       "(253561, 22)"
      ]
     },
     "execution_count": 70,
     "metadata": {},
     "output_type": "execute_result"
    }
   ],
   "source": [
    "train_df.shape"
   ]
  },
  {
   "cell_type": "code",
   "execution_count": 71,
   "id": "87cf5d6e",
   "metadata": {},
   "outputs": [
    {
     "data": {
      "text/plain": [
       "(82797, 21)"
      ]
     },
     "execution_count": 71,
     "metadata": {},
     "output_type": "execute_result"
    }
   ],
   "source": [
    "test_df.shape"
   ]
  },
  {
   "cell_type": "code",
   "execution_count": null,
   "id": "97e3e125",
   "metadata": {},
   "outputs": [],
   "source": []
  },
  {
   "cell_type": "code",
   "execution_count": 72,
   "id": "a853684c",
   "metadata": {},
   "outputs": [],
   "source": [
    "with open(r'site_dic.pkl', 'rb') as file:\n",
    "    site_dic = pkl.load(file)\n",
    "\n",
    "site_dic_inv = pd.Series({v:k for k,v in site_dic.items()})\n",
    "site_dic_inv.name = 'site_name'"
   ]
  },
  {
   "cell_type": "markdown",
   "id": "9af10ed9",
   "metadata": {},
   "source": [
    "## Preprocess"
   ]
  },
  {
   "cell_type": "code",
   "execution_count": 73,
   "id": "df8cfb32",
   "metadata": {},
   "outputs": [],
   "source": [
    "time_cols = [f'time{i}' for i in range(1,11)]\n",
    "site_cols = [f'site{i}' for i in range(1,11)]"
   ]
  },
  {
   "cell_type": "code",
   "execution_count": 74,
   "id": "a90f74cb",
   "metadata": {},
   "outputs": [],
   "source": [
    "# datetime to format\n",
    "for col in time_cols:\n",
    "    train_df[col] = pd.to_datetime(train_df[col], format=\"%Y-%m-%d %H:%M:%S\")\n",
    "    test_df[col] = pd.to_datetime(test_df[col], format=\"%Y-%m-%d %H:%M:%S\")    "
   ]
  },
  {
   "cell_type": "code",
   "execution_count": null,
   "id": "2d5a1237",
   "metadata": {},
   "outputs": [],
   "source": []
  },
  {
   "cell_type": "code",
   "execution_count": 75,
   "id": "71cdd4c7",
   "metadata": {},
   "outputs": [],
   "source": [
    "def extract_date_features(df, date_column='time1'):\n",
    "    \n",
    "    #df['start_date'] = df[date_column].dt.date\n",
    "    df['start_year'] = df[date_column].dt.year\n",
    "    df['start_month'] = df[date_column].dt.month\n",
    "    df['start_year_month'] = df[date_column].dt.strftime('%Y%m')\n",
    "    df['start_week'] = df[date_column].dt.isocalendar().week\n",
    "    df['start_day'] = df[date_column].dt.day\n",
    "    df['start_weekday'] = df[date_column].dt.weekday\n",
    "    df['start_is_weekend'] = df['start_weekday'].isin([5, 6]).astype(int)\n",
    "    df['start_hour'] = df['time1'].dt.hour\n",
    "    \n",
    "    return df"
   ]
  },
  {
   "cell_type": "code",
   "execution_count": 76,
   "id": "efa826ff",
   "metadata": {},
   "outputs": [],
   "source": [
    "train_df = extract_date_features(train_df)\n",
    "test_df = extract_date_features(test_df)"
   ]
  },
  {
   "cell_type": "code",
   "execution_count": null,
   "id": "79dce95f",
   "metadata": {},
   "outputs": [],
   "source": []
  },
  {
   "cell_type": "code",
   "execution_count": 77,
   "id": "c5587b6a",
   "metadata": {},
   "outputs": [],
   "source": [
    "def extract_session_times_features(df):\n",
    "    \n",
    "    df['session_len'] = df[time_cols].notna().sum(axis=1)\n",
    "    df['session_duration'] = (df[time_cols].max(axis=1) - df[time_cols].min(axis=1)).dt.total_seconds()\n",
    "    df['session_delta_mean'] = df[time_cols].diff(axis=1).mean(axis=1).dt.total_seconds().fillna(0)\n",
    "    df['session_delta_std'] = df[time_cols].diff(axis=1).std(axis=1).dt.total_seconds().fillna(0)\n",
    "    df['session_delta_min'] = df[time_cols].diff(axis=1).min(axis=1).dt.total_seconds().fillna(0)\n",
    "    df['session_delta_max'] = df[time_cols].diff(axis=1).max(axis=1).dt.total_seconds().fillna(0)\n",
    "    \n",
    "    return df"
   ]
  },
  {
   "cell_type": "code",
   "execution_count": 78,
   "id": "6cc6884e",
   "metadata": {},
   "outputs": [],
   "source": [
    "train_df = extract_session_times_features(train_df)\n",
    "test_df = extract_session_times_features(test_df)"
   ]
  },
  {
   "cell_type": "code",
   "execution_count": null,
   "id": "b72bca1b",
   "metadata": {},
   "outputs": [],
   "source": []
  },
  {
   "cell_type": "code",
   "execution_count": 79,
   "id": "7054aa97",
   "metadata": {},
   "outputs": [],
   "source": [
    "# sites which ALice used\n",
    "\n",
    "df_sites_visit = pd.DataFrame()\n",
    "\n",
    "for col in site_cols:\n",
    "    df_sites_visit = pd.concat([df_sites_visit,\n",
    "                                train_df[[col, 'target']].rename(columns={col:'site'})],\n",
    "                               ignore_index=True)\n",
    "    \n",
    "df_sites_visit['cnt'] = 1\n",
    "    \n",
    "df_sites_visit_piv = df_sites_visit.pivot_table(index='site', columns='target', values='cnt',\n",
    "                                               aggfunc='sum', fill_value=0).reset_index()\n",
    "\n",
    "df_sites_visit_piv['freq'] = df_sites_visit_piv[1] / (df_sites_visit_piv[0]+df_sites_visit_piv[1])\n",
    "df_sites_visit_piv['cnt'] = 1\n",
    "df_sites_visit_piv.index = df_sites_visit_piv.site\n",
    "\n",
    "# lists of alices sites\n",
    "alice_uses_sites = df_sites_visit_piv[df_sites_visit_piv['freq']>0]['cnt']\n",
    "alice_sites = df_sites_visit_piv[df_sites_visit_piv['freq']>0.5]['cnt']"
   ]
  },
  {
   "cell_type": "code",
   "execution_count": null,
   "id": "a0ebf999",
   "metadata": {},
   "outputs": [],
   "source": []
  },
  {
   "cell_type": "code",
   "execution_count": 80,
   "id": "7f634b61",
   "metadata": {},
   "outputs": [],
   "source": [
    "def add_alises_popular_sites(df):\n",
    "    \n",
    "    df_tmp = df[site_cols].copy()\n",
    "    \n",
    "    for col in site_cols:\n",
    "        df_tmp = df_tmp.merge(alice_uses_sites, how='left', left_on=col, right_index=True, validate='m:1')\n",
    "        df_tmp = df_tmp.rename(columns={'cnt': col+'_is_pop'})\n",
    "        \n",
    "    for col in site_cols:\n",
    "        df_tmp = df_tmp.merge(alice_sites, how='left', left_on=col, right_index=True, validate='m:1')\n",
    "        df_tmp = df_tmp.rename(columns={'cnt': col+'_is_so_pop'})\n",
    "        \n",
    "    sites_pop = [col+'_is_pop' for col in site_cols]\n",
    "    sites_so_pop = [col+'_is_so_pop' for col in site_cols]\n",
    "    \n",
    "    df_tmp['alice_uses_sites'] = df_tmp[sites_pop].sum(axis=1)\n",
    "    df_tmp['alice_sites'] = df_tmp[sites_so_pop].sum(axis=1)\n",
    "    \n",
    "    df = df.join(df_tmp[['alice_uses_sites', 'alice_sites']])\n",
    "    \n",
    "    return df"
   ]
  },
  {
   "cell_type": "code",
   "execution_count": 81,
   "id": "646f4a5e",
   "metadata": {},
   "outputs": [],
   "source": [
    "train_df = add_alises_popular_sites(train_df)\n",
    "test_df = add_alises_popular_sites(test_df)"
   ]
  },
  {
   "cell_type": "code",
   "execution_count": null,
   "id": "0cc65132",
   "metadata": {},
   "outputs": [],
   "source": []
  },
  {
   "cell_type": "code",
   "execution_count": 82,
   "id": "c511eb48",
   "metadata": {},
   "outputs": [],
   "source": [
    "def add_sites_len_metrics(df):\n",
    "    \n",
    "    df_tmp = df[site_cols].copy()\n",
    "    \n",
    "    for col in site_cols:\n",
    "        df_tmp = df_tmp.merge(site_dic_inv, how='left', left_on=col, right_index=True, validate='m:1')\n",
    "        df_tmp = df_tmp.rename(columns={'site_name': col+'_name'})\n",
    "    \n",
    "    site_cols_names = [col+'_name' for col in site_cols]\n",
    "    \n",
    "    df_tmp['sites_nunique'] = df_tmp[site_cols_names].nunique(axis=1)\n",
    "    \n",
    "    df_tmp[site_cols_names] = df_tmp[site_cols_names].fillna(method='pad', axis=1)\n",
    "    df_tmp['sites_len_mean'] = df_tmp[site_cols_names].applymap(len).mean(axis=1)\n",
    "    df_tmp['sites_len_std'] = df_tmp[site_cols_names].applymap(len).std(axis=1)\n",
    "    df_tmp['sites_len_min'] = df_tmp[site_cols_names].applymap(len).min(axis=1)\n",
    "    df_tmp['sites_len_max'] = df_tmp[site_cols_names].applymap(len).max(axis=1)\n",
    "    \n",
    "    df = df.join(df_tmp[['sites_nunique','sites_len_mean','sites_len_std','sites_len_min','sites_len_max']])\n",
    "    \n",
    "    return df"
   ]
  },
  {
   "cell_type": "code",
   "execution_count": 83,
   "id": "51ea34e1",
   "metadata": {},
   "outputs": [],
   "source": [
    "train_df = add_sites_len_metrics(train_df)\n",
    "test_df = add_sites_len_metrics(test_df)"
   ]
  },
  {
   "cell_type": "code",
   "execution_count": null,
   "id": "4c20e18b",
   "metadata": {},
   "outputs": [],
   "source": []
  },
  {
   "cell_type": "code",
   "execution_count": 84,
   "id": "b013ee90",
   "metadata": {},
   "outputs": [],
   "source": [
    "def filtered_by_mask(df):\n",
    "    \n",
    "    f_start_month = [1,2,3,4,9,10,11,12]\n",
    "    f_start_weekday = [0,1,3,4]\n",
    "    f_start_hour = [12, 13, 16, 17,18]\n",
    "    \n",
    "    df = df[(df['start_month'].isin(f_start_month))\n",
    "            & (df['start_weekday'].isin(f_start_weekday))\n",
    "            & (df['start_hour'].isin(f_start_hour))]\n",
    "    \n",
    "    return df"
   ]
  },
  {
   "cell_type": "code",
   "execution_count": 85,
   "id": "33cab52a",
   "metadata": {},
   "outputs": [],
   "source": [
    "# train_df_filtred = filtered_by_mask(train_df)"
   ]
  },
  {
   "cell_type": "code",
   "execution_count": 86,
   "id": "b25bbb02",
   "metadata": {},
   "outputs": [],
   "source": [
    "train_df_filtred = train_df"
   ]
  },
  {
   "cell_type": "code",
   "execution_count": null,
   "id": "b1089e8e",
   "metadata": {},
   "outputs": [],
   "source": []
  },
  {
   "cell_type": "code",
   "execution_count": 87,
   "id": "c00822b8",
   "metadata": {},
   "outputs": [
    {
     "data": {
      "text/plain": [
       "0    0.990941\n",
       "1    0.009059\n",
       "Name: target, dtype: float64"
      ]
     },
     "execution_count": 87,
     "metadata": {},
     "output_type": "execute_result"
    }
   ],
   "source": [
    "train_df_filtred['target'].value_counts(1)"
   ]
  },
  {
   "cell_type": "markdown",
   "id": "cc032a2f",
   "metadata": {},
   "source": [
    "## Train data I"
   ]
  },
  {
   "cell_type": "code",
   "execution_count": 88,
   "id": "9b9cd131",
   "metadata": {},
   "outputs": [],
   "source": [
    "from sklearn.model_selection import train_test_split\n",
    "from sklearn.model_selection import StratifiedKFold\n",
    "\n",
    "from sklearn.metrics import classification_report, f1_score, precision_score, recall_score, balanced_accuracy_score\n",
    "from sklearn.metrics import roc_auc_score, roc_curve, auc, precision_recall_curve, confusion_matrix\n",
    "from sklearn.calibration import calibration_curve\n",
    "\n",
    "from catboost import CatBoostClassifier\n",
    "import optuna"
   ]
  },
  {
   "cell_type": "code",
   "execution_count": null,
   "id": "19afb95b",
   "metadata": {},
   "outputs": [],
   "source": []
  },
  {
   "cell_type": "code",
   "execution_count": 89,
   "id": "290f5584",
   "metadata": {},
   "outputs": [],
   "source": [
    "TRAIN_COLS = [\n",
    "    'start_year','start_month','start_week',    \n",
    "    'start_day','start_weekday','start_is_weekend','start_hour',    \n",
    "    'session_len','session_duration','session_delta_mean','session_delta_std','session_delta_min','session_delta_max',    \n",
    "    'alice_uses_sites','alice_sites',    \n",
    "    'sites_nunique','sites_len_mean','sites_len_std','sites_len_min','sites_len_max'    \n",
    "]\n",
    "\n",
    "TARGET_COL = 'target'"
   ]
  },
  {
   "cell_type": "code",
   "execution_count": null,
   "id": "165d4bd7",
   "metadata": {},
   "outputs": [],
   "source": []
  },
  {
   "cell_type": "code",
   "execution_count": 90,
   "id": "47964884",
   "metadata": {},
   "outputs": [],
   "source": [
    "X_train, X_test, y_train, y_test = train_test_split(train_df_filtred[TRAIN_COLS],\n",
    "                                                    train_df_filtred[TARGET_COL],\n",
    "                                                    test_size=0.2,\n",
    "                                                    random_state=42,\n",
    "                                                    shuffle=True,\n",
    "                                                    stratify=train_df_filtred[TARGET_COL])"
   ]
  },
  {
   "cell_type": "code",
   "execution_count": null,
   "id": "94563c77",
   "metadata": {},
   "outputs": [],
   "source": []
  },
  {
   "cell_type": "code",
   "execution_count": 91,
   "id": "64e71874",
   "metadata": {},
   "outputs": [],
   "source": [
    "def objective(trial):\n",
    "    \n",
    "    # model params\n",
    "    params = {\n",
    "        'loss_function': 'Logloss',\n",
    "        'eval_metric': 'Precision',\n",
    "\n",
    "        'task_type': 'GPU',\n",
    "        'devices':'0',\n",
    "        \n",
    "        'auto_class_weights': 'Balanced',\n",
    "        \n",
    "        'random_seed': 42,\n",
    "        'verbose': 0,\n",
    "        \n",
    "        'iterations': 3000,\n",
    "        'early_stopping_rounds': 100,\n",
    "        \n",
    "        'depth': trial.suggest_int('depth', 4, 10),\n",
    "        \n",
    "        'learning_rate': trial.suggest_float('learning_rate', 0.01, 0.3, log=True),\n",
    "        'l2_leaf_reg': trial.suggest_float('l2_leaf_reg', 1, 10, log=True),\n",
    "        \n",
    "        'random_strength': trial.suggest_float('random_strength', 0.1, 1.0)   \n",
    "        \n",
    "    }\n",
    "    \n",
    "    # to save\n",
    "    best_iters = []\n",
    "    \n",
    "    score_auc = []\n",
    "    score_f1 = []\n",
    "    score_precision = []\n",
    "    score_recall = []\n",
    "    score_acc_balanced = []\n",
    "    \n",
    "    kf = StratifiedKFold(n_splits=4, shuffle=True, random_state=42)\n",
    "    \n",
    "    #cv\n",
    "    for train_idx, val_idx in kf.split(X_train, y_train):\n",
    "        X_train_t, X_val = X_train.iloc[train_idx], X_train.iloc[val_idx]\n",
    "        y_train_t, y_val = y_train.iloc[train_idx], y_train.iloc[val_idx]\n",
    "        \n",
    "        model = CatBoostClassifier(**params)\n",
    "    \n",
    "        model.fit(X_train_t, y_train_t,\n",
    "                  eval_set=[(X_val, y_val)],\n",
    "                  verbose=0)\n",
    "    \n",
    "        preds = model.predict(X_val)\n",
    "        preds_prob = model.predict_proba(X_val)[:,1]\n",
    "        \n",
    "        best_iters.append(model.best_iteration_)\n",
    "        \n",
    "        score_auc.append(roc_auc_score(y_val, preds_prob))\n",
    "        score_f1.append(f1_score(y_val, preds))\n",
    "        score_precision.append(precision_score(y_val, preds))\n",
    "        score_recall.append(recall_score(y_val, preds))\n",
    "        score_acc_balanced.append(balanced_accuracy_score(y_val, preds))\n",
    "    \n",
    "    trial.set_user_attr('best_iters', best_iters)\n",
    "    \n",
    "    trial.set_user_attr('score_auc', score_auc)\n",
    "    trial.set_user_attr('score_f1', score_f1)\n",
    "    trial.set_user_attr('score_precision', score_precision)\n",
    "    trial.set_user_attr('score_recall', score_recall)   \n",
    "    trial.set_user_attr('score_acc_balanced', score_acc_balanced)    \n",
    "    \n",
    "    return np.mean(score_precision)"
   ]
  },
  {
   "cell_type": "code",
   "execution_count": 92,
   "id": "d92358a9",
   "metadata": {
    "scrolled": true
   },
   "outputs": [],
   "source": [
    "# # fit\n",
    "# study = optuna.create_study(direction='maximize')\n",
    "# study.optimize(objective, n_trials=50, show_progress_bar=True)"
   ]
  },
  {
   "cell_type": "code",
   "execution_count": 93,
   "id": "3c0c544f",
   "metadata": {},
   "outputs": [],
   "source": [
    "# print('Score ROC AUC:   ', np.mean(study.best_trial.user_attrs['score_auc']))\n",
    "# print('Score f1:        ', np.mean(study.best_trial.user_attrs['score_f1']))\n",
    "# print('Score precision: ', np.mean(study.best_trial.user_attrs['score_precision']))\n",
    "# print('Score recall:    ', np.mean(study.best_trial.user_attrs['score_recall']))\n",
    "# print('Score Bld Acc:   ', np.mean(study.best_trial.user_attrs['score_acc_balanced']))"
   ]
  },
  {
   "cell_type": "code",
   "execution_count": 94,
   "id": "ab69efa1",
   "metadata": {},
   "outputs": [],
   "source": [
    "# print('Best iter:', study.best_trial.user_attrs['best_iters'])\n",
    "# print('Best model params:', study.best_trial.params)"
   ]
  },
  {
   "cell_type": "code",
   "execution_count": null,
   "id": "c24467c5",
   "metadata": {},
   "outputs": [],
   "source": []
  },
  {
   "cell_type": "code",
   "execution_count": null,
   "id": "72996876",
   "metadata": {},
   "outputs": [],
   "source": []
  },
  {
   "cell_type": "markdown",
   "id": "05ed46de",
   "metadata": {},
   "source": [
    "#### evaluate"
   ]
  },
  {
   "cell_type": "code",
   "execution_count": 95,
   "id": "3838f85a",
   "metadata": {},
   "outputs": [],
   "source": [
    "mdl_params_first = {\n",
    "    'loss_function': 'Logloss',\n",
    "    'eval_metric': 'F1',\n",
    "\n",
    "    'task_type': 'GPU',\n",
    "    'devices':'0',\n",
    "\n",
    "    'auto_class_weights': 'Balanced',\n",
    "\n",
    "    'random_seed': 42,\n",
    "    'verbose': 0,\n",
    "\n",
    "    'iterations': 202,\n",
    "    'depth': 10,\n",
    "    \n",
    "    'learning_rate': 0.10087483162934309,\n",
    "    'l2_leaf_reg': 5.93641768479246,\n",
    "    \n",
    "    'random_strength': 0.6208112566677679\n",
    "}"
   ]
  },
  {
   "cell_type": "code",
   "execution_count": 96,
   "id": "1007910d",
   "metadata": {},
   "outputs": [
    {
     "name": "stdout",
     "output_type": "stream",
     "text": [
      "0:\tlearn: 0.9792927\ttest: 0.9709399\tbest: 0.9709399 (0)\ttotal: 29.6ms\tremaining: 5.96s\n",
      "50:\tlearn: 0.9966656\ttest: 0.9842504\tbest: 0.9842504 (50)\ttotal: 1.34s\tremaining: 3.97s\n",
      "100:\tlearn: 0.9981602\ttest: 0.9835584\tbest: 0.9845391 (93)\ttotal: 2.65s\tremaining: 2.65s\n",
      "150:\tlearn: 0.9986487\ttest: 0.9793927\tbest: 0.9845391 (93)\ttotal: 3.97s\tremaining: 1.34s\n",
      "200:\tlearn: 0.9989663\ttest: 0.9783698\tbest: 0.9845391 (93)\ttotal: 5.26s\tremaining: 26.2ms\n",
      "201:\tlearn: 0.9989688\ttest: 0.9783798\tbest: 0.9845391 (93)\ttotal: 5.29s\tremaining: 0us\n",
      "bestTest = 0.9845391316\n",
      "bestIteration = 93\n",
      "Shrink model to first 94 iterations.\n"
     ]
    },
    {
     "data": {
      "text/plain": [
       "<catboost.core.CatBoostClassifier at 0x23abcd26550>"
      ]
     },
     "execution_count": 96,
     "metadata": {},
     "output_type": "execute_result"
    }
   ],
   "source": [
    "model = CatBoostClassifier(**mdl_params_first)\n",
    "model.fit(X_train, y_train, eval_set=[(X_test, y_test)], verbose=50)"
   ]
  },
  {
   "cell_type": "code",
   "execution_count": 97,
   "id": "bb316e50",
   "metadata": {},
   "outputs": [],
   "source": [
    "preds = model.predict(X_test)\n",
    "preds_proba = model.predict_proba(X_test)[:,1]"
   ]
  },
  {
   "cell_type": "code",
   "execution_count": null,
   "id": "871cbc99",
   "metadata": {},
   "outputs": [],
   "source": []
  },
  {
   "cell_type": "code",
   "execution_count": 98,
   "id": "8540a5c5",
   "metadata": {},
   "outputs": [
    {
     "name": "stdout",
     "output_type": "stream",
     "text": [
      "[[50031   223]\n",
      " [   12   447]]\n"
     ]
    }
   ],
   "source": [
    "print(confusion_matrix(y_test, preds))"
   ]
  },
  {
   "cell_type": "code",
   "execution_count": 99,
   "id": "70106e85",
   "metadata": {},
   "outputs": [
    {
     "name": "stdout",
     "output_type": "stream",
     "text": [
      "              precision    recall  f1-score   support\n",
      "\n",
      "           0       1.00      1.00      1.00     50254\n",
      "           1       0.67      0.97      0.79       459\n",
      "\n",
      "    accuracy                           1.00     50713\n",
      "   macro avg       0.83      0.98      0.89     50713\n",
      "weighted avg       1.00      1.00      1.00     50713\n",
      "\n"
     ]
    }
   ],
   "source": [
    "print(classification_report(y_test, preds))"
   ]
  },
  {
   "cell_type": "code",
   "execution_count": 100,
   "id": "d946dec0",
   "metadata": {},
   "outputs": [
    {
     "name": "stdout",
     "output_type": "stream",
     "text": [
      "roc_auc_score    0.9985022490974607\n",
      "f1_score         0.79185119574845\n",
      "bld_acc_score    0.984709375717759\n",
      "precision_score  0.6671641791044776\n",
      "recall_score     0.9738562091503268\n"
     ]
    }
   ],
   "source": [
    "print('roc_auc_score   ', roc_auc_score(y_test, preds_proba))\n",
    "print('f1_score        ', f1_score(y_test, preds))\n",
    "print('bld_acc_score   ', balanced_accuracy_score(y_test, preds))\n",
    "print('precision_score ', precision_score(y_test, preds))\n",
    "print('recall_score    ', recall_score(y_test, preds))"
   ]
  },
  {
   "cell_type": "code",
   "execution_count": null,
   "id": "82dde25e",
   "metadata": {},
   "outputs": [],
   "source": []
  },
  {
   "cell_type": "code",
   "execution_count": 101,
   "id": "bf0d8931",
   "metadata": {},
   "outputs": [
    {
     "data": {
      "image/png": "[encoded data removed]",
      "text/plain": [
       "<Figure size 1008x288 with 1 Axes>"
      ]
     },
     "metadata": {
      "needs_background": "light"
     },
     "output_type": "display_data"
    }
   ],
   "source": [
    "plt.figure(figsize=(14, 4))\n",
    "sns.histplot(preds_proba, stat='density', bins=20)\n",
    "\n",
    "plt.xlabel(\"Predicted Probability for Class 1\")\n",
    "plt.ylabel(\"Density\")\n",
    "plt.title(\"Distribution of Predicted Probabilities\")\n",
    "plt.show()"
   ]
  },
  {
   "cell_type": "code",
   "execution_count": null,
   "id": "9a2d03af",
   "metadata": {},
   "outputs": [],
   "source": []
  },
  {
   "cell_type": "code",
   "execution_count": 102,
   "id": "1c171692",
   "metadata": {},
   "outputs": [
    {
     "data": {
      "image/png": "[encoded data removed]",
      "text/plain": [
       "<Figure size 360x360 with 1 Axes>"
      ]
     },
     "metadata": {
      "needs_background": "light"
     },
     "output_type": "display_data"
    }
   ],
   "source": [
    "# ROC CURVE\n",
    "fpr, tpr, _ = roc_curve(y_test, preds_proba)\n",
    "roc_auc = auc(fpr, tpr)\n",
    "\n",
    "plt.figure(figsize=(5,5))\n",
    "plt.plot(fpr, tpr, label=f\"ROC curve (AUC = {roc_auc:.2f})\")\n",
    "plt.plot([0, 1], [0, 1], 'k--')\n",
    "plt.xlabel(\"False Positive Rate\")\n",
    "plt.ylabel(\"True Positive Rate\")\n",
    "plt.title(\"ROC Curve\")\n",
    "plt.legend()\n",
    "plt.show()"
   ]
  },
  {
   "cell_type": "code",
   "execution_count": 103,
   "id": "18a06f3e",
   "metadata": {},
   "outputs": [
    {
     "data": {
      "image/png": "[encoded data removed]",
      "text/plain": [
       "<Figure size 360x360 with 1 Axes>"
      ]
     },
     "metadata": {
      "needs_background": "light"
     },
     "output_type": "display_data"
    }
   ],
   "source": [
    "# Precision-Recall Curve\n",
    "precision, recall, _ = precision_recall_curve(y_test, preds_proba)\n",
    "\n",
    "plt.figure(figsize=(5,5))\n",
    "plt.plot(recall, precision)\n",
    "plt.xlabel(\"Recall\")\n",
    "plt.ylabel(\"Precision\")\n",
    "plt.title(\"Precision-Recall Curve\")\n",
    "plt.show()"
   ]
  },
  {
   "cell_type": "code",
   "execution_count": null,
   "id": "8a826e21",
   "metadata": {},
   "outputs": [],
   "source": []
  },
  {
   "cell_type": "code",
   "execution_count": 104,
   "id": "163b42b8",
   "metadata": {},
   "outputs": [
    {
     "data": {
      "image/png": "[encoded data removed]",
      "text/plain": [
       "<Figure size 360x360 with 1 Axes>"
      ]
     },
     "metadata": {
      "needs_background": "light"
     },
     "output_type": "display_data"
    }
   ],
   "source": [
    "prob_true, prob_pred = calibration_curve(y_test, preds_proba, n_bins=10)\n",
    "\n",
    "plt.figure(figsize=(5,5))\n",
    "plt.plot(prob_pred, prob_true, marker='o', label='Model')\n",
    "plt.plot([0, 1], [0, 1], 'k--', label='Perfectly Calibrated')\n",
    "plt.xlabel(\"Predicted Probability\")\n",
    "plt.ylabel(\"True Frequency\")\n",
    "plt.title(\"Calibration Curve\")\n",
    "plt.legend()\n",
    "plt.grid()\n",
    "plt.show()"
   ]
  },
  {
   "cell_type": "code",
   "execution_count": null,
   "id": "c7bbd483",
   "metadata": {},
   "outputs": [],
   "source": []
  },
  {
   "cell_type": "code",
   "execution_count": 105,
   "id": "10a29709",
   "metadata": {},
   "outputs": [
    {
     "data": {
      "image/png": "[encoded data removed]",
      "text/plain": [
       "<Figure size 720x432 with 1 Axes>"
      ]
     },
     "metadata": {
      "needs_background": "light"
     },
     "output_type": "display_data"
    }
   ],
   "source": [
    "plt.figure(figsize=(10, 6))\n",
    "plt.barh(model.feature_names_, model.feature_importances_)\n",
    "plt.xlabel('Importance')\n",
    "plt.title('CatBoost Feature Importance')\n",
    "plt.gca().invert_yaxis()\n",
    "plt.show()"
   ]
  },
  {
   "cell_type": "code",
   "execution_count": null,
   "id": "1c521ed4",
   "metadata": {},
   "outputs": [],
   "source": []
  },
  {
   "cell_type": "code",
   "execution_count": 106,
   "id": "76b1382f",
   "metadata": {},
   "outputs": [
    {
     "name": "stdout",
     "output_type": "stream",
     "text": [
      "0:\tlearn: 0.9782967\ttotal: 27.9ms\tremaining: 5.62s\n",
      "50:\tlearn: 0.9965593\ttotal: 1.37s\tremaining: 4.05s\n",
      "100:\tlearn: 0.9980556\ttotal: 2.72s\tremaining: 2.72s\n",
      "150:\tlearn: 0.9985514\ttotal: 4.06s\tremaining: 1.37s\n",
      "200:\tlearn: 0.9988750\ttotal: 5.41s\tremaining: 26.9ms\n",
      "201:\tlearn: 0.9988789\ttotal: 5.44s\tremaining: 0us\n"
     ]
    },
    {
     "data": {
      "text/plain": [
       "<catboost.core.CatBoostClassifier at 0x23ac135e610>"
      ]
     },
     "execution_count": 106,
     "metadata": {},
     "output_type": "execute_result"
    }
   ],
   "source": [
    "# final first model\n",
    "model_first_cb = CatBoostClassifier(**mdl_params_first)\n",
    "model_first_cb.fit(train_df_filtred[TRAIN_COLS], train_df_filtred[TARGET_COL], verbose=50)"
   ]
  },
  {
   "cell_type": "code",
   "execution_count": null,
   "id": "e2ad3485",
   "metadata": {},
   "outputs": [],
   "source": []
  },
  {
   "cell_type": "code",
   "execution_count": null,
   "id": "d36b1e18",
   "metadata": {},
   "outputs": [],
   "source": []
  },
  {
   "cell_type": "markdown",
   "id": "f876e179",
   "metadata": {},
   "source": [
    "## Train data II, III"
   ]
  },
  {
   "cell_type": "code",
   "execution_count": 107,
   "id": "d4b93c04",
   "metadata": {},
   "outputs": [],
   "source": [
    "from sklearn.feature_extraction.text import TfidfVectorizer\n",
    "from sklearn.model_selection import cross_val_score\n",
    "from sklearn.linear_model import LogisticRegression"
   ]
  },
  {
   "cell_type": "code",
   "execution_count": null,
   "id": "6f6009a9",
   "metadata": {},
   "outputs": [],
   "source": []
  },
  {
   "cell_type": "markdown",
   "id": "8df4707b",
   "metadata": {},
   "source": [
    "#### Model for TfidfVectorizer"
   ]
  },
  {
   "cell_type": "code",
   "execution_count": 108,
   "id": "5250bcae",
   "metadata": {},
   "outputs": [],
   "source": [
    "def oof_pred(df):\n",
    "    \n",
    "    idx = 1\n",
    "    df_oof = pd.DataFrame()\n",
    "    kf = StratifiedKFold(n_splits=5, shuffle=True, random_state=42)\n",
    "    \n",
    "    for train_idx, val_idx in kf.split(df[TRAIN_COLS], df[TARGET_COL]):\n",
    "        X_t, X_v = df.iloc[train_idx], df.iloc[val_idx]\n",
    "        \n",
    "        model = CatBoostClassifier(**mdl_params_first)        \n",
    "        model.fit(X_t[TRAIN_COLS], X_t[TARGET_COL], verbose=0)\n",
    "        \n",
    "        df_tmp = X_v.copy()        \n",
    "        df_tmp['preds_frst_model'] = model.predict_proba(df_tmp[TRAIN_COLS])[:,1]\n",
    "        \n",
    "        df_oof = pd.concat([df_oof, df_tmp])\n",
    "        \n",
    "        print('Iter', idx)\n",
    "        idx += 1\n",
    "        \n",
    "    df_oof = df_oof.sort_index()\n",
    "    return df_oof        "
   ]
  },
  {
   "cell_type": "code",
   "execution_count": 109,
   "id": "5cd1f151",
   "metadata": {},
   "outputs": [
    {
     "name": "stdout",
     "output_type": "stream",
     "text": [
      "Iter 1\n",
      "Iter 2\n",
      "Iter 3\n",
      "Iter 4\n",
      "Iter 5\n"
     ]
    }
   ],
   "source": [
    "train_df_filtred = oof_pred(train_df_filtred)"
   ]
  },
  {
   "cell_type": "code",
   "execution_count": null,
   "id": "111209aa",
   "metadata": {},
   "outputs": [],
   "source": []
  },
  {
   "cell_type": "code",
   "execution_count": 110,
   "id": "013b53af",
   "metadata": {},
   "outputs": [],
   "source": [
    "def get_words_features(df):\n",
    "    \n",
    "    df['words'] = (df[site_cols]\n",
    "                   .fillna(0)\n",
    "                   .astype('int')\n",
    "                   .astype('str')\n",
    "                   .apply(lambda s: ' '.join(s), axis=1))\n",
    "    \n",
    "    return df"
   ]
  },
  {
   "cell_type": "code",
   "execution_count": 111,
   "id": "f9c48628",
   "metadata": {},
   "outputs": [],
   "source": [
    "train_df_filtred = get_words_features(train_df_filtred)"
   ]
  },
  {
   "cell_type": "code",
   "execution_count": null,
   "id": "7a72a78d",
   "metadata": {},
   "outputs": [],
   "source": []
  },
  {
   "cell_type": "code",
   "execution_count": 112,
   "id": "85726d76",
   "metadata": {},
   "outputs": [],
   "source": [
    "vectorizer = TfidfVectorizer(ngram_range=(1, 3), max_features=50000)\n",
    "\n",
    "vec_features = vectorizer.fit_transform(train_df_filtred['words'])\n",
    "vec_target = train_df_filtred['target'].astype('int').values"
   ]
  },
  {
   "cell_type": "code",
   "execution_count": null,
   "id": "a784fb06",
   "metadata": {},
   "outputs": [],
   "source": []
  },
  {
   "cell_type": "code",
   "execution_count": 113,
   "id": "2f19124b",
   "metadata": {},
   "outputs": [
    {
     "name": "stdout",
     "output_type": "stream",
     "text": [
      "CV scores [0.96212474 0.96119109 0.96723734 0.96057504]\n",
      "CV mean: 0.9627820531876818, CV std: 0.002630766287928333\n"
     ]
    }
   ],
   "source": [
    "linear_model = LogisticRegression(C=7.5, random_state=42, solver='liblinear')\n",
    "\n",
    "cv_scores = cross_val_score(linear_model,\n",
    "                            vec_features,\n",
    "                            vec_target,\n",
    "                            cv=StratifiedKFold(n_splits=4, shuffle=True, random_state=42),\n",
    "                            scoring='roc_auc',\n",
    "                            n_jobs=4)\n",
    "\n",
    "print('CV scores', cv_scores)\n",
    "print(f'CV mean: {cv_scores.mean()}, CV std: {cv_scores.std()}')"
   ]
  },
  {
   "cell_type": "code",
   "execution_count": 114,
   "id": "583f65b0",
   "metadata": {},
   "outputs": [
    {
     "data": {
      "text/html": [
       "<style>#sk-container-id-4 {\n",
       "  /* Definition of color scheme common for light and dark mode */\n",
       "  --sklearn-color-text: #000;\n",
       "  --sklearn-color-text-muted: #666;\n",
       "  --sklearn-color-line: gray;\n",
       "  /* Definition of color scheme for unfitted estimators */\n",
       "  --sklearn-color-unfitted-level-0: #fff5e6;\n",
       "  --sklearn-color-unfitted-level-1: #f6e4d2;\n",
       "  --sklearn-color-unfitted-level-2: #ffe0b3;\n",
       "  --sklearn-color-unfitted-level-3: chocolate;\n",
       "  /* Definition of color scheme for fitted estimators */\n",
       "  --sklearn-color-fitted-level-0: #f0f8ff;\n",
       "  --sklearn-color-fitted-level-1: #d4ebff;\n",
       "  --sklearn-color-fitted-level-2: #b3dbfd;\n",
       "  --sklearn-color-fitted-level-3: cornflowerblue;\n",
       "\n",
       "  /* Specific color for light theme */\n",
       "  --sklearn-color-text-on-default-background: var(--sg-text-color, var(--theme-code-foreground, var(--jp-content-font-color1, black)));\n",
       "  --sklearn-color-background: var(--sg-background-color, var(--theme-background, var(--jp-layout-color0, white)));\n",
       "  --sklearn-color-border-box: var(--sg-text-color, var(--theme-code-foreground, var(--jp-content-font-color1, black)));\n",
       "  --sklearn-color-icon: #696969;\n",
       "\n",
       "  @media (prefers-color-scheme: dark) {\n",
       "    /* Redefinition of color scheme for dark theme */\n",
       "    --sklearn-color-text-on-default-background: var(--sg-text-color, var(--theme-code-foreground, var(--jp-content-font-color1, white)));\n",
       "    --sklearn-color-background: var(--sg-background-color, var(--theme-background, var(--jp-layout-color0, #111)));\n",
       "    --sklearn-color-border-box: var(--sg-text-color, var(--theme-code-foreground, var(--jp-content-font-color1, white)));\n",
       "    --sklearn-color-icon: #878787;\n",
       "  }\n",
       "}\n",
       "\n",
       "#sk-container-id-4 {\n",
       "  color: var(--sklearn-color-text);\n",
       "}\n",
       "\n",
       "#sk-container-id-4 pre {\n",
       "  padding: 0;\n",
       "}\n",
       "\n",
       "#sk-container-id-4 input.sk-hidden--visually {\n",
       "  border: 0;\n",
       "  clip: rect(1px 1px 1px 1px);\n",
       "  clip: rect(1px, 1px, 1px, 1px);\n",
       "  height: 1px;\n",
       "  margin: -1px;\n",
       "  overflow: hidden;\n",
       "  padding: 0;\n",
       "  position: absolute;\n",
       "  width: 1px;\n",
       "}\n",
       "\n",
       "#sk-container-id-4 div.sk-dashed-wrapped {\n",
       "  border: 1px dashed var(--sklearn-color-line);\n",
       "  margin: 0 0.4em 0.5em 0.4em;\n",
       "  box-sizing: border-box;\n",
       "  padding-bottom: 0.4em;\n",
       "  background-color: var(--sklearn-color-background);\n",
       "}\n",
       "\n",
       "#sk-container-id-4 div.sk-container {\n",
       "  /* jupyter's `normalize.less` sets `[hidden] { display: none; }`\n",
       "     but bootstrap.min.css set `[hidden] { display: none !important; }`\n",
       "     so we also need the `!important` here to be able to override the\n",
       "     default hidden behavior on the sphinx rendered scikit-learn.org.\n",
       "     See: https://github.com/scikit-learn/scikit-learn/issues/21755 */\n",
       "  display: inline-block !important;\n",
       "  position: relative;\n",
       "}\n",
       "\n",
       "#sk-container-id-4 div.sk-text-repr-fallback {\n",
       "  display: none;\n",
       "}\n",
       "\n",
       "div.sk-parallel-item,\n",
       "div.sk-serial,\n",
       "div.sk-item {\n",
       "  /* draw centered vertical line to link estimators */\n",
       "  background-image: linear-gradient(var(--sklearn-color-text-on-default-background), var(--sklearn-color-text-on-default-background));\n",
       "  background-size: 2px 100%;\n",
       "  background-repeat: no-repeat;\n",
       "  background-position: center center;\n",
       "}\n",
       "\n",
       "/* Parallel-specific style estimator block */\n",
       "\n",
       "#sk-container-id-4 div.sk-parallel-item::after {\n",
       "  content: \"\";\n",
       "  width: 100%;\n",
       "  border-bottom: 2px solid var(--sklearn-color-text-on-default-background);\n",
       "  flex-grow: 1;\n",
       "}\n",
       "\n",
       "#sk-container-id-4 div.sk-parallel {\n",
       "  display: flex;\n",
       "  align-items: stretch;\n",
       "  justify-content: center;\n",
       "  background-color: var(--sklearn-color-background);\n",
       "  position: relative;\n",
       "}\n",
       "\n",
       "#sk-container-id-4 div.sk-parallel-item {\n",
       "  display: flex;\n",
       "  flex-direction: column;\n",
       "}\n",
       "\n",
       "#sk-container-id-4 div.sk-parallel-item:first-child::after {\n",
       "  align-self: flex-end;\n",
       "  width: 50%;\n",
       "}\n",
       "\n",
       "#sk-container-id-4 div.sk-parallel-item:last-child::after {\n",
       "  align-self: flex-start;\n",
       "  width: 50%;\n",
       "}\n",
       "\n",
       "#sk-container-id-4 div.sk-parallel-item:only-child::after {\n",
       "  width: 0;\n",
       "}\n",
       "\n",
       "/* Serial-specific style estimator block */\n",
       "\n",
       "#sk-container-id-4 div.sk-serial {\n",
       "  display: flex;\n",
       "  flex-direction: column;\n",
       "  align-items: center;\n",
       "  background-color: var(--sklearn-color-background);\n",
       "  padding-right: 1em;\n",
       "  padding-left: 1em;\n",
       "}\n",
       "\n",
       "\n",
       "/* Toggleable style: style used for estimator/Pipeline/ColumnTransformer box that is\n",
       "clickable and can be expanded/collapsed.\n",
       "- Pipeline and ColumnTransformer use this feature and define the default style\n",
       "- Estimators will overwrite some part of the style using the `sk-estimator` class\n",
       "*/\n",
       "\n",
       "/* Pipeline and ColumnTransformer style (default) */\n",
       "\n",
       "#sk-container-id-4 div.sk-toggleable {\n",
       "  /* Default theme specific background. It is overwritten whether we have a\n",
       "  specific estimator or a Pipeline/ColumnTransformer */\n",
       "  background-color: var(--sklearn-color-background);\n",
       "}\n",
       "\n",
       "/* Toggleable label */\n",
       "#sk-container-id-4 label.sk-toggleable__label {\n",
       "  cursor: pointer;\n",
       "  display: flex;\n",
       "  width: 100%;\n",
       "  margin-bottom: 0;\n",
       "  padding: 0.5em;\n",
       "  box-sizing: border-box;\n",
       "  text-align: center;\n",
       "  align-items: start;\n",
       "  justify-content: space-between;\n",
       "  gap: 0.5em;\n",
       "}\n",
       "\n",
       "#sk-container-id-4 label.sk-toggleable__label .caption {\n",
       "  font-size: 0.6rem;\n",
       "  font-weight: lighter;\n",
       "  color: var(--sklearn-color-text-muted);\n",
       "}\n",
       "\n",
       "#sk-container-id-4 label.sk-toggleable__label-arrow:before {\n",
       "  /* Arrow on the left of the label */\n",
       "  content: \"▸\";\n",
       "  float: left;\n",
       "  margin-right: 0.25em;\n",
       "  color: var(--sklearn-color-icon);\n",
       "}\n",
       "\n",
       "#sk-container-id-4 label.sk-toggleable__label-arrow:hover:before {\n",
       "  color: var(--sklearn-color-text);\n",
       "}\n",
       "\n",
       "/* Toggleable content - dropdown */\n",
       "\n",
       "#sk-container-id-4 div.sk-toggleable__content {\n",
       "  max-height: 0;\n",
       "  max-width: 0;\n",
       "  overflow: hidden;\n",
       "  text-align: left;\n",
       "  /* unfitted */\n",
       "  background-color: var(--sklearn-color-unfitted-level-0);\n",
       "}\n",
       "\n",
       "#sk-container-id-4 div.sk-toggleable__content.fitted {\n",
       "  /* fitted */\n",
       "  background-color: var(--sklearn-color-fitted-level-0);\n",
       "}\n",
       "\n",
       "#sk-container-id-4 div.sk-toggleable__content pre {\n",
       "  margin: 0.2em;\n",
       "  border-radius: 0.25em;\n",
       "  color: var(--sklearn-color-text);\n",
       "  /* unfitted */\n",
       "  background-color: var(--sklearn-color-unfitted-level-0);\n",
       "}\n",
       "\n",
       "#sk-container-id-4 div.sk-toggleable__content.fitted pre {\n",
       "  /* unfitted */\n",
       "  background-color: var(--sklearn-color-fitted-level-0);\n",
       "}\n",
       "\n",
       "#sk-container-id-4 input.sk-toggleable__control:checked~div.sk-toggleable__content {\n",
       "  /* Expand drop-down */\n",
       "  max-height: 200px;\n",
       "  max-width: 100%;\n",
       "  overflow: auto;\n",
       "}\n",
       "\n",
       "#sk-container-id-4 input.sk-toggleable__control:checked~label.sk-toggleable__label-arrow:before {\n",
       "  content: \"▾\";\n",
       "}\n",
       "\n",
       "/* Pipeline/ColumnTransformer-specific style */\n",
       "\n",
       "#sk-container-id-4 div.sk-label input.sk-toggleable__control:checked~label.sk-toggleable__label {\n",
       "  color: var(--sklearn-color-text);\n",
       "  background-color: var(--sklearn-color-unfitted-level-2);\n",
       "}\n",
       "\n",
       "#sk-container-id-4 div.sk-label.fitted input.sk-toggleable__control:checked~label.sk-toggleable__label {\n",
       "  background-color: var(--sklearn-color-fitted-level-2);\n",
       "}\n",
       "\n",
       "/* Estimator-specific style */\n",
       "\n",
       "/* Colorize estimator box */\n",
       "#sk-container-id-4 div.sk-estimator input.sk-toggleable__control:checked~label.sk-toggleable__label {\n",
       "  /* unfitted */\n",
       "  background-color: var(--sklearn-color-unfitted-level-2);\n",
       "}\n",
       "\n",
       "#sk-container-id-4 div.sk-estimator.fitted input.sk-toggleable__control:checked~label.sk-toggleable__label {\n",
       "  /* fitted */\n",
       "  background-color: var(--sklearn-color-fitted-level-2);\n",
       "}\n",
       "\n",
       "#sk-container-id-4 div.sk-label label.sk-toggleable__label,\n",
       "#sk-container-id-4 div.sk-label label {\n",
       "  /* The background is the default theme color */\n",
       "  color: var(--sklearn-color-text-on-default-background);\n",
       "}\n",
       "\n",
       "/* On hover, darken the color of the background */\n",
       "#sk-container-id-4 div.sk-label:hover label.sk-toggleable__label {\n",
       "  color: var(--sklearn-color-text);\n",
       "  background-color: var(--sklearn-color-unfitted-level-2);\n",
       "}\n",
       "\n",
       "/* Label box, darken color on hover, fitted */\n",
       "#sk-container-id-4 div.sk-label.fitted:hover label.sk-toggleable__label.fitted {\n",
       "  color: var(--sklearn-color-text);\n",
       "  background-color: var(--sklearn-color-fitted-level-2);\n",
       "}\n",
       "\n",
       "/* Estimator label */\n",
       "\n",
       "#sk-container-id-4 div.sk-label label {\n",
       "  font-family: monospace;\n",
       "  font-weight: bold;\n",
       "  display: inline-block;\n",
       "  line-height: 1.2em;\n",
       "}\n",
       "\n",
       "#sk-container-id-4 div.sk-label-container {\n",
       "  text-align: center;\n",
       "}\n",
       "\n",
       "/* Estimator-specific */\n",
       "#sk-container-id-4 div.sk-estimator {\n",
       "  font-family: monospace;\n",
       "  border: 1px dotted var(--sklearn-color-border-box);\n",
       "  border-radius: 0.25em;\n",
       "  box-sizing: border-box;\n",
       "  margin-bottom: 0.5em;\n",
       "  /* unfitted */\n",
       "  background-color: var(--sklearn-color-unfitted-level-0);\n",
       "}\n",
       "\n",
       "#sk-container-id-4 div.sk-estimator.fitted {\n",
       "  /* fitted */\n",
       "  background-color: var(--sklearn-color-fitted-level-0);\n",
       "}\n",
       "\n",
       "/* on hover */\n",
       "#sk-container-id-4 div.sk-estimator:hover {\n",
       "  /* unfitted */\n",
       "  background-color: var(--sklearn-color-unfitted-level-2);\n",
       "}\n",
       "\n",
       "#sk-container-id-4 div.sk-estimator.fitted:hover {\n",
       "  /* fitted */\n",
       "  background-color: var(--sklearn-color-fitted-level-2);\n",
       "}\n",
       "\n",
       "/* Specification for estimator info (e.g. \"i\" and \"?\") */\n",
       "\n",
       "/* Common style for \"i\" and \"?\" */\n",
       "\n",
       ".sk-estimator-doc-link,\n",
       "a:link.sk-estimator-doc-link,\n",
       "a:visited.sk-estimator-doc-link {\n",
       "  float: right;\n",
       "  font-size: smaller;\n",
       "  line-height: 1em;\n",
       "  font-family: monospace;\n",
       "  background-color: var(--sklearn-color-background);\n",
       "  border-radius: 1em;\n",
       "  height: 1em;\n",
       "  width: 1em;\n",
       "  text-decoration: none !important;\n",
       "  margin-left: 0.5em;\n",
       "  text-align: center;\n",
       "  /* unfitted */\n",
       "  border: var(--sklearn-color-unfitted-level-1) 1pt solid;\n",
       "  color: var(--sklearn-color-unfitted-level-1);\n",
       "}\n",
       "\n",
       ".sk-estimator-doc-link.fitted,\n",
       "a:link.sk-estimator-doc-link.fitted,\n",
       "a:visited.sk-estimator-doc-link.fitted {\n",
       "  /* fitted */\n",
       "  border: var(--sklearn-color-fitted-level-1) 1pt solid;\n",
       "  color: var(--sklearn-color-fitted-level-1);\n",
       "}\n",
       "\n",
       "/* On hover */\n",
       "div.sk-estimator:hover .sk-estimator-doc-link:hover,\n",
       ".sk-estimator-doc-link:hover,\n",
       "div.sk-label-container:hover .sk-estimator-doc-link:hover,\n",
       ".sk-estimator-doc-link:hover {\n",
       "  /* unfitted */\n",
       "  background-color: var(--sklearn-color-unfitted-level-3);\n",
       "  color: var(--sklearn-color-background);\n",
       "  text-decoration: none;\n",
       "}\n",
       "\n",
       "div.sk-estimator.fitted:hover .sk-estimator-doc-link.fitted:hover,\n",
       ".sk-estimator-doc-link.fitted:hover,\n",
       "div.sk-label-container:hover .sk-estimator-doc-link.fitted:hover,\n",
       ".sk-estimator-doc-link.fitted:hover {\n",
       "  /* fitted */\n",
       "  background-color: var(--sklearn-color-fitted-level-3);\n",
       "  color: var(--sklearn-color-background);\n",
       "  text-decoration: none;\n",
       "}\n",
       "\n",
       "/* Span, style for the box shown on hovering the info icon */\n",
       ".sk-estimator-doc-link span {\n",
       "  display: none;\n",
       "  z-index: 9999;\n",
       "  position: relative;\n",
       "  font-weight: normal;\n",
       "  right: .2ex;\n",
       "  padding: .5ex;\n",
       "  margin: .5ex;\n",
       "  width: min-content;\n",
       "  min-width: 20ex;\n",
       "  max-width: 50ex;\n",
       "  color: var(--sklearn-color-text);\n",
       "  box-shadow: 2pt 2pt 4pt #999;\n",
       "  /* unfitted */\n",
       "  background: var(--sklearn-color-unfitted-level-0);\n",
       "  border: .5pt solid var(--sklearn-color-unfitted-level-3);\n",
       "}\n",
       "\n",
       ".sk-estimator-doc-link.fitted span {\n",
       "  /* fitted */\n",
       "  background: var(--sklearn-color-fitted-level-0);\n",
       "  border: var(--sklearn-color-fitted-level-3);\n",
       "}\n",
       "\n",
       ".sk-estimator-doc-link:hover span {\n",
       "  display: block;\n",
       "}\n",
       "\n",
       "/* \"?\"-specific style due to the `<a>` HTML tag */\n",
       "\n",
       "#sk-container-id-4 a.estimator_doc_link {\n",
       "  float: right;\n",
       "  font-size: 1rem;\n",
       "  line-height: 1em;\n",
       "  font-family: monospace;\n",
       "  background-color: var(--sklearn-color-background);\n",
       "  border-radius: 1rem;\n",
       "  height: 1rem;\n",
       "  width: 1rem;\n",
       "  text-decoration: none;\n",
       "  /* unfitted */\n",
       "  color: var(--sklearn-color-unfitted-level-1);\n",
       "  border: var(--sklearn-color-unfitted-level-1) 1pt solid;\n",
       "}\n",
       "\n",
       "#sk-container-id-4 a.estimator_doc_link.fitted {\n",
       "  /* fitted */\n",
       "  border: var(--sklearn-color-fitted-level-1) 1pt solid;\n",
       "  color: var(--sklearn-color-fitted-level-1);\n",
       "}\n",
       "\n",
       "/* On hover */\n",
       "#sk-container-id-4 a.estimator_doc_link:hover {\n",
       "  /* unfitted */\n",
       "  background-color: var(--sklearn-color-unfitted-level-3);\n",
       "  color: var(--sklearn-color-background);\n",
       "  text-decoration: none;\n",
       "}\n",
       "\n",
       "#sk-container-id-4 a.estimator_doc_link.fitted:hover {\n",
       "  /* fitted */\n",
       "  background-color: var(--sklearn-color-fitted-level-3);\n",
       "}\n",
       "</style><div id=\"sk-container-id-4\" class=\"sk-top-container\"><div class=\"sk-text-repr-fallback\"><pre>LogisticRegression(C=7.5, random_state=42, solver=&#x27;liblinear&#x27;)</pre><b>In a Jupyter environment, please rerun this cell to show the HTML representation or trust the notebook. <br />On GitHub, the HTML representation is unable to render, please try loading this page with nbviewer.org.</b></div><div class=\"sk-container\" hidden><div class=\"sk-item\"><div class=\"sk-estimator fitted sk-toggleable\"><input class=\"sk-toggleable__control sk-hidden--visually\" id=\"sk-estimator-id-4\" type=\"checkbox\" checked><label for=\"sk-estimator-id-4\" class=\"sk-toggleable__label fitted sk-toggleable__label-arrow\"><div><div>LogisticRegression</div></div><div><a class=\"sk-estimator-doc-link fitted\" rel=\"noreferrer\" target=\"_blank\" href=\"https://scikit-learn.org/1.6/modules/generated/sklearn.linear_model.LogisticRegression.html\">?<span>Documentation for LogisticRegression</span></a><span class=\"sk-estimator-doc-link fitted\">i<span>Fitted</span></span></div></label><div class=\"sk-toggleable__content fitted\"><pre>LogisticRegression(C=7.5, random_state=42, solver=&#x27;liblinear&#x27;)</pre></div> </div></div></div></div>"
      ],
      "text/plain": [
       "LogisticRegression(C=7.5, random_state=42, solver='liblinear')"
      ]
     },
     "execution_count": 114,
     "metadata": {},
     "output_type": "execute_result"
    }
   ],
   "source": [
    "linear_second_model = LogisticRegression(C=7.5, random_state=42, solver='liblinear')\n",
    "linear_second_model.fit(vec_features, vec_target)"
   ]
  },
  {
   "cell_type": "code",
   "execution_count": null,
   "id": "a950a490",
   "metadata": {},
   "outputs": [],
   "source": []
  },
  {
   "cell_type": "code",
   "execution_count": null,
   "id": "db25dbcb",
   "metadata": {},
   "outputs": [],
   "source": []
  },
  {
   "cell_type": "code",
   "execution_count": 115,
   "id": "c4cd5f65",
   "metadata": {},
   "outputs": [],
   "source": [
    "# train_df_filtred['preds_scnd_model'] = linear_model.predict_proba(vec_features)[:,1]"
   ]
  },
  {
   "cell_type": "code",
   "execution_count": null,
   "id": "a8887baf",
   "metadata": {},
   "outputs": [],
   "source": []
  },
  {
   "cell_type": "code",
   "execution_count": null,
   "id": "0139136c",
   "metadata": {},
   "outputs": [],
   "source": []
  },
  {
   "cell_type": "markdown",
   "id": "99b8eec0",
   "metadata": {},
   "source": [
    "#### Fin stacked model"
   ]
  },
  {
   "cell_type": "code",
   "execution_count": null,
   "id": "47800f29",
   "metadata": {},
   "outputs": [],
   "source": []
  },
  {
   "cell_type": "code",
   "execution_count": 116,
   "id": "8f073def",
   "metadata": {},
   "outputs": [],
   "source": [
    "# for ln model\n",
    "def oof_pred(df):\n",
    "    \n",
    "    idx = 1\n",
    "    df_oof = pd.DataFrame()\n",
    "    kf = StratifiedKFold(n_splits=5, shuffle=True, random_state=42)\n",
    "    \n",
    "    for train_idx, val_idx in kf.split(df[TRAIN_COLS], df[TARGET_COL]):\n",
    "        X_t, X_v = df.iloc[train_idx], df.iloc[val_idx]\n",
    "        \n",
    "        vec_prep = TfidfVectorizer(ngram_range=(1, 3), max_features=50000)\n",
    "        vec_feat = vec_prep.fit_transform(X_t['words'])\n",
    "        vec_trgt = X_t['target'].astype('int').values\n",
    "        \n",
    "        linear_model = LogisticRegression(C=7.5, random_state=42, solver='liblinear')\n",
    "        linear_model.fit(vec_feat, vec_trgt)\n",
    "        \n",
    "        vec_feat_v = vec_prep.transform(X_v['words'])\n",
    "        \n",
    "        df_tmp = X_v.copy() \n",
    "        df_tmp['preds_scnd_model'] = linear_model.predict_proba(vec_feat_v)[:,1]\n",
    "        \n",
    "        df_oof = pd.concat([df_oof, df_tmp])\n",
    "        \n",
    "        print('Iter', idx)\n",
    "        idx += 1\n",
    "        \n",
    "    df_oof = df_oof.sort_index()\n",
    "    return df_oof        "
   ]
  },
  {
   "cell_type": "code",
   "execution_count": 117,
   "id": "78eaadbc",
   "metadata": {
    "scrolled": true
   },
   "outputs": [
    {
     "name": "stdout",
     "output_type": "stream",
     "text": [
      "Iter 1\n",
      "Iter 2\n",
      "Iter 3\n",
      "Iter 4\n",
      "Iter 5\n"
     ]
    }
   ],
   "source": [
    "train_df_filtred = oof_pred(train_df_filtred)"
   ]
  },
  {
   "cell_type": "code",
   "execution_count": null,
   "id": "ed1cbb96",
   "metadata": {},
   "outputs": [],
   "source": []
  },
  {
   "cell_type": "code",
   "execution_count": null,
   "id": "2d453b76",
   "metadata": {},
   "outputs": [],
   "source": []
  },
  {
   "cell_type": "code",
   "execution_count": 118,
   "id": "545831fa",
   "metadata": {},
   "outputs": [],
   "source": [
    "TRAIN_ST_COLS = ['preds_frst_model', 'preds_scnd_model']"
   ]
  },
  {
   "cell_type": "code",
   "execution_count": null,
   "id": "6f3bb0b7",
   "metadata": {},
   "outputs": [],
   "source": []
  },
  {
   "cell_type": "code",
   "execution_count": 119,
   "id": "3bd18ed6",
   "metadata": {},
   "outputs": [
    {
     "name": "stdout",
     "output_type": "stream",
     "text": [
      "CV scores [0.99784655 0.997412   0.99820101 0.99903931]\n",
      "CV mean: 0.9981247167721002, CV std: 0.0005974213009925657\n"
     ]
    },
    {
     "data": {
      "text/html": [
       "<style>#sk-container-id-5 {\n",
       "  /* Definition of color scheme common for light and dark mode */\n",
       "  --sklearn-color-text: #000;\n",
       "  --sklearn-color-text-muted: #666;\n",
       "  --sklearn-color-line: gray;\n",
       "  /* Definition of color scheme for unfitted estimators */\n",
       "  --sklearn-color-unfitted-level-0: #fff5e6;\n",
       "  --sklearn-color-unfitted-level-1: #f6e4d2;\n",
       "  --sklearn-color-unfitted-level-2: #ffe0b3;\n",
       "  --sklearn-color-unfitted-level-3: chocolate;\n",
       "  /* Definition of color scheme for fitted estimators */\n",
       "  --sklearn-color-fitted-level-0: #f0f8ff;\n",
       "  --sklearn-color-fitted-level-1: #d4ebff;\n",
       "  --sklearn-color-fitted-level-2: #b3dbfd;\n",
       "  --sklearn-color-fitted-level-3: cornflowerblue;\n",
       "\n",
       "  /* Specific color for light theme */\n",
       "  --sklearn-color-text-on-default-background: var(--sg-text-color, var(--theme-code-foreground, var(--jp-content-font-color1, black)));\n",
       "  --sklearn-color-background: var(--sg-background-color, var(--theme-background, var(--jp-layout-color0, white)));\n",
       "  --sklearn-color-border-box: var(--sg-text-color, var(--theme-code-foreground, var(--jp-content-font-color1, black)));\n",
       "  --sklearn-color-icon: #696969;\n",
       "\n",
       "  @media (prefers-color-scheme: dark) {\n",
       "    /* Redefinition of color scheme for dark theme */\n",
       "    --sklearn-color-text-on-default-background: var(--sg-text-color, var(--theme-code-foreground, var(--jp-content-font-color1, white)));\n",
       "    --sklearn-color-background: var(--sg-background-color, var(--theme-background, var(--jp-layout-color0, #111)));\n",
       "    --sklearn-color-border-box: var(--sg-text-color, var(--theme-code-foreground, var(--jp-content-font-color1, white)));\n",
       "    --sklearn-color-icon: #878787;\n",
       "  }\n",
       "}\n",
       "\n",
       "#sk-container-id-5 {\n",
       "  color: var(--sklearn-color-text);\n",
       "}\n",
       "\n",
       "#sk-container-id-5 pre {\n",
       "  padding: 0;\n",
       "}\n",
       "\n",
       "#sk-container-id-5 input.sk-hidden--visually {\n",
       "  border: 0;\n",
       "  clip: rect(1px 1px 1px 1px);\n",
       "  clip: rect(1px, 1px, 1px, 1px);\n",
       "  height: 1px;\n",
       "  margin: -1px;\n",
       "  overflow: hidden;\n",
       "  padding: 0;\n",
       "  position: absolute;\n",
       "  width: 1px;\n",
       "}\n",
       "\n",
       "#sk-container-id-5 div.sk-dashed-wrapped {\n",
       "  border: 1px dashed var(--sklearn-color-line);\n",
       "  margin: 0 0.4em 0.5em 0.4em;\n",
       "  box-sizing: border-box;\n",
       "  padding-bottom: 0.4em;\n",
       "  background-color: var(--sklearn-color-background);\n",
       "}\n",
       "\n",
       "#sk-container-id-5 div.sk-container {\n",
       "  /* jupyter's `normalize.less` sets `[hidden] { display: none; }`\n",
       "     but bootstrap.min.css set `[hidden] { display: none !important; }`\n",
       "     so we also need the `!important` here to be able to override the\n",
       "     default hidden behavior on the sphinx rendered scikit-learn.org.\n",
       "     See: https://github.com/scikit-learn/scikit-learn/issues/21755 */\n",
       "  display: inline-block !important;\n",
       "  position: relative;\n",
       "}\n",
       "\n",
       "#sk-container-id-5 div.sk-text-repr-fallback {\n",
       "  display: none;\n",
       "}\n",
       "\n",
       "div.sk-parallel-item,\n",
       "div.sk-serial,\n",
       "div.sk-item {\n",
       "  /* draw centered vertical line to link estimators */\n",
       "  background-image: linear-gradient(var(--sklearn-color-text-on-default-background), var(--sklearn-color-text-on-default-background));\n",
       "  background-size: 2px 100%;\n",
       "  background-repeat: no-repeat;\n",
       "  background-position: center center;\n",
       "}\n",
       "\n",
       "/* Parallel-specific style estimator block */\n",
       "\n",
       "#sk-container-id-5 div.sk-parallel-item::after {\n",
       "  content: \"\";\n",
       "  width: 100%;\n",
       "  border-bottom: 2px solid var(--sklearn-color-text-on-default-background);\n",
       "  flex-grow: 1;\n",
       "}\n",
       "\n",
       "#sk-container-id-5 div.sk-parallel {\n",
       "  display: flex;\n",
       "  align-items: stretch;\n",
       "  justify-content: center;\n",
       "  background-color: var(--sklearn-color-background);\n",
       "  position: relative;\n",
       "}\n",
       "\n",
       "#sk-container-id-5 div.sk-parallel-item {\n",
       "  display: flex;\n",
       "  flex-direction: column;\n",
       "}\n",
       "\n",
       "#sk-container-id-5 div.sk-parallel-item:first-child::after {\n",
       "  align-self: flex-end;\n",
       "  width: 50%;\n",
       "}\n",
       "\n",
       "#sk-container-id-5 div.sk-parallel-item:last-child::after {\n",
       "  align-self: flex-start;\n",
       "  width: 50%;\n",
       "}\n",
       "\n",
       "#sk-container-id-5 div.sk-parallel-item:only-child::after {\n",
       "  width: 0;\n",
       "}\n",
       "\n",
       "/* Serial-specific style estimator block */\n",
       "\n",
       "#sk-container-id-5 div.sk-serial {\n",
       "  display: flex;\n",
       "  flex-direction: column;\n",
       "  align-items: center;\n",
       "  background-color: var(--sklearn-color-background);\n",
       "  padding-right: 1em;\n",
       "  padding-left: 1em;\n",
       "}\n",
       "\n",
       "\n",
       "/* Toggleable style: style used for estimator/Pipeline/ColumnTransformer box that is\n",
       "clickable and can be expanded/collapsed.\n",
       "- Pipeline and ColumnTransformer use this feature and define the default style\n",
       "- Estimators will overwrite some part of the style using the `sk-estimator` class\n",
       "*/\n",
       "\n",
       "/* Pipeline and ColumnTransformer style (default) */\n",
       "\n",
       "#sk-container-id-5 div.sk-toggleable {\n",
       "  /* Default theme specific background. It is overwritten whether we have a\n",
       "  specific estimator or a Pipeline/ColumnTransformer */\n",
       "  background-color: var(--sklearn-color-background);\n",
       "}\n",
       "\n",
       "/* Toggleable label */\n",
       "#sk-container-id-5 label.sk-toggleable__label {\n",
       "  cursor: pointer;\n",
       "  display: flex;\n",
       "  width: 100%;\n",
       "  margin-bottom: 0;\n",
       "  padding: 0.5em;\n",
       "  box-sizing: border-box;\n",
       "  text-align: center;\n",
       "  align-items: start;\n",
       "  justify-content: space-between;\n",
       "  gap: 0.5em;\n",
       "}\n",
       "\n",
       "#sk-container-id-5 label.sk-toggleable__label .caption {\n",
       "  font-size: 0.6rem;\n",
       "  font-weight: lighter;\n",
       "  color: var(--sklearn-color-text-muted);\n",
       "}\n",
       "\n",
       "#sk-container-id-5 label.sk-toggleable__label-arrow:before {\n",
       "  /* Arrow on the left of the label */\n",
       "  content: \"▸\";\n",
       "  float: left;\n",
       "  margin-right: 0.25em;\n",
       "  color: var(--sklearn-color-icon);\n",
       "}\n",
       "\n",
       "#sk-container-id-5 label.sk-toggleable__label-arrow:hover:before {\n",
       "  color: var(--sklearn-color-text);\n",
       "}\n",
       "\n",
       "/* Toggleable content - dropdown */\n",
       "\n",
       "#sk-container-id-5 div.sk-toggleable__content {\n",
       "  max-height: 0;\n",
       "  max-width: 0;\n",
       "  overflow: hidden;\n",
       "  text-align: left;\n",
       "  /* unfitted */\n",
       "  background-color: var(--sklearn-color-unfitted-level-0);\n",
       "}\n",
       "\n",
       "#sk-container-id-5 div.sk-toggleable__content.fitted {\n",
       "  /* fitted */\n",
       "  background-color: var(--sklearn-color-fitted-level-0);\n",
       "}\n",
       "\n",
       "#sk-container-id-5 div.sk-toggleable__content pre {\n",
       "  margin: 0.2em;\n",
       "  border-radius: 0.25em;\n",
       "  color: var(--sklearn-color-text);\n",
       "  /* unfitted */\n",
       "  background-color: var(--sklearn-color-unfitted-level-0);\n",
       "}\n",
       "\n",
       "#sk-container-id-5 div.sk-toggleable__content.fitted pre {\n",
       "  /* unfitted */\n",
       "  background-color: var(--sklearn-color-fitted-level-0);\n",
       "}\n",
       "\n",
       "#sk-container-id-5 input.sk-toggleable__control:checked~div.sk-toggleable__content {\n",
       "  /* Expand drop-down */\n",
       "  max-height: 200px;\n",
       "  max-width: 100%;\n",
       "  overflow: auto;\n",
       "}\n",
       "\n",
       "#sk-container-id-5 input.sk-toggleable__control:checked~label.sk-toggleable__label-arrow:before {\n",
       "  content: \"▾\";\n",
       "}\n",
       "\n",
       "/* Pipeline/ColumnTransformer-specific style */\n",
       "\n",
       "#sk-container-id-5 div.sk-label input.sk-toggleable__control:checked~label.sk-toggleable__label {\n",
       "  color: var(--sklearn-color-text);\n",
       "  background-color: var(--sklearn-color-unfitted-level-2);\n",
       "}\n",
       "\n",
       "#sk-container-id-5 div.sk-label.fitted input.sk-toggleable__control:checked~label.sk-toggleable__label {\n",
       "  background-color: var(--sklearn-color-fitted-level-2);\n",
       "}\n",
       "\n",
       "/* Estimator-specific style */\n",
       "\n",
       "/* Colorize estimator box */\n",
       "#sk-container-id-5 div.sk-estimator input.sk-toggleable__control:checked~label.sk-toggleable__label {\n",
       "  /* unfitted */\n",
       "  background-color: var(--sklearn-color-unfitted-level-2);\n",
       "}\n",
       "\n",
       "#sk-container-id-5 div.sk-estimator.fitted input.sk-toggleable__control:checked~label.sk-toggleable__label {\n",
       "  /* fitted */\n",
       "  background-color: var(--sklearn-color-fitted-level-2);\n",
       "}\n",
       "\n",
       "#sk-container-id-5 div.sk-label label.sk-toggleable__label,\n",
       "#sk-container-id-5 div.sk-label label {\n",
       "  /* The background is the default theme color */\n",
       "  color: var(--sklearn-color-text-on-default-background);\n",
       "}\n",
       "\n",
       "/* On hover, darken the color of the background */\n",
       "#sk-container-id-5 div.sk-label:hover label.sk-toggleable__label {\n",
       "  color: var(--sklearn-color-text);\n",
       "  background-color: var(--sklearn-color-unfitted-level-2);\n",
       "}\n",
       "\n",
       "/* Label box, darken color on hover, fitted */\n",
       "#sk-container-id-5 div.sk-label.fitted:hover label.sk-toggleable__label.fitted {\n",
       "  color: var(--sklearn-color-text);\n",
       "  background-color: var(--sklearn-color-fitted-level-2);\n",
       "}\n",
       "\n",
       "/* Estimator label */\n",
       "\n",
       "#sk-container-id-5 div.sk-label label {\n",
       "  font-family: monospace;\n",
       "  font-weight: bold;\n",
       "  display: inline-block;\n",
       "  line-height: 1.2em;\n",
       "}\n",
       "\n",
       "#sk-container-id-5 div.sk-label-container {\n",
       "  text-align: center;\n",
       "}\n",
       "\n",
       "/* Estimator-specific */\n",
       "#sk-container-id-5 div.sk-estimator {\n",
       "  font-family: monospace;\n",
       "  border: 1px dotted var(--sklearn-color-border-box);\n",
       "  border-radius: 0.25em;\n",
       "  box-sizing: border-box;\n",
       "  margin-bottom: 0.5em;\n",
       "  /* unfitted */\n",
       "  background-color: var(--sklearn-color-unfitted-level-0);\n",
       "}\n",
       "\n",
       "#sk-container-id-5 div.sk-estimator.fitted {\n",
       "  /* fitted */\n",
       "  background-color: var(--sklearn-color-fitted-level-0);\n",
       "}\n",
       "\n",
       "/* on hover */\n",
       "#sk-container-id-5 div.sk-estimator:hover {\n",
       "  /* unfitted */\n",
       "  background-color: var(--sklearn-color-unfitted-level-2);\n",
       "}\n",
       "\n",
       "#sk-container-id-5 div.sk-estimator.fitted:hover {\n",
       "  /* fitted */\n",
       "  background-color: var(--sklearn-color-fitted-level-2);\n",
       "}\n",
       "\n",
       "/* Specification for estimator info (e.g. \"i\" and \"?\") */\n",
       "\n",
       "/* Common style for \"i\" and \"?\" */\n",
       "\n",
       ".sk-estimator-doc-link,\n",
       "a:link.sk-estimator-doc-link,\n",
       "a:visited.sk-estimator-doc-link {\n",
       "  float: right;\n",
       "  font-size: smaller;\n",
       "  line-height: 1em;\n",
       "  font-family: monospace;\n",
       "  background-color: var(--sklearn-color-background);\n",
       "  border-radius: 1em;\n",
       "  height: 1em;\n",
       "  width: 1em;\n",
       "  text-decoration: none !important;\n",
       "  margin-left: 0.5em;\n",
       "  text-align: center;\n",
       "  /* unfitted */\n",
       "  border: var(--sklearn-color-unfitted-level-1) 1pt solid;\n",
       "  color: var(--sklearn-color-unfitted-level-1);\n",
       "}\n",
       "\n",
       ".sk-estimator-doc-link.fitted,\n",
       "a:link.sk-estimator-doc-link.fitted,\n",
       "a:visited.sk-estimator-doc-link.fitted {\n",
       "  /* fitted */\n",
       "  border: var(--sklearn-color-fitted-level-1) 1pt solid;\n",
       "  color: var(--sklearn-color-fitted-level-1);\n",
       "}\n",
       "\n",
       "/* On hover */\n",
       "div.sk-estimator:hover .sk-estimator-doc-link:hover,\n",
       ".sk-estimator-doc-link:hover,\n",
       "div.sk-label-container:hover .sk-estimator-doc-link:hover,\n",
       ".sk-estimator-doc-link:hover {\n",
       "  /* unfitted */\n",
       "  background-color: var(--sklearn-color-unfitted-level-3);\n",
       "  color: var(--sklearn-color-background);\n",
       "  text-decoration: none;\n",
       "}\n",
       "\n",
       "div.sk-estimator.fitted:hover .sk-estimator-doc-link.fitted:hover,\n",
       ".sk-estimator-doc-link.fitted:hover,\n",
       "div.sk-label-container:hover .sk-estimator-doc-link.fitted:hover,\n",
       ".sk-estimator-doc-link.fitted:hover {\n",
       "  /* fitted */\n",
       "  background-color: var(--sklearn-color-fitted-level-3);\n",
       "  color: var(--sklearn-color-background);\n",
       "  text-decoration: none;\n",
       "}\n",
       "\n",
       "/* Span, style for the box shown on hovering the info icon */\n",
       ".sk-estimator-doc-link span {\n",
       "  display: none;\n",
       "  z-index: 9999;\n",
       "  position: relative;\n",
       "  font-weight: normal;\n",
       "  right: .2ex;\n",
       "  padding: .5ex;\n",
       "  margin: .5ex;\n",
       "  width: min-content;\n",
       "  min-width: 20ex;\n",
       "  max-width: 50ex;\n",
       "  color: var(--sklearn-color-text);\n",
       "  box-shadow: 2pt 2pt 4pt #999;\n",
       "  /* unfitted */\n",
       "  background: var(--sklearn-color-unfitted-level-0);\n",
       "  border: .5pt solid var(--sklearn-color-unfitted-level-3);\n",
       "}\n",
       "\n",
       ".sk-estimator-doc-link.fitted span {\n",
       "  /* fitted */\n",
       "  background: var(--sklearn-color-fitted-level-0);\n",
       "  border: var(--sklearn-color-fitted-level-3);\n",
       "}\n",
       "\n",
       ".sk-estimator-doc-link:hover span {\n",
       "  display: block;\n",
       "}\n",
       "\n",
       "/* \"?\"-specific style due to the `<a>` HTML tag */\n",
       "\n",
       "#sk-container-id-5 a.estimator_doc_link {\n",
       "  float: right;\n",
       "  font-size: 1rem;\n",
       "  line-height: 1em;\n",
       "  font-family: monospace;\n",
       "  background-color: var(--sklearn-color-background);\n",
       "  border-radius: 1rem;\n",
       "  height: 1rem;\n",
       "  width: 1rem;\n",
       "  text-decoration: none;\n",
       "  /* unfitted */\n",
       "  color: var(--sklearn-color-unfitted-level-1);\n",
       "  border: var(--sklearn-color-unfitted-level-1) 1pt solid;\n",
       "}\n",
       "\n",
       "#sk-container-id-5 a.estimator_doc_link.fitted {\n",
       "  /* fitted */\n",
       "  border: var(--sklearn-color-fitted-level-1) 1pt solid;\n",
       "  color: var(--sklearn-color-fitted-level-1);\n",
       "}\n",
       "\n",
       "/* On hover */\n",
       "#sk-container-id-5 a.estimator_doc_link:hover {\n",
       "  /* unfitted */\n",
       "  background-color: var(--sklearn-color-unfitted-level-3);\n",
       "  color: var(--sklearn-color-background);\n",
       "  text-decoration: none;\n",
       "}\n",
       "\n",
       "#sk-container-id-5 a.estimator_doc_link.fitted:hover {\n",
       "  /* fitted */\n",
       "  background-color: var(--sklearn-color-fitted-level-3);\n",
       "}\n",
       "</style><div id=\"sk-container-id-5\" class=\"sk-top-container\"><div class=\"sk-text-repr-fallback\"><pre>LogisticRegression(C=1.2, random_state=42, solver=&#x27;liblinear&#x27;)</pre><b>In a Jupyter environment, please rerun this cell to show the HTML representation or trust the notebook. <br />On GitHub, the HTML representation is unable to render, please try loading this page with nbviewer.org.</b></div><div class=\"sk-container\" hidden><div class=\"sk-item\"><div class=\"sk-estimator fitted sk-toggleable\"><input class=\"sk-toggleable__control sk-hidden--visually\" id=\"sk-estimator-id-5\" type=\"checkbox\" checked><label for=\"sk-estimator-id-5\" class=\"sk-toggleable__label fitted sk-toggleable__label-arrow\"><div><div>LogisticRegression</div></div><div><a class=\"sk-estimator-doc-link fitted\" rel=\"noreferrer\" target=\"_blank\" href=\"https://scikit-learn.org/1.6/modules/generated/sklearn.linear_model.LogisticRegression.html\">?<span>Documentation for LogisticRegression</span></a><span class=\"sk-estimator-doc-link fitted\">i<span>Fitted</span></span></div></label><div class=\"sk-toggleable__content fitted\"><pre>LogisticRegression(C=1.2, random_state=42, solver=&#x27;liblinear&#x27;)</pre></div> </div></div></div></div>"
      ],
      "text/plain": [
       "LogisticRegression(C=1.2, random_state=42, solver='liblinear')"
      ]
     },
     "execution_count": 119,
     "metadata": {},
     "output_type": "execute_result"
    }
   ],
   "source": [
    "linear_model_fin = LogisticRegression(C=1.2, random_state=42, solver='liblinear')\n",
    "\n",
    "cv_scores = cross_val_score(linear_model_fin,\n",
    "                            train_df_filtred[TRAIN_ST_COLS],\n",
    "                            train_df_filtred[TARGET_COL],\n",
    "                            cv=StratifiedKFold(n_splits=4, shuffle=True, random_state=42),\n",
    "                            scoring='roc_auc',\n",
    "                            n_jobs=4)\n",
    "\n",
    "print('CV scores', cv_scores)\n",
    "print(f'CV mean: {cv_scores.mean()}, CV std: {cv_scores.std()}')\n",
    "\n",
    "linear_model_fin.fit(train_df_filtred[TRAIN_ST_COLS],train_df_filtred[TARGET_COL])"
   ]
  },
  {
   "cell_type": "code",
   "execution_count": null,
   "id": "1b914c0b",
   "metadata": {},
   "outputs": [],
   "source": []
  },
  {
   "cell_type": "code",
   "execution_count": 120,
   "id": "fccda408",
   "metadata": {},
   "outputs": [
    {
     "name": "stdout",
     "output_type": "stream",
     "text": [
      "roc_auc_score    0.9981186821650025\n",
      "f1_score         0.8916752312435766\n",
      "bld_acc_score    0.9713435851356872\n",
      "precision_score  0.844626168224299\n",
      "recall_score     0.9442751414888986\n"
     ]
    }
   ],
   "source": [
    "preds = linear_model_fin.predict(train_df_filtred[TRAIN_ST_COLS])\n",
    "preds_proba = linear_model_fin.predict_proba(train_df_filtred[TRAIN_ST_COLS])[:,1]\n",
    "y_test = train_df_filtred[TARGET_COL]\n",
    "\n",
    "print('roc_auc_score   ', roc_auc_score(y_test, preds_proba))\n",
    "print('f1_score        ', f1_score(y_test, preds))\n",
    "print('bld_acc_score   ', balanced_accuracy_score(y_test, preds))\n",
    "print('precision_score ', precision_score(y_test, preds))\n",
    "print('recall_score    ', recall_score(y_test, preds))"
   ]
  },
  {
   "cell_type": "code",
   "execution_count": null,
   "id": "34ccdd65",
   "metadata": {},
   "outputs": [],
   "source": []
  },
  {
   "cell_type": "code",
   "execution_count": 121,
   "id": "14764707",
   "metadata": {},
   "outputs": [
    {
     "data": {
      "image/png": "[encoded data removed]",
      "text/plain": [
       "<Figure size 1008x288 with 1 Axes>"
      ]
     },
     "metadata": {
      "needs_background": "light"
     },
     "output_type": "display_data"
    }
   ],
   "source": [
    "plt.figure(figsize=(14, 4))\n",
    "sns.histplot(preds_proba, stat='density', bins=20)\n",
    "\n",
    "plt.xlabel(\"Predicted Probability for Class 1\")\n",
    "plt.ylabel(\"Density\")\n",
    "plt.title(\"Distribution of Predicted Probabilities\")\n",
    "plt.show()"
   ]
  },
  {
   "cell_type": "code",
   "execution_count": null,
   "id": "76573c94",
   "metadata": {},
   "outputs": [],
   "source": []
  },
  {
   "cell_type": "code",
   "execution_count": 122,
   "id": "783211cb",
   "metadata": {},
   "outputs": [
    {
     "data": {
      "image/png": "[encoded data removed]",
      "text/plain": [
       "<Figure size 360x360 with 1 Axes>"
      ]
     },
     "metadata": {
      "needs_background": "light"
     },
     "output_type": "display_data"
    }
   ],
   "source": [
    "# ROC CURVE\n",
    "fpr, tpr, _ = roc_curve(y_test, preds_proba)\n",
    "roc_auc = auc(fpr, tpr)\n",
    "\n",
    "plt.figure(figsize=(5,5))\n",
    "plt.plot(fpr, tpr, label=f\"ROC curve (AUC = {roc_auc:.2f})\")\n",
    "plt.plot([0, 1], [0, 1], 'k--')\n",
    "plt.xlabel(\"False Positive Rate\")\n",
    "plt.ylabel(\"True Positive Rate\")\n",
    "plt.title(\"ROC Curve\")\n",
    "plt.legend()\n",
    "plt.show()"
   ]
  },
  {
   "cell_type": "code",
   "execution_count": null,
   "id": "0891f9e8",
   "metadata": {},
   "outputs": [],
   "source": []
  },
  {
   "cell_type": "code",
   "execution_count": 123,
   "id": "29f38122",
   "metadata": {},
   "outputs": [
    {
     "data": {
      "image/png": "[encoded data removed]",
      "text/plain": [
       "<Figure size 360x360 with 1 Axes>"
      ]
     },
     "metadata": {
      "needs_background": "light"
     },
     "output_type": "display_data"
    }
   ],
   "source": [
    "# Precision-Recall Curve\n",
    "precision, recall, _ = precision_recall_curve(y_test, preds_proba)\n",
    "\n",
    "plt.figure(figsize=(5,5))\n",
    "plt.plot(recall, precision)\n",
    "plt.xlabel(\"Recall\")\n",
    "plt.ylabel(\"Precision\")\n",
    "plt.title(\"Precision-Recall Curve\")\n",
    "plt.show()"
   ]
  },
  {
   "cell_type": "code",
   "execution_count": null,
   "id": "335ddc1a",
   "metadata": {},
   "outputs": [],
   "source": []
  },
  {
   "cell_type": "code",
   "execution_count": 124,
   "id": "75cf7f46",
   "metadata": {},
   "outputs": [
    {
     "data": {
      "image/png": "[encoded data removed]",
      "text/plain": [
       "<Figure size 360x360 with 1 Axes>"
      ]
     },
     "metadata": {
      "needs_background": "light"
     },
     "output_type": "display_data"
    }
   ],
   "source": [
    "prob_true, prob_pred = calibration_curve(y_test, preds_proba, n_bins=10)\n",
    "\n",
    "plt.figure(figsize=(5,5))\n",
    "plt.plot(prob_pred, prob_true, marker='o', label='Model')\n",
    "plt.plot([0, 1], [0, 1], 'k--', label='Perfectly Calibrated')\n",
    "plt.xlabel(\"Predicted Probability\")\n",
    "plt.ylabel(\"True Frequency\")\n",
    "plt.title(\"Calibration Curve\")\n",
    "plt.legend()\n",
    "plt.grid()\n",
    "plt.show()"
   ]
  },
  {
   "cell_type": "code",
   "execution_count": null,
   "id": "5bdc1d3d",
   "metadata": {},
   "outputs": [],
   "source": []
  },
  {
   "cell_type": "code",
   "execution_count": 125,
   "id": "9634d5d6",
   "metadata": {},
   "outputs": [
    {
     "data": {
      "image/png": "[encoded data removed]",
      "text/plain": [
       "<Figure size 360x144 with 1 Axes>"
      ]
     },
     "metadata": {
      "needs_background": "light"
     },
     "output_type": "display_data"
    }
   ],
   "source": [
    "plt.figure(figsize=(5, 2))\n",
    "plt.barh(linear_model_fin.feature_names_in_, linear_model_fin.coef_[0])\n",
    "plt.xlabel('Importance')\n",
    "plt.title('CatBoost Feature Importance')\n",
    "plt.gca().invert_yaxis()\n",
    "plt.show()"
   ]
  },
  {
   "cell_type": "code",
   "execution_count": null,
   "id": "3aa13194",
   "metadata": {},
   "outputs": [],
   "source": []
  },
  {
   "cell_type": "code",
   "execution_count": null,
   "id": "5f6aafd9",
   "metadata": {},
   "outputs": [],
   "source": []
  },
  {
   "cell_type": "code",
   "execution_count": null,
   "id": "c95fde4a",
   "metadata": {},
   "outputs": [],
   "source": []
  },
  {
   "cell_type": "markdown",
   "id": "9222f9ad",
   "metadata": {},
   "source": [
    "# Predict"
   ]
  },
  {
   "cell_type": "code",
   "execution_count": 126,
   "id": "be5ca5c4",
   "metadata": {},
   "outputs": [],
   "source": [
    "# preds filtered\n",
    "test_df_filtred = filtered_by_mask(test_df).copy()\n",
    "\n",
    "test_df_filtred['preds_frst_model'] = model_first_cb.predict_proba(test_df_filtred[TRAIN_COLS])[:,1]\n",
    "\n",
    "test_df_filtred = get_words_features(test_df_filtred)\n",
    "vec_features_test = vectorizer.transform(test_df_filtred['words'])\n",
    "test_df_filtred['preds_scnd_model'] = linear_second_model.predict_proba(vec_features_test)[:,1]\n",
    "\n",
    "test_df_filtred['target_fl'] = linear_model_fin.predict_proba(test_df_filtred[TRAIN_ST_COLS])[:,1]"
   ]
  },
  {
   "cell_type": "code",
   "execution_count": 127,
   "id": "d0beb210",
   "metadata": {},
   "outputs": [],
   "source": [
    "# preds full data\n",
    "test_df['preds_frst_model'] = model_first_cb.predict_proba(test_df[TRAIN_COLS])[:,1]\n",
    "\n",
    "test_df = get_words_features(test_df)\n",
    "vec_features_test = vectorizer.transform(test_df['words'])\n",
    "test_df['preds_scnd_model'] = linear_second_model.predict_proba(vec_features_test)[:,1]\n",
    "\n",
    "test_df['target'] = linear_model_fin.predict_proba(test_df[TRAIN_ST_COLS])[:,1]"
   ]
  },
  {
   "cell_type": "code",
   "execution_count": 128,
   "id": "f8b672e0",
   "metadata": {},
   "outputs": [],
   "source": [
    "test_df = test_df.join(test_df_filtred[['target_fl']])\n",
    "test_df['target_fl'] = test_df['target_fl'].fillna(0)"
   ]
  },
  {
   "cell_type": "code",
   "execution_count": null,
   "id": "b6416415",
   "metadata": {},
   "outputs": [],
   "source": []
  },
  {
   "cell_type": "code",
   "execution_count": 129,
   "id": "fae01025",
   "metadata": {},
   "outputs": [],
   "source": [
    "test_df[['session_id', 'target']].to_csv('fin_two_mdl_predict.csv', index=False)\n",
    "test_df[['session_id', 'target_fl']].rename(columns={'target_fl':'target'}).to_csv('fin_fltd_two_mdl_predict.csv', index=False)"
   ]
  },
  {
   "cell_type": "code",
   "execution_count": null,
   "id": "440aa0ad",
   "metadata": {},
   "outputs": [],
   "source": []
  },
  {
   "cell_type": "code",
   "execution_count": 131,
   "id": "b0a6f550",
   "metadata": {},
   "outputs": [],
   "source": [
    "test_df[['session_id', 'preds_scnd_model']].rename(columns={'preds_scnd_model':'target'}).to_csv('test15.csv', index=False)"
   ]
  },
  {
   "cell_type": "code",
   "execution_count": null,
   "id": "67a37c0c",
   "metadata": {},
   "outputs": [],
   "source": []
  }
 ],
 "metadata": {
  "kernelspec": {
   "display_name": "Python 3 (ipykernel)",
   "language": "python",
   "name": "python3"
  },
  "language_info": {
   "codemirror_mode": {
    "name": "ipython",
    "version": 3
   },
   "file_extension": ".py",
   "mimetype": "text/x-python",
   "name": "python",
   "nbconvert_exporter": "python",
   "pygments_lexer": "ipython3",
   "version": "3.9.12"
  }
 },
 "nbformat": 4,
 "nbformat_minor": 5
}
